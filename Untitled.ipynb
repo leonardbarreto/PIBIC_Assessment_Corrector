{
 "cells": [
  {
   "cell_type": "markdown",
   "metadata": {},
   "source": [
    "MAPE\n",
    "======\n",
    "*Mean Absolute Percent Error (MAPE)*\n",
    "\n",
    "O MAPE (erro médio absoluto percentual) é calculado através da diferença\n",
    "entre valores estimados e reais e equivale às previsões um passo-à-frente (por\n",
    "exemplo, para o ano seguinte). Matematicamente, tem-se:\n",
    "\n",
    "quanto menor for o MAPE, melhor será a adequação do modelo, e conseqüentemente, a previsão. "
   ]
  },
  {
   "cell_type": "code",
   "execution_count": 5,
   "metadata": {
    "collapsed": false
   },
   "outputs": [
    {
     "name": "stdout",
     "output_type": "stream",
     "text": [
      "17.349604397888484\n",
      "82.65039560211152\n"
     ]
    }
   ],
   "source": [
    "import numpy as np\n",
    "\n",
    "def mean_absolute_percentage_error(y_true, y_pred): \n",
    "    y_true, y_pred = np.array(y_true), np.array(y_pred)\n",
    "    return np.mean(np.abs((y_true - y_pred) / y_true)) * 100\n",
    "\n",
    "\n",
    "exp=[3.9, 2.8, 10, 0.1, 6, 8.8, 0.9, 3.2, 0.3, 9.3, 8.9, 8.4, 3.8, 5.8, 2.5, 8.7, 4.3, 3.4, 7.9, 1, 4.1, 9.1, 6.6, 1.6, 3.1, 5, 5.4, 8.2, 8, 2.2, 6.2, 5.6, 5.9, 5.1, 3.4, 1.6, 6.2, 8.5, 5.7, 9.5  ]\n",
    "real=[3.7, 3.3, 10, 0.3, 5.1, 9.2, 0.9, 3.8, 0.5, 8.9, 8.4, 9.3, 3, 6.5, 2, 9.3, 4.3, 3.8, 8.4, 0.9, 3.6, 8.7, 5.6, 1.9, 2.1, 4.1, 5.6, 8.8, 7.8, 3.2, 5.2, 4.7, 5.8, 5.1, 3.2, 2, 6.6, 8.8, 6.4, 10.5\n",
    "]\n",
    "mape = mean_absolute_percentage_error(exp,real)\n",
    "print(mape)\n",
    "print(100-mape)"
   ]
  },
  {
   "cell_type": "code",
   "execution_count": null,
   "metadata": {
    "collapsed": true
   },
   "outputs": [],
   "source": []
  }
 ],
 "metadata": {
  "kernelspec": {
   "display_name": "Python [default]",
   "language": "python",
   "name": "python3"
  },
  "language_info": {
   "codemirror_mode": {
    "name": "ipython",
    "version": 3
   },
   "file_extension": ".py",
   "mimetype": "text/x-python",
   "name": "python",
   "nbconvert_exporter": "python",
   "pygments_lexer": "ipython3",
   "version": "3.5.2"
  }
 },
 "nbformat": 4,
 "nbformat_minor": 1
}
