{
 "cells": [
  {
   "cell_type": "markdown",
   "metadata": {},
   "source": [
    "Metodologia para validação dos resultados\n",
    "====\n",
    "* Na análise estatística, para um teste de normalidade, estamos testando a **hipótese nula** de que nossos dados  são amostrados de uma população que possui uma **distribuição normal**. Assumimos um nível de significância de 0,05 ou 95% para nossos testes, salvo indicação em contrário.\n",
    "* Passos:\n",
    "    1. As duas amostrs devem ter distribuição normal\n",
    "        - Shapiro-Wilk: The Shapiro-Wilk normality test is reputadely more well suited to smaller datasets.\n",
    "    2. As duas amostras devem ter mesma variância\n",
    "        - teste F de igualdade de variâncias\n",
    "    3. As duas amostras devem ser independentes.\n"
   ]
  },
  {
   "cell_type": "code",
   "execution_count": 3,
   "metadata": {
    "collapsed": true
   },
   "outputs": [],
   "source": [
    "exp=[3.9, 2.8, 10, 0.1, 6, 8.8, 0.9, 3.2, 0.3, 9.3, 8.9, 8.4, 3.8, 5.8, 2.5, 8.7, 4.3, 3.4, 7.9, 1, 4.1, 9.1, 6.6, 1.6, 3.1, 5, 5.4, 8.2, 8, 2.2, 6.2, 5.6, 5.9, 5.1, 3.4, 1.6, 6.2, 8.5, 5.7, 9.5  ]\n",
    "real=[3.7, 3.3, 10, 0.3, 5.1, 9.2, 0.9, 3.8, 0.5, 8.9, 8.4, 9.3, 3, 6.5, 2, 9.3, 4.3, 3.8, 8.4, 0.9, 3.6, 8.7, 5.6, 1.9, 2.1, 4.1, 5.6, 8.8, 7.8, 3.2, 5.2, 4.7, 5.8, 5.1, 3.2, 2, 6.6, 8.8, 6.4, 10.5\n",
    "]"
   ]
  },
  {
   "cell_type": "markdown",
   "metadata": {},
   "source": [
    "Verificar se as amostras possuem distribuição normal\n",
    "======"
   ]
  },
  {
   "cell_type": "markdown",
   "metadata": {},
   "source": [
    " ### Graficamente"
   ]
  },
  {
   "cell_type": "code",
   "execution_count": 4,
   "metadata": {
    "collapsed": false
   },
   "outputs": [
    {
     "name": "stdout",
     "output_type": "stream",
     "text": [
      "<class 'list'>\n"
     ]
    },
    {
     "data": {
      "image/png": "[encoded data removed]",
      "text/plain": [
       "<Figure size 432x288 with 1 Axes>"
      ]
     },
     "metadata": {},
     "output_type": "display_data"
    }
   ],
   "source": [
    "import numpy as np \n",
    "import pylab \n",
    "import scipy.stats as stats\n",
    "\n",
    "stats.probplot(exp, dist=\"norm\", plot=pylab)\n",
    "pylab.show()\n"
   ]
  },
  {
   "cell_type": "code",
   "execution_count": 3,
   "metadata": {
    "collapsed": false
   },
   "outputs": [
    {
     "data": {
      "image/png": "[encoded data removed]",
      "text/plain": [
       "<Figure size 432x288 with 1 Axes>"
      ]
     },
     "metadata": {},
     "output_type": "display_data"
    }
   ],
   "source": [
    "stats.probplot(real, dist=\"norm\", plot=pylab)\n",
    "pylab.show()"
   ]
  },
  {
   "cell_type": "markdown",
   "metadata": {},
   "source": [
    " ### Shapiro-Wilk"
   ]
  },
  {
   "cell_type": "code",
   "execution_count": 8,
   "metadata": {
    "collapsed": false
   },
   "outputs": [
    {
     "data": {
      "text/html": [
       "<script>requirejs.config({paths: { 'plotly': ['https://cdn.plot.ly/plotly-latest.min']},});if(!window.Plotly) {{require(['plotly'],function(plotly) {window.Plotly=plotly;});}}</script>"
      ],
      "text/vnd.plotly.v1+html": [
       "<script>requirejs.config({paths: { 'plotly': ['https://cdn.plot.ly/plotly-latest.min']},});if(!window.Plotly) {{require(['plotly'],function(plotly) {window.Plotly=plotly;});}}</script>"
      ]
     },
     "metadata": {},
     "output_type": "display_data"
    }
   ],
   "source": [
    "init_notebook_mode(connected=True)\n",
    "from plotly import __version__\n",
    "from plotly.offline import download_plotlyjs, init_notebook_mode, plot, iplot \n",
    "from plotly.graph_objs import Scatter, Figure, Layout\n",
    "import plotly.figure_factory as ff\n",
    "\n",
    "import numpy as np\n",
    "import pandas as pd\n",
    "import scipy\n",
    "from plotly.graph_objs import Scatter, Figure, Layout\n",
    "\n",
    "def sw_table(amostra):\n",
    "    shapiro_results = scipy.stats.shapiro(amostra)\n",
    "    \n",
    "    matrix_sw = [\n",
    "        ['', 'DF', 'Test Statistic', 'p-value'],\n",
    "        ['Sample Data', len(amostra) - 1, shapiro_results[0], shapiro_results[1]]\n",
    "    ]\n",
    "\n",
    "    shapiro_table = ff.create_table(matrix_sw, index=True)\n",
    "    iplot(shapiro_table, filename='shapiro-table')\n"
   ]
  },
  {
   "cell_type": "code",
   "execution_count": 9,
   "metadata": {
    "collapsed": false
   },
   "outputs": [
    {
     "data": {
      "application/vnd.plotly.v1+json": {
       "data": [
        {
         "colorscale": [
          [
           0,
           "#00083e"
          ],
          [
           0.5,
           "#ededee"
          ],
          [
           1,
           "#ffffff"
          ]
         ],
         "hoverinfo": "none",
         "opacity": 0.75,
         "showscale": false,
         "type": "heatmap",
         "z": [
          [
           0,
           0,
           0,
           0
          ],
          [
           0,
           0.5,
           0.5,
           0.5
          ]
         ]
        }
       ],
       "layout": {
        "annotations": [
         {
          "align": "left",
          "font": {
           "color": "#ffffff"
          },
          "showarrow": false,
          "text": "<b></b>",
          "x": -0.45,
          "xanchor": "left",
          "xref": "x1",
          "y": 0,
          "yref": "y1"
         },
         {
          "align": "left",
          "font": {
           "color": "#ffffff"
          },
          "showarrow": false,
          "text": "<b>DF</b>",
          "x": 0.55,
          "xanchor": "left",
          "xref": "x1",
          "y": 0,
          "yref": "y1"
         },
         {
          "align": "left",
          "font": {
           "color": "#ffffff"
          },
          "showarrow": false,
          "text": "<b>Test Statistic</b>",
          "x": 1.55,
          "xanchor": "left",
          "xref": "x1",
          "y": 0,
          "yref": "y1"
         },
         {
          "align": "left",
          "font": {
           "color": "#ffffff"
          },
          "showarrow": false,
          "text": "<b>p-value</b>",
          "x": 2.55,
          "xanchor": "left",
          "xref": "x1",
          "y": 0,
          "yref": "y1"
         },
         {
          "align": "left",
          "font": {
           "color": "#ffffff"
          },
          "showarrow": false,
          "text": "<b>Sample Data</b>",
          "x": -0.45,
          "xanchor": "left",
          "xref": "x1",
          "y": 1,
          "yref": "y1"
         },
         {
          "align": "left",
          "font": {
           "color": "#000000"
          },
          "showarrow": false,
          "text": "39",
          "x": 0.55,
          "xanchor": "left",
          "xref": "x1",
          "y": 1,
          "yref": "y1"
         },
         {
          "align": "left",
          "font": {
           "color": "#000000"
          },
          "showarrow": false,
          "text": "0.9507225155830383",
          "x": 1.55,
          "xanchor": "left",
          "xref": "x1",
          "y": 1,
          "yref": "y1"
         },
         {
          "align": "left",
          "font": {
           "color": "#000000"
          },
          "showarrow": false,
          "text": "0.08029958605766296",
          "x": 2.55,
          "xanchor": "left",
          "xref": "x1",
          "y": 1,
          "yref": "y1"
         }
        ],
        "height": 110,
        "margin": {
         "b": 0,
         "l": 0,
         "r": 0,
         "t": 0
        },
        "xaxis": {
         "dtick": 1,
         "gridwidth": 2,
         "showticklabels": false,
         "tick0": -0.5,
         "ticks": "",
         "zeroline": false
        },
        "yaxis": {
         "autorange": "reversed",
         "dtick": 1,
         "gridwidth": 2,
         "showticklabels": false,
         "tick0": 0.5,
         "ticks": "",
         "zeroline": false
        }
       }
      },
      "text/html": [
       "<div id=\"b3976267-e98c-40ae-ab48-f36bb47fb7d7\" style=\"height: 110px; width: 100%;\" class=\"plotly-graph-div\"></div><script type=\"text/javascript\">require([\"plotly\"], function(Plotly) { window.PLOTLYENV=window.PLOTLYENV || {};window.PLOTLYENV.BASE_URL=\"https://plot.ly\";Plotly.newPlot(\"b3976267-e98c-40ae-ab48-f36bb47fb7d7\", [{\"showscale\": false, \"z\": [[0, 0, 0, 0], [0, 0.5, 0.5, 0.5]], \"hoverinfo\": \"none\", \"colorscale\": [[0, \"#00083e\"], [0.5, \"#ededee\"], [1, \"#ffffff\"]], \"opacity\": 0.75, \"type\": \"heatmap\"}], {\"xaxis\": {\"gridwidth\": 2, \"zeroline\": false, \"ticks\": \"\", \"tick0\": -0.5, \"showticklabels\": false, \"dtick\": 1}, \"height\": 110, \"yaxis\": {\"gridwidth\": 2, \"autorange\": \"reversed\", \"zeroline\": false, \"ticks\": \"\", \"tick0\": 0.5, \"showticklabels\": false, \"dtick\": 1}, \"margin\": {\"l\": 0, \"r\": 0, \"t\": 0, \"b\": 0}, \"annotations\": [{\"xanchor\": \"left\", \"y\": 0, \"x\": -0.45, \"text\": \"<b></b>\", \"align\": \"left\", \"font\": {\"color\": \"#ffffff\"}, \"yref\": \"y1\", \"xref\": \"x1\", \"showarrow\": false}, {\"xanchor\": \"left\", \"y\": 0, \"x\": 0.55, \"text\": \"<b>DF</b>\", \"align\": \"left\", \"font\": {\"color\": \"#ffffff\"}, \"yref\": \"y1\", \"xref\": \"x1\", \"showarrow\": false}, {\"xanchor\": \"left\", \"y\": 0, \"x\": 1.55, \"text\": \"<b>Test Statistic</b>\", \"align\": \"left\", \"font\": {\"color\": \"#ffffff\"}, \"yref\": \"y1\", \"xref\": \"x1\", \"showarrow\": false}, {\"xanchor\": \"left\", \"y\": 0, \"x\": 2.55, \"text\": \"<b>p-value</b>\", \"align\": \"left\", \"font\": {\"color\": \"#ffffff\"}, \"yref\": \"y1\", \"xref\": \"x1\", \"showarrow\": false}, {\"xanchor\": \"left\", \"y\": 1, \"x\": -0.45, \"text\": \"<b>Sample Data</b>\", \"align\": \"left\", \"font\": {\"color\": \"#ffffff\"}, \"yref\": \"y1\", \"xref\": \"x1\", \"showarrow\": false}, {\"xanchor\": \"left\", \"y\": 1, \"x\": 0.55, \"text\": \"39\", \"align\": \"left\", \"font\": {\"color\": \"#000000\"}, \"yref\": \"y1\", \"xref\": \"x1\", \"showarrow\": false}, {\"xanchor\": \"left\", \"y\": 1, \"x\": 1.55, \"text\": \"0.9507225155830383\", \"align\": \"left\", \"font\": {\"color\": \"#000000\"}, \"yref\": \"y1\", \"xref\": \"x1\", \"showarrow\": false}, {\"xanchor\": \"left\", \"y\": 1, \"x\": 2.55, \"text\": \"0.08029958605766296\", \"align\": \"left\", \"font\": {\"color\": \"#000000\"}, \"yref\": \"y1\", \"xref\": \"x1\", \"showarrow\": false}]}, {\"showLink\": true, \"linkText\": \"Export to plot.ly\"})});</script>"
      ],
      "text/vnd.plotly.v1+html": [
       "<div id=\"b3976267-e98c-40ae-ab48-f36bb47fb7d7\" style=\"height: 110px; width: 100%;\" class=\"plotly-graph-div\"></div><script type=\"text/javascript\">require([\"plotly\"], function(Plotly) { window.PLOTLYENV=window.PLOTLYENV || {};window.PLOTLYENV.BASE_URL=\"https://plot.ly\";Plotly.newPlot(\"b3976267-e98c-40ae-ab48-f36bb47fb7d7\", [{\"showscale\": false, \"z\": [[0, 0, 0, 0], [0, 0.5, 0.5, 0.5]], \"hoverinfo\": \"none\", \"colorscale\": [[0, \"#00083e\"], [0.5, \"#ededee\"], [1, \"#ffffff\"]], \"opacity\": 0.75, \"type\": \"heatmap\"}], {\"xaxis\": {\"gridwidth\": 2, \"zeroline\": false, \"ticks\": \"\", \"tick0\": -0.5, \"showticklabels\": false, \"dtick\": 1}, \"height\": 110, \"yaxis\": {\"gridwidth\": 2, \"autorange\": \"reversed\", \"zeroline\": false, \"ticks\": \"\", \"tick0\": 0.5, \"showticklabels\": false, \"dtick\": 1}, \"margin\": {\"l\": 0, \"r\": 0, \"t\": 0, \"b\": 0}, \"annotations\": [{\"xanchor\": \"left\", \"y\": 0, \"x\": -0.45, \"text\": \"<b></b>\", \"align\": \"left\", \"font\": {\"color\": \"#ffffff\"}, \"yref\": \"y1\", \"xref\": \"x1\", \"showarrow\": false}, {\"xanchor\": \"left\", \"y\": 0, \"x\": 0.55, \"text\": \"<b>DF</b>\", \"align\": \"left\", \"font\": {\"color\": \"#ffffff\"}, \"yref\": \"y1\", \"xref\": \"x1\", \"showarrow\": false}, {\"xanchor\": \"left\", \"y\": 0, \"x\": 1.55, \"text\": \"<b>Test Statistic</b>\", \"align\": \"left\", \"font\": {\"color\": \"#ffffff\"}, \"yref\": \"y1\", \"xref\": \"x1\", \"showarrow\": false}, {\"xanchor\": \"left\", \"y\": 0, \"x\": 2.55, \"text\": \"<b>p-value</b>\", \"align\": \"left\", \"font\": {\"color\": \"#ffffff\"}, \"yref\": \"y1\", \"xref\": \"x1\", \"showarrow\": false}, {\"xanchor\": \"left\", \"y\": 1, \"x\": -0.45, \"text\": \"<b>Sample Data</b>\", \"align\": \"left\", \"font\": {\"color\": \"#ffffff\"}, \"yref\": \"y1\", \"xref\": \"x1\", \"showarrow\": false}, {\"xanchor\": \"left\", \"y\": 1, \"x\": 0.55, \"text\": \"39\", \"align\": \"left\", \"font\": {\"color\": \"#000000\"}, \"yref\": \"y1\", \"xref\": \"x1\", \"showarrow\": false}, {\"xanchor\": \"left\", \"y\": 1, \"x\": 1.55, \"text\": \"0.9507225155830383\", \"align\": \"left\", \"font\": {\"color\": \"#000000\"}, \"yref\": \"y1\", \"xref\": \"x1\", \"showarrow\": false}, {\"xanchor\": \"left\", \"y\": 1, \"x\": 2.55, \"text\": \"0.08029958605766296\", \"align\": \"left\", \"font\": {\"color\": \"#000000\"}, \"yref\": \"y1\", \"xref\": \"x1\", \"showarrow\": false}]}, {\"showLink\": true, \"linkText\": \"Export to plot.ly\"})});</script>"
      ]
     },
     "metadata": {},
     "output_type": "display_data"
    }
   ],
   "source": [
    "sw_table(real)"
   ]
  },
  {
   "cell_type": "code",
   "execution_count": 10,
   "metadata": {
    "collapsed": false
   },
   "outputs": [
    {
     "data": {
      "application/vnd.plotly.v1+json": {
       "data": [
        {
         "colorscale": [
          [
           0,
           "#00083e"
          ],
          [
           0.5,
           "#ededee"
          ],
          [
           1,
           "#ffffff"
          ]
         ],
         "hoverinfo": "none",
         "opacity": 0.75,
         "showscale": false,
         "type": "heatmap",
         "z": [
          [
           0,
           0,
           0,
           0
          ],
          [
           0,
           0.5,
           0.5,
           0.5
          ]
         ]
        }
       ],
       "layout": {
        "annotations": [
         {
          "align": "left",
          "font": {
           "color": "#ffffff"
          },
          "showarrow": false,
          "text": "<b></b>",
          "x": -0.45,
          "xanchor": "left",
          "xref": "x1",
          "y": 0,
          "yref": "y1"
         },
         {
          "align": "left",
          "font": {
           "color": "#ffffff"
          },
          "showarrow": false,
          "text": "<b>DF</b>",
          "x": 0.55,
          "xanchor": "left",
          "xref": "x1",
          "y": 0,
          "yref": "y1"
         },
         {
          "align": "left",
          "font": {
           "color": "#ffffff"
          },
          "showarrow": false,
          "text": "<b>Test Statistic</b>",
          "x": 1.55,
          "xanchor": "left",
          "xref": "x1",
          "y": 0,
          "yref": "y1"
         },
         {
          "align": "left",
          "font": {
           "color": "#ffffff"
          },
          "showarrow": false,
          "text": "<b>p-value</b>",
          "x": 2.55,
          "xanchor": "left",
          "xref": "x1",
          "y": 0,
          "yref": "y1"
         },
         {
          "align": "left",
          "font": {
           "color": "#ffffff"
          },
          "showarrow": false,
          "text": "<b>Sample Data</b>",
          "x": -0.45,
          "xanchor": "left",
          "xref": "x1",
          "y": 1,
          "yref": "y1"
         },
         {
          "align": "left",
          "font": {
           "color": "#000000"
          },
          "showarrow": false,
          "text": "39",
          "x": 0.55,
          "xanchor": "left",
          "xref": "x1",
          "y": 1,
          "yref": "y1"
         },
         {
          "align": "left",
          "font": {
           "color": "#000000"
          },
          "showarrow": false,
          "text": "0.9559473395347595",
          "x": 1.55,
          "xanchor": "left",
          "xref": "x1",
          "y": 1,
          "yref": "y1"
         },
         {
          "align": "left",
          "font": {
           "color": "#000000"
          },
          "showarrow": false,
          "text": "0.12156685441732407",
          "x": 2.55,
          "xanchor": "left",
          "xref": "x1",
          "y": 1,
          "yref": "y1"
         }
        ],
        "height": 110,
        "margin": {
         "b": 0,
         "l": 0,
         "r": 0,
         "t": 0
        },
        "xaxis": {
         "dtick": 1,
         "gridwidth": 2,
         "showticklabels": false,
         "tick0": -0.5,
         "ticks": "",
         "zeroline": false
        },
        "yaxis": {
         "autorange": "reversed",
         "dtick": 1,
         "gridwidth": 2,
         "showticklabels": false,
         "tick0": 0.5,
         "ticks": "",
         "zeroline": false
        }
       }
      },
      "text/html": [
       "<div id=\"939335ee-a8a6-4bdd-831e-57058c10b975\" style=\"height: 110px; width: 100%;\" class=\"plotly-graph-div\"></div><script type=\"text/javascript\">require([\"plotly\"], function(Plotly) { window.PLOTLYENV=window.PLOTLYENV || {};window.PLOTLYENV.BASE_URL=\"https://plot.ly\";Plotly.newPlot(\"939335ee-a8a6-4bdd-831e-57058c10b975\", [{\"showscale\": false, \"z\": [[0, 0, 0, 0], [0, 0.5, 0.5, 0.5]], \"hoverinfo\": \"none\", \"colorscale\": [[0, \"#00083e\"], [0.5, \"#ededee\"], [1, \"#ffffff\"]], \"opacity\": 0.75, \"type\": \"heatmap\"}], {\"xaxis\": {\"gridwidth\": 2, \"zeroline\": false, \"ticks\": \"\", \"tick0\": -0.5, \"showticklabels\": false, \"dtick\": 1}, \"height\": 110, \"yaxis\": {\"gridwidth\": 2, \"autorange\": \"reversed\", \"zeroline\": false, \"ticks\": \"\", \"tick0\": 0.5, \"showticklabels\": false, \"dtick\": 1}, \"margin\": {\"l\": 0, \"r\": 0, \"t\": 0, \"b\": 0}, \"annotations\": [{\"xanchor\": \"left\", \"y\": 0, \"x\": -0.45, \"text\": \"<b></b>\", \"align\": \"left\", \"font\": {\"color\": \"#ffffff\"}, \"yref\": \"y1\", \"xref\": \"x1\", \"showarrow\": false}, {\"xanchor\": \"left\", \"y\": 0, \"x\": 0.55, \"text\": \"<b>DF</b>\", \"align\": \"left\", \"font\": {\"color\": \"#ffffff\"}, \"yref\": \"y1\", \"xref\": \"x1\", \"showarrow\": false}, {\"xanchor\": \"left\", \"y\": 0, \"x\": 1.55, \"text\": \"<b>Test Statistic</b>\", \"align\": \"left\", \"font\": {\"color\": \"#ffffff\"}, \"yref\": \"y1\", \"xref\": \"x1\", \"showarrow\": false}, {\"xanchor\": \"left\", \"y\": 0, \"x\": 2.55, \"text\": \"<b>p-value</b>\", \"align\": \"left\", \"font\": {\"color\": \"#ffffff\"}, \"yref\": \"y1\", \"xref\": \"x1\", \"showarrow\": false}, {\"xanchor\": \"left\", \"y\": 1, \"x\": -0.45, \"text\": \"<b>Sample Data</b>\", \"align\": \"left\", \"font\": {\"color\": \"#ffffff\"}, \"yref\": \"y1\", \"xref\": \"x1\", \"showarrow\": false}, {\"xanchor\": \"left\", \"y\": 1, \"x\": 0.55, \"text\": \"39\", \"align\": \"left\", \"font\": {\"color\": \"#000000\"}, \"yref\": \"y1\", \"xref\": \"x1\", \"showarrow\": false}, {\"xanchor\": \"left\", \"y\": 1, \"x\": 1.55, \"text\": \"0.9559473395347595\", \"align\": \"left\", \"font\": {\"color\": \"#000000\"}, \"yref\": \"y1\", \"xref\": \"x1\", \"showarrow\": false}, {\"xanchor\": \"left\", \"y\": 1, \"x\": 2.55, \"text\": \"0.12156685441732407\", \"align\": \"left\", \"font\": {\"color\": \"#000000\"}, \"yref\": \"y1\", \"xref\": \"x1\", \"showarrow\": false}]}, {\"showLink\": true, \"linkText\": \"Export to plot.ly\"})});</script>"
      ],
      "text/vnd.plotly.v1+html": [
       "<div id=\"939335ee-a8a6-4bdd-831e-57058c10b975\" style=\"height: 110px; width: 100%;\" class=\"plotly-graph-div\"></div><script type=\"text/javascript\">require([\"plotly\"], function(Plotly) { window.PLOTLYENV=window.PLOTLYENV || {};window.PLOTLYENV.BASE_URL=\"https://plot.ly\";Plotly.newPlot(\"939335ee-a8a6-4bdd-831e-57058c10b975\", [{\"showscale\": false, \"z\": [[0, 0, 0, 0], [0, 0.5, 0.5, 0.5]], \"hoverinfo\": \"none\", \"colorscale\": [[0, \"#00083e\"], [0.5, \"#ededee\"], [1, \"#ffffff\"]], \"opacity\": 0.75, \"type\": \"heatmap\"}], {\"xaxis\": {\"gridwidth\": 2, \"zeroline\": false, \"ticks\": \"\", \"tick0\": -0.5, \"showticklabels\": false, \"dtick\": 1}, \"height\": 110, \"yaxis\": {\"gridwidth\": 2, \"autorange\": \"reversed\", \"zeroline\": false, \"ticks\": \"\", \"tick0\": 0.5, \"showticklabels\": false, \"dtick\": 1}, \"margin\": {\"l\": 0, \"r\": 0, \"t\": 0, \"b\": 0}, \"annotations\": [{\"xanchor\": \"left\", \"y\": 0, \"x\": -0.45, \"text\": \"<b></b>\", \"align\": \"left\", \"font\": {\"color\": \"#ffffff\"}, \"yref\": \"y1\", \"xref\": \"x1\", \"showarrow\": false}, {\"xanchor\": \"left\", \"y\": 0, \"x\": 0.55, \"text\": \"<b>DF</b>\", \"align\": \"left\", \"font\": {\"color\": \"#ffffff\"}, \"yref\": \"y1\", \"xref\": \"x1\", \"showarrow\": false}, {\"xanchor\": \"left\", \"y\": 0, \"x\": 1.55, \"text\": \"<b>Test Statistic</b>\", \"align\": \"left\", \"font\": {\"color\": \"#ffffff\"}, \"yref\": \"y1\", \"xref\": \"x1\", \"showarrow\": false}, {\"xanchor\": \"left\", \"y\": 0, \"x\": 2.55, \"text\": \"<b>p-value</b>\", \"align\": \"left\", \"font\": {\"color\": \"#ffffff\"}, \"yref\": \"y1\", \"xref\": \"x1\", \"showarrow\": false}, {\"xanchor\": \"left\", \"y\": 1, \"x\": -0.45, \"text\": \"<b>Sample Data</b>\", \"align\": \"left\", \"font\": {\"color\": \"#ffffff\"}, \"yref\": \"y1\", \"xref\": \"x1\", \"showarrow\": false}, {\"xanchor\": \"left\", \"y\": 1, \"x\": 0.55, \"text\": \"39\", \"align\": \"left\", \"font\": {\"color\": \"#000000\"}, \"yref\": \"y1\", \"xref\": \"x1\", \"showarrow\": false}, {\"xanchor\": \"left\", \"y\": 1, \"x\": 1.55, \"text\": \"0.9559473395347595\", \"align\": \"left\", \"font\": {\"color\": \"#000000\"}, \"yref\": \"y1\", \"xref\": \"x1\", \"showarrow\": false}, {\"xanchor\": \"left\", \"y\": 1, \"x\": 2.55, \"text\": \"0.12156685441732407\", \"align\": \"left\", \"font\": {\"color\": \"#000000\"}, \"yref\": \"y1\", \"xref\": \"x1\", \"showarrow\": false}]}, {\"showLink\": true, \"linkText\": \"Export to plot.ly\"})});</script>"
      ]
     },
     "metadata": {},
     "output_type": "display_data"
    }
   ],
   "source": [
    "sw_table(exp)"
   ]
  },
  {
   "cell_type": "markdown",
   "metadata": {},
   "source": [
    "Como nosso valor de p é muito menor do que nossa estatística de teste, \n",
    "temos boas evidências para não rejeitar a hipótese nula no nível de significância de 0,05."
   ]
  },
  {
   "cell_type": "markdown",
   "metadata": {},
   "source": [
    "  2) As duas amostras devem ter mesma variância\n",
    "  ===  "
   ]
  },
  {
   "cell_type": "markdown",
   "metadata": {},
   "source": [
    "### Verificar se as variâncias são iguais"
   ]
  },
  {
   "cell_type": "code",
   "execution_count": 11,
   "metadata": {
    "collapsed": false
   },
   "outputs": [
    {
     "name": "stdout",
     "output_type": "stream",
     "text": [
      "7.952875000000001\n"
     ]
    }
   ],
   "source": [
    "print(np.var(exp,dtype=np.float64))"
   ]
  },
  {
   "cell_type": "code",
   "execution_count": 12,
   "metadata": {
    "collapsed": false
   },
   "outputs": [
    {
     "name": "stdout",
     "output_type": "stream",
     "text": [
      "8.42194375\n"
     ]
    }
   ],
   "source": [
    "print(np.var(real,dtype=np.float64))"
   ]
  },
  {
   "cell_type": "markdown",
   "metadata": {},
   "source": [
    "#### Teste de Levene\n",
    "https://docs.scipy.org/doc/scipy-0.14.0/reference/generated/scipy.stats.levene.html"
   ]
  },
  {
   "cell_type": "code",
   "execution_count": 13,
   "metadata": {
    "collapsed": false
   },
   "outputs": [
    {
     "data": {
      "text/plain": [
       "F_onewayResult(statistic=0.00013397094853340123, pvalue=0.9907945796444755)"
      ]
     },
     "execution_count": 13,
     "metadata": {},
     "output_type": "execute_result"
    }
   ],
   "source": []
  },
  {
   "cell_type": "code",
   "execution_count": null,
   "metadata": {
    "collapsed": false
   },
   "outputs": [],
   "source": []
  },
  {
   "cell_type": "markdown",
   "metadata": {},
   "source": [
    "MAPE\n",
    "======\n",
    "*Mean Absolute Percent Error (MAPE)*\n",
    "\n",
    "O MAPE (erro médio absoluto percentual) é calculado através da diferença\n",
    "entre valores estimados e reais e equivale às previsões um passo-à-frente (por\n",
    "exemplo, para o ano seguinte). Matematicamente, tem-se:\n",
    "\n",
    "quanto menor for o MAPE, melhor será a adequação do modelo, e conseqüentemente, a previsão. "
   ]
  },
  {
   "cell_type": "code",
   "execution_count": null,
   "metadata": {
    "collapsed": false
   },
   "outputs": [],
   "source": [
    "import numpy as np\n",
    "\n",
    "def mean_absolute_percentage_error(y_true, y_pred): \n",
    "    y_true, y_pred = np.array(y_true), np.array(y_pred)\n",
    "    return np.mean(np.abs((y_true - y_pred) / y_true)) * 100\n",
    "\n",
    "mape = mean_absolute_percentage_error(exp,real)\n",
    "print(mape)\n",
    "print(100-mape)"
   ]
  },
  {
   "cell_type": "markdown",
   "metadata": {
    "collapsed": true
   },
   "source": [
    "T-student\n",
    "=====\n",
    "o teste t de Student pode ser utilizado para avaliar se há diferença significativa entre as médias de duas amostras\n",
    "> Entrada: duas amostras\n",
    "> Saída: dois valores onde\n",
    "* O primeiro valor corresponde ao valor T \n",
    "* e o segundo corresponde ao valor p (two-tailed).\n"
   ]
  },
  {
   "cell_type": "code",
   "execution_count": 14,
   "metadata": {
    "collapsed": false
   },
   "outputs": [
    {
     "data": {
      "text/plain": [
       "Ttest_indResult(statistic=-0.011574582002535121, pvalue=0.9907945796446275)"
      ]
     },
     "execution_count": 14,
     "metadata": {},
     "output_type": "execute_result"
    }
   ],
   "source": [
    "from scipy import stats\n",
    "stats.ttest_ind(exp,real)"
   ]
  }
 ],
 "metadata": {
  "anaconda-cloud": {},
  "kernelspec": {
   "display_name": "Python [default]",
   "language": "python",
   "name": "python3"
  },
  "language_info": {
   "codemirror_mode": {
    "name": "ipython",
    "version": 3
   },
   "file_extension": ".py",
   "mimetype": "text/x-python",
   "name": "python",
   "nbconvert_exporter": "python",
   "pygments_lexer": "ipython3",
   "version": "3.5.4"
  }
 },
 "nbformat": 4,
 "nbformat_minor": 1
}
