{
 "cells": [
  {
   "cell_type": "markdown",
   "metadata": {},
   "source": [
    "Projeto IC\n",
    "====\n",
    "\n",
    "Etapas\n",
    "1. Coleta\n",
    "> Carregamento dos arquivos texto contendo as respostas. Formato dos arquivos.txt descrito em README.\n",
    "> Cada documento será carregado em um DataFrame no formato ['nota','resposta']\n",
    "2. Pré-processamento\n",
    "> Criação de um dicionário de sinônimos baseado no gabarito no formato [key,[values]], onde key=termo do gabarito, e [values] lista de sinônimos de key. \n",
    "> Criação de um thesaurus com palavras referentes ao tema tratado.\n",
    "> Adequação textual das respostas:\n",
    "> * Remoção de pontuação e caracteres especiais\n",
    "> * Remoção de stopwords\n",
    "> * Dicionário de sinônimos: construção e substituição dos sinônimos pela chave (key) do dicionário;\n",
    "> * substituição dos termos específicos (thesaurus);\n",
    "3. Processamento\n",
    "> Avaliar a similaridade dos textos de acordo com métricas baseada em:\n",
    "> 1. String\n",
    "> 2. Fuzzy\n",
    "> 3. Termos\n",
    "    * Transformação dos textos para: Tokenização e representação dos textos para a abordagem BOW\n",
    "    * Comparar segundo métricas cosseno e distância euclideana\n",
    "\n",
    "4. Análise e validação\n",
    "> A comparação entre as notas reais e as calculadas por cada uma das medidas na etapa 3 será validada pelo **Teste T**"
   ]
  },
  {
   "cell_type": "markdown",
   "metadata": {},
   "source": [
    "### Etapa 1: COLETA"
   ]
  },
  {
   "cell_type": "code",
   "execution_count": 1,
   "metadata": {
    "collapsed": false
   },
   "outputs": [
    {
     "name": "stdout",
     "output_type": "stream",
     "text": [
      "   Notas                                          Respostas\n",
      "0    0.5  DSC - Controlador Digital de Sinais. DSP - Pro...\n",
      "1      0  watchdog timer: esse temporizador reinicializa...\n",
      "2    1.0  Um desvio em um programa ocorre quando alguma ...\n",
      "3    0.5  Incondicional -> ocorre independente de qualqu...\n",
      "4    1.7  Ocorre quando um programa sai da sua sequencia...\n",
      "5    1.0  Desvio condicional e incondicional. Desvio inc...\n",
      "6    2.0  O desvio no programa ocorre sempre que o progr...\n",
      "7    0.5  Desvio acontece quando há necessidade do opera...\n",
      "8    1.8  O desvio de programa ocorre sempre que o progr...\n",
      "9    1.8  O desvio no programa ocorre sempre que o progr...\n",
      "10   1.8  O desvio ocorre sempre que o programa sai de s...\n",
      "11   1.5  Quando ocorre um desvio, a instrução que já fo...\n",
      "12   0.9  Quando da problema no registrador (program cou...\n",
      "13   2.0  O desvio no programa ocorre sempre que o progr...\n",
      "14   0.2  Ocorre quando o programa sai da frequencia nom...\n"
     ]
    }
   ],
   "source": [
    "import os\n",
    "from itertools import islice\n",
    "import pandas as pd\n",
    "\n",
    "path=\"/home/leonard/Faculdades/ESTACIO/Projetos/IC/2017-2018/Luiz/Dados/SistMicroprocessadores\"\n",
    "def encontraArquivosEmPastaRecursivamente(pasta, extensao):\n",
    "    arquivosTxt = []\n",
    "    caminhoAbsoluto = os.path.abspath(pasta)\n",
    "    for pastaAtual, subPastas, arquivos  in os.walk(caminhoAbsoluto):\n",
    "        arquivosTxt.extend([os.path.join(pastaAtual,arquivo) for arquivo in arquivos if arquivo.endswith('.txt')])\n",
    "    return arquivosTxt\n",
    "\n",
    "\n",
    "arquivos = encontraArquivosEmPastaRecursivamente(path, '.txt')\n",
    "\n",
    "'''\n",
    "Padrão do arquivo\n",
    "1a linha: <nota atribuída> de <valor da questão>\n",
    "2a linha: em branco\n",
    "3a linha em diante: resposta\n",
    "'''\n",
    "\n",
    "notas_respostas=[]\n",
    "corpus_respostas=[]\n",
    "for a in arquivos:\n",
    "    arq = open(a,'r')\n",
    "    with open(a) as lines:\n",
    "        #lines = arq.readlines()\n",
    "        lines = [lines.rstrip(\"\\n\") for lines in arq] #retirar o caracter de fim de linha\n",
    "        # then skip the next 2\n",
    "        #notas_respostas=lines.split(' ',1)[0] #pegar a 1a palavra da 1a linha, que é a nota \n",
    "        notas_respostas.append(lines[0].split(' ',1)[0])\n",
    "        for line in islice(lines, 3): #Começar a ler o arquivo da 3a linha\n",
    "            pass\n",
    "        corpus_respostas.append(line)\n",
    "    arq.close()\n",
    "\n",
    "# Inserir as notas e as respostas no DataFrame\n",
    "df = pd.DataFrame({'Notas':notas_respostas,'Respostas':corpus_respostas})\n",
    "\n",
    "gabarito = 'O desvio no programa ocorre sempre que o programa sai da sequência normal de execução. Existem basicamente dois tipos de desvio: desvio incondicional e desvio condicional. O desvio incondicional ocorre quando o programa sai da sequência normal de execução e é desviado para outro ponto da memória de programa independente de qualquer condição; o desvio ocorre sem depender de nada. Um exemplo de um desvio incondicional é aquele provocado pela instrução GOTO. No desvio condicional, uma condição deve ser satisfeita para que o desvio ocorra. Normalmente uma determinada condição é testada e, se o teste for validado, ocorre o desvio.'\n",
    "nota = [2]\n",
    "dfR = pd.DataFrame({'Notas':[2.0],'Respostas':gabarito})\n",
    "\n",
    "#Inserindo a resposta na posição 0 (zero)\n",
    "#df.loc[-1]=[2,gabarito]\n",
    "#df.index = df.index + 1  # shifting index\n",
    "#df = df.sort_index()  # sorting by index\n",
    "\n",
    "#print(df['Respostas'][0]) #Imprimir a resposta armazenada na 1a posição do DataFrame\n",
    "print(df)"
   ]
  },
  {
   "cell_type": "code",
   "execution_count": null,
   "metadata": {
    "collapsed": true
   },
   "outputs": [],
   "source": []
  },
  {
   "cell_type": "code",
   "execution_count": 2,
   "metadata": {
    "collapsed": false
   },
   "outputs": [
    {
     "name": "stdout",
     "output_type": "stream",
     "text": [
      "0.655608214849921\n"
     ]
    },
    {
     "data": {
      "image/png": "[encoded data removed]",
      "text/plain": [
       "<Figure size 720x720 with 2 Axes>"
      ]
     },
     "metadata": {},
     "output_type": "display_data"
    }
   ],
   "source": [
    "from similarity2 import *\n",
    "\n",
    "#Merge dataframes\n",
    "dfMerged2 = pd.concat([dfR,df],axis=0).reset_index(drop=True)\n",
    "#print(dfMerged)\n",
    "lev=sim(levenshtein,dfMerged2['Respostas'])\n",
    "i=0\n",
    "j=6\n",
    "#print(lev)\n",
    "ratio = lev[i][j] / (max(len(dfMerged2['Respostas'][i]),len(dfMerged2['Respostas'][j])))\n",
    "print(ratio)\n",
    "grafico_similaridade(sim(levenshtein,dfMerged2['Respostas']),\"Levenshtein\")"
   ]
  },
  {
   "cell_type": "markdown",
   "metadata": {},
   "source": [
    "### Etapa 2: PRÉ-PROCESSAMENTO\n",
    "* **Case folding**"
   ]
  },
  {
   "cell_type": "code",
   "execution_count": 3,
   "metadata": {
    "collapsed": false
   },
   "outputs": [
    {
     "name": "stdout",
     "output_type": "stream",
     "text": [
      "   Notas                                          Respostas\n",
      "0    2.0  O desvio no programa ocorre sempre que o progr...\n",
      "   Notas                                          Respostas\n",
      "0    2.0  o desvio no programa ocorre sempre que o progr...\n",
      "   Notas                                          Respostas\n",
      "0    0.5  DSC - Controlador Digital de Sinais. DSP - Pro...\n",
      "1      0  watchdog timer: esse temporizador reinicializa...\n",
      "2    1.0  Um desvio em um programa ocorre quando alguma ...\n",
      "3    0.5  Incondicional -> ocorre independente de qualqu...\n",
      "4    1.7  Ocorre quando um programa sai da sua sequencia...\n",
      "5    1.0  Desvio condicional e incondicional. Desvio inc...\n",
      "6    2.0  O desvio no programa ocorre sempre que o progr...\n",
      "7    0.5  Desvio acontece quando há necessidade do opera...\n",
      "8    1.8  O desvio de programa ocorre sempre que o progr...\n",
      "9    1.8  O desvio no programa ocorre sempre que o progr...\n",
      "10   1.8  O desvio ocorre sempre que o programa sai de s...\n",
      "11   1.5  Quando ocorre um desvio, a instrução que já fo...\n",
      "12   0.9  Quando da problema no registrador (program cou...\n",
      "13   2.0  O desvio no programa ocorre sempre que o progr...\n",
      "14   0.2  Ocorre quando o programa sai da frequencia nom...\n",
      "   Notas                                          Respostas\n",
      "0    0.5  dsc - controlador digital de sinais. dsp - pro...\n",
      "1      0  watchdog timer: esse temporizador reinicializa...\n",
      "2    1.0  um desvio em um programa ocorre quando alguma ...\n",
      "3    0.5  incondicional -> ocorre independente de qualqu...\n",
      "4    1.7  ocorre quando um programa sai da sua sequencia...\n",
      "5    1.0  desvio condicional e incondicional. desvio inc...\n",
      "6    2.0  o desvio no programa ocorre sempre que o progr...\n",
      "7    0.5  desvio acontece quando há necessidade do opera...\n",
      "8    1.8  o desvio de programa ocorre sempre que o progr...\n",
      "9    1.8  o desvio no programa ocorre sempre que o progr...\n",
      "10   1.8  o desvio ocorre sempre que o programa sai de s...\n",
      "11   1.5  quando ocorre um desvio, a instrução que já fo...\n",
      "12   0.9  quando da problema no registrador (program cou...\n",
      "13   2.0  o desvio no programa ocorre sempre que o progr...\n",
      "14   0.2  ocorre quando o programa sai da frequencia nom...\n"
     ]
    }
   ],
   "source": [
    "def case_folding(s):\n",
    "    return ' '.join([w.lower() for w in s.split(' ')])\n",
    "\n",
    "\n",
    "print(dfR.head())\n",
    "dfR['Respostas']=case_folding(dfR['Respostas'][0])\n",
    "print(dfR.head())\n",
    "\n",
    "print(df)    \n",
    "for index,row in df.iterrows(): #Respostas\n",
    "    row['Respostas']=case_folding(row['Respostas'])\n",
    "    \n",
    "print(df) "
   ]
  },
  {
   "cell_type": "markdown",
   "metadata": {},
   "source": [
    "* **Remoção de pontuação e caracteres especiais**"
   ]
  },
  {
   "cell_type": "code",
   "execution_count": 4,
   "metadata": {
    "collapsed": false
   },
   "outputs": [
    {
     "name": "stdout",
     "output_type": "stream",
     "text": [
      "   Notas                                          Respostas\n",
      "0    2.0  o desvio no programa ocorre sempre que o progr...\n",
      "   Notas                                          Respostas\n",
      "0    2.0  o desvio no programa ocorre sempre que o progr...\n",
      "  Notas                                          Respostas\n",
      "0   0.5  dsc - controlador digital de sinais. dsp - pro...\n",
      "1     0  watchdog timer: esse temporizador reinicializa...\n",
      "2   1.0  um desvio em um programa ocorre quando alguma ...\n",
      "3   0.5  incondicional -> ocorre independente de qualqu...\n",
      "4   1.7  ocorre quando um programa sai da sua sequencia...\n",
      "  Notas                                          Respostas\n",
      "0   0.5  dsc  controlador digital de sinais dsp  proces...\n",
      "1     0  watchdog timer esse temporizador reinicializa ...\n",
      "2   1.0  um desvio em um programa ocorre quando alguma ...\n",
      "3   0.5  incondicional  ocorre independente de qualquer...\n",
      "4   1.7  ocorre quando um programa sai da sua sequencia...\n"
     ]
    }
   ],
   "source": [
    "#Retirar pontuação\n",
    "from string import punctuation\n",
    "def strip_punctuation(s):\n",
    "    return ''.join(c for c in s if c not in punctuation)\n",
    "\n",
    "print(dfR.to_string())\n",
    "dfR['Respostas']=strip_punctuation(dfR['Respostas'][0])\n",
    "print(dfR.to_string())\n",
    "\n",
    "print(df.head())    \n",
    "for index,row in df.iterrows(): #Respostas\n",
    "    row['Respostas']=strip_punctuation(row['Respostas'])\n",
    "    \n",
    "print(df.head())    "
   ]
  },
  {
   "cell_type": "code",
   "execution_count": 5,
   "metadata": {
    "collapsed": false
   },
   "outputs": [
    {
     "name": "stdout",
     "output_type": "stream",
     "text": [
      "   Notas                                          Respostas\n",
      "0    2.0  o desvio no programa ocorre sempre que o progr...\n",
      "   Notas                                          Respostas\n",
      "0    2.0  o desvio no programa ocorre sempre que o progr...\n",
      "  Notas                                          Respostas\n",
      "0   0.5  dsc  controlador digital de sinais dsp  proces...\n",
      "1     0  watchdog timer esse temporizador reinicializa ...\n",
      "2   1.0  um desvio em um programa ocorre quando alguma ...\n",
      "3   0.5  incondicional  ocorre independente de qualquer...\n",
      "4   1.7  ocorre quando um programa sai da sua sequencia...\n",
      "  Notas                                          Respostas\n",
      "0   0.5  dsc  controlador digital de sinais dsp  proces...\n",
      "1     0  watchdog timer esse temporizador reinicializa ...\n",
      "2   1.0  um desvio em um programa ocorre quando alguma ...\n",
      "3   0.5  incondicional  ocorre independente de qualquer...\n",
      "4   1.7  ocorre quando um programa sai da sua sequencia...\n"
     ]
    }
   ],
   "source": [
    "#Retirar caracteres especiais\n",
    "import unicodedata\n",
    "import re\n",
    "def remove_special_chars(text):\n",
    "    nfkd = unicodedata.normalize('NFKD', text)\n",
    "    palavraSemAcento = u\"\".join([c for c in nfkd if not unicodedata.combining(c)])\n",
    "    return re.sub(u'[^a-zA-Z0-9áéíóúÁÉÍÓÚâêîôÂÊÎÔãõÃÕçÇ: ]', '', palavraSemAcento)\n",
    "\n",
    "print(dfR.head())\n",
    "dfR['Respostas']=remove_special_chars(dfR['Respostas'][0])\n",
    "print(dfR.head())\n",
    "\n",
    "print(df.head())    \n",
    "for index,row in df.iterrows(): #Respostas\n",
    "    row['Respostas']=remove_special_chars(row['Respostas'])\n",
    "    \n",
    "print(df.head()) "
   ]
  },
  {
   "cell_type": "markdown",
   "metadata": {},
   "source": [
    "* **Remoção de stopwords**"
   ]
  },
  {
   "cell_type": "code",
   "execution_count": 6,
   "metadata": {
    "collapsed": false
   },
   "outputs": [
    {
     "name": "stdout",
     "output_type": "stream",
     "text": [
      "   Notas                                          Respostas\n",
      "0    2.0  o desvio no programa ocorre sempre que o progr...\n",
      "   Notas                                          Respostas\n",
      "0    2.0  desvio programa ocorre sempre programa sai seq...\n",
      "  Notas                                          Respostas\n",
      "0   0.5  dsc  controlador digital de sinais dsp  proces...\n",
      "1     0  watchdog timer esse temporizador reinicializa ...\n",
      "2   1.0  um desvio em um programa ocorre quando alguma ...\n",
      "3   0.5  incondicional  ocorre independente de qualquer...\n",
      "4   1.7  ocorre quando um programa sai da sua sequencia...\n",
      "  Notas                                          Respostas\n",
      "0   0.5  dsc controlador digital sinais dsp processador...\n",
      "1     0  watchdog timer temporizador reinicializa micro...\n",
      "2   1.0  desvio programa ocorre alguma condicao esvio p...\n",
      "3   0.5  incondicional ocorre independente qualquer fat...\n",
      "4   1.7  ocorre programa sai sequencia condicao sozinho...\n"
     ]
    }
   ],
   "source": [
    "import nltk\n",
    "stopwords = nltk.corpus.stopwords.words('portuguese')\n",
    "\n",
    "def remove_stopwords(text):\n",
    "    return ' '.join([w.lower() for w in text.split() if w not in stopwords])\n",
    "\n",
    "print(dfR.head())\n",
    "dfR['Respostas']=remove_stopwords(dfR['Respostas'][0])\n",
    "print(dfR.head())\n",
    "\n",
    "print(df.head())    \n",
    "for index,row in df.iterrows(): #Respostas\n",
    "    row['Respostas']=remove_stopwords(row['Respostas'])\n",
    "    \n",
    "print(df.head())    "
   ]
  },
  {
   "cell_type": "markdown",
   "metadata": {},
   "source": [
    "* **Construção do dicionário de sinônimos**"
   ]
  },
  {
   "cell_type": "code",
   "execution_count": 7,
   "metadata": {
    "collapsed": false
   },
   "outputs": [
    {
     "data": {
      "text/plain": [
       "\"\\nimport re\\nimport nltk\\nfrom pysinonimos.sinonimos import Search, historic\\n\\n#gabarito = ['Tais comandos devem ser colocados dentro de um bloco try. Porque no caso de ocorrer um exceção no bloco try, ela será lançado, os demais comandos da bloco serão suspensos, e o controle passará para o primeiro bloco catch que tenha um parâmetro de tipo compatível com a exceção lançada.']\\nstopwords = nltk.corpus.stopwords.words('portuguese')\\n\\ngabarito=[dfR['Respostas'][0]]\\n\\ngabaritoSemPontuacao=[]\\nfor g in gabarito: \\n    gabaritoSemPontuacao.append(re.sub('[,.]', '', g)) #retirar pontuação\\n    \\nwords=[]\\nfor g in gabaritoSemPontuacao:\\n    words = g.lower().split() #colocar em caixa baixa e dividir sentença em termos\\n\\n\\ndicionario = dict()\\n#Cria dicionário com palavras do gabarito que não estão nas stopwords\\nfor w in words: \\n    if w not in stopwords:\\n        dicionario[w]=[]\\n\\n\\n#Cada chave do dicionário é atribuída a respectiva lista de sinônimos\\nfor k in iter(dicionario.keys()):\\n    key = Search(k)\\n    syn = key.synonyms()\\n    if (isinstance(syn,list)):\\n        dicionario[k]=syn\\n     \\n\""
      ]
     },
     "execution_count": 7,
     "metadata": {},
     "output_type": "execute_result"
    }
   ],
   "source": [
    "\"\"\"\n",
    "import re\n",
    "import nltk\n",
    "from pysinonimos.sinonimos import Search, historic\n",
    "\n",
    "#gabarito = ['Tais comandos devem ser colocados dentro de um bloco try. Porque no caso de ocorrer um exceção no bloco try, ela será lançado, os demais comandos da bloco serão suspensos, e o controle passará para o primeiro bloco catch que tenha um parâmetro de tipo compatível com a exceção lançada.']\n",
    "stopwords = nltk.corpus.stopwords.words('portuguese')\n",
    "\n",
    "gabarito=[dfR['Respostas'][0]]\n",
    "\n",
    "gabaritoSemPontuacao=[]\n",
    "for g in gabarito: \n",
    "    gabaritoSemPontuacao.append(re.sub('[,.]', '', g)) #retirar pontuação\n",
    "    \n",
    "words=[]\n",
    "for g in gabaritoSemPontuacao:\n",
    "    words = g.lower().split() #colocar em caixa baixa e dividir sentença em termos\n",
    "\n",
    "\n",
    "dicionario = dict()\n",
    "#Cria dicionário com palavras do gabarito que não estão nas stopwords\n",
    "for w in words: \n",
    "    if w not in stopwords:\n",
    "        dicionario[w]=[]\n",
    "\n",
    "\n",
    "#Cada chave do dicionário é atribuída a respectiva lista de sinônimos\n",
    "for k in iter(dicionario.keys()):\n",
    "    key = Search(k)\n",
    "    syn = key.synonyms()\n",
    "    if (isinstance(syn,list)):\n",
    "        dicionario[k]=syn\n",
    "     \n",
    "\"\"\""
   ]
  },
  {
   "cell_type": "markdown",
   "metadata": {},
   "source": [
    "* **Dicionário de sinônimos: <u>construção</u> e substituição dos sinônimos pela chave (key) do dicionário**\n"
   ]
  },
  {
   "cell_type": "code",
   "execution_count": 8,
   "metadata": {
    "collapsed": false
   },
   "outputs": [
    {
     "name": "stdout",
     "output_type": "stream",
     "text": [
      "  Notas                                          Respostas\n",
      "0   0.5  dsc controlador digital sinais dsp processador...\n",
      "1     0  watchdog timer temporizador reinicializa micro...\n",
      "2   1.0  desvio programa ocorre alguma condicao esvio p...\n",
      "3   0.5  incondicional ocorre independente qualquer fat...\n",
      "4   1.7  ocorre programa sai sequencia condicao sozinho...\n"
     ]
    },
    {
     "data": {
      "text/plain": [
       "\"\\n#Procura em cada resposta a existência do termo como valor no dicionário. \\n#Caso exista, troca o termo sinônimo pela chave\\nnormalizedString = []\\nfor index,r in df.iterrows():\\n    sentence = []\\n    words = r['Respostas'].lower().split()\\n    for w in words:\\n        if w not in stopwords:\\n            syn =search(dicionario,w)\\n            if w != syn and syn!= None:\\n                sentence.append(syn)\\n            else:\\n                sentence.append(w)\\n\\n    r['Respostas']=' '.join([str(x) for x in sentence])\\n    #normalizedString.append(' '.join([str(x) for x in sentence]))\\n\\nprint(df.head())\\n\""
      ]
     },
     "execution_count": 8,
     "metadata": {},
     "output_type": "execute_result"
    }
   ],
   "source": [
    "'''\n",
    "Parâmetros:\n",
    "values -> dicionário\n",
    "searchFor - > termo de pesquisa \n",
    "\n",
    "Retorno:\n",
    "a chave correspondente ao parâmetro especificado em searchFor\n",
    "'''\n",
    "def search(values, searchFor):\n",
    "    for k in values:\n",
    "        for v in values[k]:\n",
    "            if searchFor in v:\n",
    "                return k\n",
    "    return None \n",
    "\n",
    "print(df.head())\n",
    "'''\n",
    "#Procura em cada resposta a existência do termo como valor no dicionário. \n",
    "#Caso exista, troca o termo sinônimo pela chave\n",
    "normalizedString = []\n",
    "for index,r in df.iterrows():\n",
    "    sentence = []\n",
    "    words = r['Respostas'].lower().split()\n",
    "    for w in words:\n",
    "        if w not in stopwords:\n",
    "            syn =search(dicionario,w)\n",
    "            if w != syn and syn!= None:\n",
    "                sentence.append(syn)\n",
    "            else:\n",
    "                sentence.append(w)\n",
    "\n",
    "    r['Respostas']=' '.join([str(x) for x in sentence])\n",
    "    #normalizedString.append(' '.join([str(x) for x in sentence]))\n",
    "\n",
    "print(df.head())\n",
    "'''"
   ]
  },
  {
   "cell_type": "markdown",
   "metadata": {},
   "source": [
    "Etapa3: PROCESSAMENTO\n",
    "==="
   ]
  },
  {
   "cell_type": "markdown",
   "metadata": {},
   "source": [
    "> Avaliar a similaridade dos textos de acordo com métricas baseada em:\n",
    "1. Edit-based\n",
    "    1. Levenshtein\n",
    "        * 0,+inf, onde: 0(similar),+inf (dissimilar)\n",
    "        * The maximum Levenshtein distance (all chars are different) is max(string1.length, string2.length)\n",
    "    2. Damerau-Levenshtein\n",
    "        *\n",
    "        * Similar to Levenshtein distance, but additionally considers transposed characters  \n",
    "    3. Jaro\n",
    "        * 0,1, onde 0 (dissimilar) e 1 (similar)\n",
    "    \n",
    "        "
   ]
  },
  {
   "cell_type": "code",
   "execution_count": 9,
   "metadata": {
    "collapsed": false
   },
   "outputs": [
    {
     "data": {
      "image/png": "[encoded data removed]",
      "text/plain": [
       "<Figure size 720x720 with 2 Axes>"
      ]
     },
     "metadata": {},
     "output_type": "display_data"
    },
    {
     "data": {
      "image/png": "[encoded data removed]",
      "text/plain": [
       "<Figure size 720x720 with 2 Axes>"
      ]
     },
     "metadata": {},
     "output_type": "display_data"
    },
    {
     "name": "stdout",
     "output_type": "stream",
     "text": [
      "[[       nan 0.61297588 0.65655022 0.65515724 0.6461208  0.62412357\n",
      "  0.6509949  0.77671158 0.59524508 0.78776395 0.76925199 0.68134037\n",
      "  0.68377505 0.56861913 0.65888103 0.55483821]]\n"
     ]
    },
    {
     "data": {
      "image/png": "[encoded data removed]",
      "text/plain": [
       "<Figure size 720x720 with 2 Axes>"
      ]
     },
     "metadata": {},
     "output_type": "display_data"
    }
   ],
   "source": [
    "from similarity import *\n",
    "import math\n",
    "\n",
    "#Merge dataframes\n",
    "dfMerged = pd.concat([dfR,df],axis=0).reset_index(drop=True)\n",
    "#print(dfMerged)\n",
    "\n",
    "i=0\n",
    "j=6\n",
    "#print(lev)\n",
    "#ratio = lev[i][j] / (max(len(dfMerged['Respostas'][i]),len(dfMerged['Respostas'][j])))\n",
    "#print(ratio)\n",
    "\n",
    "#LEVENSHTEIN\n",
    "lev=sim(levenshtein,dfMerged['Respostas'])\n",
    "grafico_similaridade(lev,\"Levenshtein\")\n",
    "lev[0][0]=0 \n",
    "\n",
    "\n",
    "#DEMERAU\n",
    "dem=sim(damerau,dfMerged['Respostas'])\n",
    "#print(dem[0:1])\n",
    "grafico_similaridade(dem,\"Damerau\")\n",
    "dem[0][0]=0\n",
    "\n",
    "#JARO\n",
    "jar=sim(jaro,dfMerged['Respostas'])\n",
    "print(jar[0:1])\n",
    "grafico_similaridade(jar,\"Jaro\")\n",
    "jar[0][0]=1\n",
    "\n",
    "\n",
    "\n",
    "\n",
    "#print(sim(jaro_winkler,dfMerged['Respostas']))\n",
    "#grafico_similaridade(sim(jaro_winkler,dfMerged['Respostas']),\"Jaro Winkler\")\n",
    "\n",
    "#print(sim(hamming,dfMerged['Respostas']))\n",
    "#grafico_similaridade(sim(hamming,dfMerged['Respostas']),\"Hamming\")\n"
   ]
  },
  {
   "cell_type": "markdown",
   "metadata": {},
   "source": [
    "* Avaliar a similaridade dos textos de acordo com métricas baseada em:\n",
    "    * Fuzzy **(implementar)**"
   ]
  },
  {
   "cell_type": "markdown",
   "metadata": {},
   "source": [
    "* Avaliar a similaridade dos textos de acordo com métricas baseada em:\n",
    "    * Termos"
   ]
  },
  {
   "cell_type": "code",
   "execution_count": 10,
   "metadata": {
    "collapsed": false
   },
   "outputs": [
    {
     "name": "stdout",
     "output_type": "stream",
     "text": [
      "   Notas                                          Respostas\n",
      "0      2  desvi program ocorr sempr program sai sequenc ...\n",
      "1    0.5  dsc control digit sinal dsp process digit sina...\n",
      "2      0  watchdog tim temporiz reinicializ microcontrol...\n",
      "3    1.0  desvi program ocorr algum condica esvi prev oc...\n",
      "4    0.5  incondic ocorr independ qualqu fat ness cas oc...\n",
      "5    1.7  ocorr program sai sequenc condica so desvi inc...\n",
      "6    1.0  desvi condic incondic desvi incondic ocorr qua...\n",
      "7    2.0  desvi program ocorr sempr program sai sequenc ...\n",
      "8    0.5  desvi acontec ha necess oper interv program po...\n",
      "9    1.8  desvi program ocorr sempr program sai sequenc ...\n",
      "10   1.8  desvi program ocorr sempr program sai sequenc ...\n",
      "11   1.8  desvi ocorr sempr program sai sequenc norm exe...\n",
      "12   1.5  ocorr desvi instruca ja prev busc sistem pipel...\n",
      "13   0.9  problem registr progr count control program mi...\n",
      "14   2.0  desvi program ocorr sempr program sai sequenc ...\n",
      "15   0.2  ocorr program sai frequenc nom execuca exist 3...\n"
     ]
    }
   ],
   "source": [
    "stemmer = nltk.stem.RSLPStemmer()\n",
    "\n",
    "for index,row in dfMerged.iterrows(): #Respostas\n",
    "    line = row['Respostas']\n",
    "    stemmedLine=[]\n",
    "    for word in line.split():\n",
    "        stemmedLine.append(stemmer.stem(word))\n",
    "    #print(' '.join(stemmedLine))\n",
    "    #print(\"\\n\\n\")\n",
    "    row['Respostas']=' '.join(stemmedLine)\n",
    "\n",
    "print(dfMerged)        "
   ]
  },
  {
   "cell_type": "code",
   "execution_count": 11,
   "metadata": {
    "collapsed": false
   },
   "outputs": [],
   "source": [
    "def pre_processamento(lst):\n",
    "    item=[]\n",
    "    for idx,val in enumerate(lst):\n",
    "        val=val.lower()\n",
    "        s=strip_punctuation(val)\n",
    "        s=remove_stopwords(val)\n",
    "        s=remove_special_chars(val)\n",
    "\n",
    "        item.append(s)\n",
    "    return item"
   ]
  },
  {
   "cell_type": "code",
   "execution_count": 27,
   "metadata": {
    "collapsed": false
   },
   "outputs": [
    {
     "name": "stdout",
     "output_type": "stream",
     "text": [
      "  (0, 771)\t1\n",
      "  (0, 768)\t1\n",
      "  (0, 113)\t1\n",
      "  (0, 211)\t1\n",
      "  (0, 466)\t1\n",
      "  (0, 502)\t1\n",
      "  (0, 196)\t1\n",
      "  (0, 696)\t1\n",
      "  (0, 727)\t1\n",
      "  (0, 220)\t1\n",
      "  (0, 104)\t1\n",
      "  (0, 80)\t1\n",
      "  (0, 162)\t1\n",
      "  (0, 333)\t1\n",
      "  (0, 378)\t1\n",
      "  (0, 649)\t1\n",
      "  (0, 363)\t1\n",
      "  (0, 186)\t1\n",
      "  (0, 285)\t1\n",
      "  (0, 438)\t1\n",
      "  (0, 146)\t1\n",
      "  (0, 487)\t1\n",
      "  (0, 194)\t1\n",
      "  (0, 101)\t1\n",
      "  (0, 658)\t1\n",
      "  :\t:\n",
      "  (15, 635)\t1\n",
      "  (15, 313)\t1\n",
      "  (15, 240)\t1\n",
      "  (15, 413)\t1\n",
      "  (15, 780)\t1\n",
      "  (15, 296)\t1\n",
      "  (15, 319)\t1\n",
      "  (15, 681)\t1\n",
      "  (15, 250)\t1\n",
      "  (15, 312)\t1\n",
      "  (15, 239)\t1\n",
      "  (15, 318)\t1\n",
      "  (15, 458)\t1\n",
      "  (15, 457)\t1\n",
      "  (15, 504)\t1\n",
      "  (15, 503)\t1\n",
      "  (15, 273)\t1\n",
      "  (15, 634)\t1\n",
      "  (15, 409)\t1\n",
      "  (15, 776)\t1\n",
      "  (15, 286)\t1\n",
      "  (15, 266)\t1\n",
      "  (15, 680)\t1\n",
      "  (15, 477)\t1\n",
      "  (15, 612)\t1\n",
      "812\n",
      "2 acontec\n",
      "1 acontec ha\n",
      "1 acontec ha necess\n",
      "1 acontec ha necess oper\n",
      "1 acontec qua\n",
      "1 acontec qua algum\n",
      "1 acontec qua algum problem\n",
      "1 acord\n",
      "1 acord necess\n",
      "3 algum\n",
      "1 algum condica\n",
      "1 algum condica esvi\n",
      "1 algum condica esvi prev\n",
      "1 algum condico\n",
      "1 algum condico ser\n",
      "1 algum condico ser atend\n",
      "1 algum problem\n",
      "1 algum problem execuca\n",
      "1 algum problem execuca cas\n",
      "1 alter\n",
      "1 alter destin\n",
      "1 alter destin especific\n",
      "1 alter destin especific tod\n",
      "1 ant\n",
      "1 ant ter\n",
      "1 ant ter val\n",
      "1 ant ter val alter\n",
      "1 anteri\n",
      "1 anteri instruca\n",
      "1 anteri instruca desvi\n",
      "1 anteri instruca desvi instruca\n",
      "1 apo\n",
      "1 apo trat\n",
      "1 apo trat event\n",
      "1 apo trat event sistem\n",
      "1 apont\n",
      "1 apont pc\n",
      "1 apont pc ant\n",
      "1 apont pc ant ter\n",
      "1 assim\n",
      "1 assim apo\n",
      "1 assim apo trat\n",
      "1 assim apo trat event\n",
      "1 atend\n",
      "1 atend part\n",
      "1 atend part test\n",
      "1 atend part test desvi\n",
      "1 atual\n",
      "1 atual registr\n",
      "1 atual registr log\n",
      "1 atual registr log event\n",
      "4 basic\n",
      "3 basic doi\n",
      "3 basic doi tip\n",
      "3 basic doi tip desvi\n",
      "1 basic got\n",
      "1 basic got lev\n",
      "1 basic got lev program\n",
      "1 busc\n",
      "1 busc sistem\n",
      "1 busc sistem pipelin\n",
      "1 busc sistem pipelin nao\n",
      "2 cas\n",
      "1 cas contrari\n",
      "1 cas contrari seg\n",
      "1 cas contrari seg oprocess\n",
      "1 cas ocorr\n",
      "1 cas ocorr got\n",
      "1 cas ocorr got condic\n",
      "1 cert\n",
      "1 cert condico\n",
      "1 cert condico desvi\n",
      "1 cert condico desvi feit\n",
      "1 cicl\n",
      "1 cicl maquin\n",
      "1 cicl maquin dsc\n",
      "1 cicl maquin dsc control\n",
      "11 condic\n",
      "3 condic condica\n",
      "3 condic condica dev\n",
      "3 condic condica dev ser\n",
      "1 condic depend\n",
      "1 condic depend algum\n",
      "1 condic depend algum condico\n",
      "3 condic desvi\n",
      "3 condic desvi incondic\n",
      "3 condic desvi incondic ocorr\n",
      "1 condic funca\n",
      "1 condic funca dev\n",
      "1 condic funca dev satisfeit\n",
      "1 condic incondic\n",
      "1 condic incondic desvi\n",
      "1 condic incondic desvi incondic\n",
      "1 condic necessari\n",
      "1 condic necessari cert\n",
      "1 condic necessari cert condico\n",
      "11 condica\n",
      "4 condica desvi\n",
      "1 condica desvi condic\n",
      "1 condica desvi condic condica\n",
      "3 condica desvi ocorr\n",
      "3 condica desvi ocorr depend\n",
      "3 condica dev\n",
      "3 condica dev ser\n",
      "3 condica dev ser satisfeit\n",
      "1 condica esvi\n",
      "1 condica esvi prev\n",
      "1 condica esvi prev ocorr\n",
      "1 condica so\n",
      "1 condica so desvi\n",
      "1 condica so desvi incondic\n",
      "2 condica test\n",
      "2 condica test test\n",
      "2 condica test test valid\n",
      "2 condico\n",
      "1 condico desvi\n",
      "1 condico desvi feit\n",
      "1 condico ser\n",
      "1 condico ser atend\n",
      "1 condico ser atend part\n",
      "1 contrari\n",
      "1 contrari seg\n",
      "1 contrari seg oprocess\n",
      "1 contrari seg oprocess norm\n",
      "3 control\n",
      "2 control digit\n",
      "2 control digit sinal\n",
      "2 control digit sinal dsp\n",
      "1 control program\n",
      "1 control program microcontrol\n",
      "1 count\n",
      "1 count control\n",
      "1 count control program\n",
      "1 count control program microcontrol\n",
      "1 demand\n",
      "1 demand cicl\n",
      "1 demand cicl maquin\n",
      "1 demand cicl maquin dsc\n",
      "4 depend\n",
      "1 depend algum\n",
      "1 depend algum condico\n",
      "1 depend algum condico ser\n",
      "3 depend nad\n",
      "1 depend nad desvi\n",
      "1 depend nad desvi condic\n",
      "1 depend nad exempl\n",
      "1 depend nad exempl desvi\n",
      "1 destin\n",
      "1 destin especific\n",
      "1 destin especific tod\n",
      "1 destin especific tod instruca\n",
      "57 desvi\n",
      "2 desvi acontec\n",
      "1 desvi acontec ha\n",
      "1 desvi acontec ha necess\n",
      "1 desvi acontec qua\n",
      "1 desvi acontec qua algum\n",
      "1 desvi basic\n",
      "1 desvi basic got\n",
      "1 desvi basic got lev\n",
      "9 desvi condic\n",
      "3 desvi condic condica\n",
      "3 desvi condic condica dev\n",
      "2 desvi condic desvi\n",
      "2 desvi condic desvi incondic\n",
      "1 desvi condic funca\n",
      "1 desvi condic funca dev\n",
      "1 desvi condic incondic\n",
      "1 desvi condic incondic desvi\n",
      "1 desvi condic necessari\n",
      "1 desvi condic necessari cert\n",
      "5 desvi desvi\n",
      "5 desvi desvi incondic\n",
      "1 desvi desvi incondic condic\n",
      "3 desvi desvi incondic desvi\n",
      "1 desvi desvi incondic ocorr\n",
      "1 desvi feit\n",
      "12 desvi incondic\n",
      "1 desvi incondic condic\n",
      "1 desvi incondic condic desvi\n",
      "3 desvi incondic desvi\n",
      "3 desvi incondic desvi condic\n",
      "7 desvi incondic ocorr\n",
      "4 desvi incondic ocorr program\n",
      "3 desvi incondic ocorr quan\n",
      "1 desvi incondic provoc\n",
      "1 desvi incondic provoc instruca\n",
      "2 desvi instruca\n",
      "1 desvi instruca desvi\n",
      "1 desvi instruca desvi basic\n",
      "1 desvi instruca ja\n",
      "1 desvi instruca ja prev\n",
      "9 desvi ocorr\n",
      "3 desvi ocorr depend\n",
      "3 desvi ocorr depend nad\n",
      "2 desvi ocorr norm\n",
      "2 desvi ocorr norm determin\n",
      "1 desvi ocorr program\n",
      "1 desvi ocorr program sai\n",
      "1 desvi ocorr sempr\n",
      "1 desvi ocorr sempr program\n",
      "7 desvi outr\n",
      "7 desvi outr pont\n",
      "7 desvi outr pont memor\n",
      "6 desvi program\n",
      "6 desvi program ocorr\n",
      "1 desvi program ocorr algum\n",
      "5 desvi program ocorr sempr\n",
      "3 determin\n",
      "2 determin condica\n",
      "2 determin condica test\n",
      "2 determin condica test test\n",
      "1 determin nest\n",
      "1 determin nest instruca\n",
      "4 dev\n",
      "1 dev satisfeit\n",
      "1 dev satisfeit desvi\n",
      "1 dev satisfeit desvi ocorr\n",
      "3 dev ser\n",
      "3 dev ser satisfeit\n",
      "3 dev ser satisfeit desvi\n",
      "4 digit\n",
      "4 digit sinal\n",
      "1 digit sinal desvi\n",
      "1 digit sinal desvi acontec\n",
      "2 digit sinal dsp\n",
      "2 digit sinal dsp process\n",
      "5 doi\n",
      "5 doi tip\n",
      "5 doi tip desvi\n",
      "5 doi tip desvi desvi\n",
      "2 dsc\n",
      "2 dsc control\n",
      "2 dsc control digit\n",
      "2 dsc control digit sinal\n",
      "2 dsp\n",
      "2 dsp process\n",
      "2 dsp process digit\n",
      "2 dsp process digit sinal\n",
      "1 eeprom\n",
      "1 eeprom flash\n",
      "1 eeprom flash erromopt\n",
      "1 enderec\n",
      "1 enderec predefin\n",
      "1 enderec predefin ond\n",
      "1 enderec predefin ond ser\n",
      "1 envi\n",
      "1 envi enderec\n",
      "1 envi enderec predefin\n",
      "1 envi enderec predefin ond\n",
      "1 erromopt\n",
      "1 especific\n",
      "1 especific tod\n",
      "1 especific tod instruca\n",
      "1 especific tod instruca pic\n",
      "1 esvi\n",
      "1 esvi prev\n",
      "1 esvi prev ocorr\n",
      "1 esvi prev ocorr anteri\n",
      "2 event\n",
      "1 event extern\n",
      "1 event extern envi\n",
      "1 event extern envi enderec\n",
      "1 event sistem\n",
      "1 event sistem volt\n",
      "1 event sistem volt oper\n",
      "14 execuca\n",
      "1 execuca cas\n",
      "1 execuca cas contrari\n",
      "1 execuca cas contrari seg\n",
      "7 execuca desvi\n",
      "7 execuca desvi outr\n",
      "7 execuca desvi outr pont\n",
      "6 execuca exist\n",
      "3 execuca exist basic\n",
      "3 execuca exist basic doi\n",
      "1 execuca exist desvi\n",
      "1 execuca exist desvi incondic\n",
      "1 execuca exist doi\n",
      "1 execuca exist doi tip\n",
      "1 execuca exist tip\n",
      "1 execuca exist tip memor\n",
      "1 exempl\n",
      "1 exempl desvi\n",
      "1 exempl desvi incondic\n",
      "1 exempl desvi incondic provoc\n",
      "7 exist\n",
      "3 exist basic\n",
      "3 exist basic doi\n",
      "3 exist basic doi tip\n",
      "1 exist desvi\n",
      "1 exist desvi incondic\n",
      "1 exist desvi incondic ocorr\n",
      "2 exist doi\n",
      "2 exist doi tip\n",
      "2 exist doi tip desvi\n",
      "1 exist tip\n",
      "1 exist tip memor\n",
      "1 exist tip memor eeprom\n",
      "1 extern\n",
      "1 extern envi\n",
      "1 extern envi enderec\n",
      "1 extern envi enderec predefin\n",
      "1 falh\n",
      "1 falh atual\n",
      "1 falh atual registr\n",
      "1 falh atual registr log\n",
      "1 fat\n",
      "1 fat ness\n",
      "1 fat ness cas\n",
      "1 fat ness cas ocorr\n",
      "1 feit\n",
      "1 flash\n",
      "1 flash erromopt\n",
      "1 form\n",
      "1 form imediat\n",
      "1 form imediat acord\n",
      "1 form imediat acord necess\n",
      "1 frequenc\n",
      "1 frequenc nom\n",
      "1 frequenc nom execuca\n",
      "1 frequenc nom execuca exist\n",
      "1 funca\n",
      "1 funca dev\n",
      "1 funca dev satisfeit\n",
      "1 funca dev satisfeit desvi\n",
      "1 funcion\n",
      "3 got\n",
      "1 got condic\n",
      "1 got condic depend\n",
      "1 got condic depend algum\n",
      "1 got desvi\n",
      "1 got desvi condic\n",
      "1 got desvi condic condica\n",
      "1 got lev\n",
      "1 got lev program\n",
      "1 got lev program linh\n",
      "1 ha\n",
      "1 ha necess\n",
      "1 ha necess oper\n",
      "1 ha necess oper interv\n",
      "1 imediat\n",
      "1 imediat acord\n",
      "1 imediat acord necess\n",
      "14 incondic\n",
      "1 incondic condic\n",
      "1 incondic condic desvi\n",
      "1 incondic condic desvi incondic\n",
      "4 incondic desvi\n",
      "3 incondic desvi condic\n",
      "2 incondic desvi condic desvi\n",
      "1 incondic desvi incondic\n",
      "1 incondic desvi incondic ocorr\n",
      "8 incondic ocorr\n",
      "1 incondic ocorr independ\n",
      "1 incondic ocorr independ qualqu\n",
      "4 incondic ocorr program\n",
      "4 incondic ocorr program sai\n",
      "3 incondic ocorr quan\n",
      "1 incondic ocorr quan progr\n",
      "2 incondic ocorr quan program\n",
      "1 incondic provoc\n",
      "1 incondic provoc instruca\n",
      "1 incondic provoc instruca got\n",
      "5 independ\n",
      "5 independ qualqu\n",
      "4 independ qualqu condica\n",
      "4 independ qualqu condica desvi\n",
      "1 independ qualqu fat\n",
      "1 independ qualqu fat ness\n",
      "6 instruca\n",
      "2 instruca desvi\n",
      "1 instruca desvi basic\n",
      "1 instruca desvi basic got\n",
      "1 instruca desvi instruca\n",
      "1 instruca desvi instruca desvi\n",
      "1 instruca got\n",
      "1 instruca got desvi\n",
      "1 instruca got desvi condic\n",
      "1 instruca ja\n",
      "1 instruca ja prev\n",
      "1 instruca ja prev busc\n",
      "1 instruca pic\n",
      "1 instruca pic demand\n",
      "1 instruca pic demand cicl\n",
      "1 interv\n",
      "1 interv program\n",
      "1 interv program pod\n",
      "1 interv program pod ser\n",
      "1 ja\n",
      "1 ja prev\n",
      "1 ja prev busc\n",
      "1 ja prev busc sistem\n",
      "1 lev\n",
      "1 lev program\n",
      "1 lev program linh\n",
      "1 lev program linh determin\n",
      "1 linh\n",
      "1 linh determin\n",
      "1 linh determin nest\n",
      "1 linh determin nest instruca\n",
      "1 log\n",
      "1 log event\n",
      "1 log event extern\n",
      "1 log event extern envi\n",
      "1 maquin\n",
      "1 maquin dsc\n",
      "1 maquin dsc control\n",
      "1 maquin dsc control digit\n",
      "9 memor\n",
      "1 memor desvi\n",
      "1 memor desvi condic\n",
      "1 memor desvi condic necessari\n",
      "1 memor eeprom\n",
      "1 memor eeprom flash\n",
      "1 memor eeprom flash erromopt\n",
      "1 memor independ\n",
      "1 memor independ qualqu\n",
      "1 memor independ qualqu condica\n",
      "5 memor program\n",
      "1 memor program apont\n",
      "1 memor program apont pc\n",
      "1 memor program desvi\n",
      "1 memor program desvi condic\n",
      "3 memor program independ\n",
      "3 memor program independ qualqu\n",
      "1 memor ser\n",
      "1 memor ser solicit\n",
      "2 microcontrol\n",
      "1 microcontrol sistem\n",
      "1 microcontrol sistem operac\n",
      "1 microcontrol sistem operac ocorr\n",
      "3 nad\n",
      "1 nad desvi\n",
      "1 nad desvi condic\n",
      "1 nad desvi condic funca\n",
      "1 nad exempl\n",
      "1 nad exempl desvi\n",
      "1 nad exempl desvi incondic\n",
      "1 nao\n",
      "1 nao val\n",
      "1 nao val poi\n",
      "1 nao val poi posica\n",
      "2 necess\n",
      "1 necess oper\n",
      "1 necess oper interv\n",
      "1 necess oper interv program\n",
      "1 necessari\n",
      "1 necessari cert\n",
      "1 necessari cert condico\n",
      "1 necessari cert condico desvi\n",
      "1 ness\n",
      "1 ness cas\n",
      "1 ness cas ocorr\n",
      "1 ness cas ocorr got\n",
      "1 nest\n",
      "1 nest instruca\n",
      "2 nom\n",
      "2 nom execuca\n",
      "1 nom execuca desvi\n",
      "1 nom execuca desvi outr\n",
      "1 nom execuca exist\n",
      "1 nom execuca exist tip\n",
      "15 norm\n",
      "2 norm determin\n",
      "2 norm determin condica\n",
      "2 norm determin condica test\n",
      "11 norm execuca\n",
      "6 norm execuca desvi\n",
      "6 norm execuca desvi outr\n",
      "5 norm execuca exist\n",
      "3 norm execuca exist basic\n",
      "1 norm execuca exist desvi\n",
      "1 norm execuca exist doi\n",
      "1 norm exist\n",
      "1 norm exist doi\n",
      "1 norm exist doi tip\n",
      "32 ocorr\n",
      "1 ocorr algum\n",
      "1 ocorr algum condica\n",
      "1 ocorr algum condica esvi\n",
      "1 ocorr anteri\n",
      "1 ocorr anteri instruca\n",
      "1 ocorr anteri instruca desvi\n",
      "3 ocorr depend\n",
      "3 ocorr depend nad\n",
      "1 ocorr depend nad desvi\n",
      "1 ocorr depend nad exempl\n",
      "4 ocorr desvi\n",
      "1 ocorr desvi instruca\n",
      "1 ocorr desvi instruca ja\n",
      "1 ocorr falh\n",
      "1 ocorr falh atual\n",
      "1 ocorr falh atual registr\n",
      "1 ocorr got\n",
      "1 ocorr got condic\n",
      "1 ocorr got condic depend\n",
      "1 ocorr independ\n",
      "1 ocorr independ qualqu\n",
      "1 ocorr independ qualqu fat\n",
      "2 ocorr norm\n",
      "2 ocorr norm determin\n",
      "2 ocorr norm determin condica\n",
      "7 ocorr program\n",
      "7 ocorr program sai\n",
      "1 ocorr program sai frequenc\n",
      "6 ocorr program sai sequenc\n",
      "3 ocorr quan\n",
      "1 ocorr quan progr\n",
      "1 ocorr quan progr sai\n",
      "2 ocorr quan program\n",
      "2 ocorr quan program sai\n",
      "6 ocorr sempr\n",
      "6 ocorr sempr program\n",
      "6 ocorr sempr program sai\n",
      "2 ond\n",
      "1 ond ocorr\n",
      "1 ond ocorr desvi\n",
      "1 ond ser\n",
      "1 ond ser trat\n",
      "1 ond ser trat assim\n",
      "2 oper\n",
      "1 oper interv\n",
      "1 oper interv program\n",
      "1 oper interv program pod\n",
      "1 oper part\n",
      "1 oper part ond\n",
      "1 oper part ond ocorr\n",
      "1 operac\n",
      "1 operac ocorr\n",
      "1 operac ocorr falh\n",
      "1 operac ocorr falh atual\n",
      "1 oprocess\n",
      "1 oprocess norm\n",
      "7 outr\n",
      "7 outr pont\n",
      "7 outr pont memor\n",
      "1 outr pont memor desvi\n",
      "1 outr pont memor independ\n",
      "4 outr pont memor program\n",
      "1 outr pont memor ser\n",
      "2 part\n",
      "1 part ond\n",
      "1 part ond ocorr\n",
      "1 part ond ocorr desvi\n",
      "1 part test\n",
      "1 part test desvi\n",
      "1 part test desvi ocorr\n",
      "1 pc\n",
      "1 pc ant\n",
      "1 pc ant ter\n",
      "1 pc ant ter val\n",
      "1 pic\n",
      "1 pic demand\n",
      "1 pic demand cicl\n",
      "1 pic demand cicl maquin\n",
      "1 pipelin\n",
      "1 pipelin nao\n",
      "1 pipelin nao val\n",
      "1 pipelin nao val poi\n",
      "1 pod\n",
      "1 pod ser\n",
      "1 pod ser programa\n",
      "1 pod ser programa form\n",
      "1 poi\n",
      "1 poi posica\n",
      "1 poi posica memor\n",
      "1 poi posica memor program\n",
      "7 pont\n",
      "7 pont memor\n",
      "1 pont memor desvi\n",
      "1 pont memor desvi condic\n",
      "1 pont memor independ\n",
      "1 pont memor independ qualqu\n",
      "4 pont memor program\n",
      "1 pont memor program desvi\n",
      "3 pont memor program independ\n",
      "1 pont memor ser\n",
      "1 pont memor ser solicit\n",
      "1 posica\n",
      "1 posica memor\n",
      "1 posica memor program\n",
      "1 posica memor program apont\n",
      "1 predefin\n",
      "1 predefin ond\n",
      "1 predefin ond ser\n",
      "1 predefin ond ser trat\n",
      "2 prev\n",
      "1 prev busc\n",
      "1 prev busc sistem\n",
      "1 prev busc sistem pipelin\n",
      "1 prev ocorr\n",
      "1 prev ocorr anteri\n",
      "1 prev ocorr anteri instruca\n",
      "2 problem\n",
      "1 problem execuca\n",
      "1 problem execuca cas\n",
      "1 problem execuca cas contrari\n",
      "1 problem registr\n",
      "1 problem registr progr\n",
      "1 problem registr progr count\n",
      "2 process\n",
      "2 process digit\n",
      "2 process digit sinal\n",
      "1 process digit sinal desvi\n",
      "2 progr\n",
      "1 progr count\n",
      "1 progr count control\n",
      "1 progr count control program\n",
      "1 progr sai\n",
      "1 progr sai sequenc\n",
      "1 progr sai sequenc norm\n",
      "29 program\n",
      "1 program apont\n",
      "1 program apont pc\n",
      "1 program apont pc ant\n",
      "1 program desvi\n",
      "1 program desvi condic\n",
      "1 program desvi condic condica\n",
      "3 program independ\n",
      "3 program independ qualqu\n",
      "3 program independ qualqu condica\n",
      "1 program linh\n",
      "1 program linh determin\n",
      "1 program linh determin nest\n",
      "1 program microcontrol\n",
      "6 program ocorr\n",
      "1 program ocorr algum\n",
      "1 program ocorr algum condica\n",
      "5 program ocorr sempr\n",
      "5 program ocorr sempr program\n",
      "1 program pod\n",
      "1 program pod ser\n",
      "1 program pod ser programa\n",
      "15 program sai\n",
      "1 program sai frequenc\n",
      "1 program sai frequenc nom\n",
      "14 program sai sequenc\n",
      "1 program sai sequenc condica\n",
      "1 program sai sequenc funcion\n",
      "1 program sai sequenc nom\n",
      "11 program sai sequenc norm\n",
      "1 programa\n",
      "1 programa form\n",
      "1 programa form imediat\n",
      "1 programa form imediat acord\n",
      "1 provoc\n",
      "1 provoc instruca\n",
      "1 provoc instruca got\n",
      "1 provoc instruca got desvi\n",
      "1 qua\n",
      "1 qua algum\n",
      "1 qua algum problem\n",
      "1 qua algum problem execuca\n",
      "5 qualqu\n",
      "4 qualqu condica\n",
      "4 qualqu condica desvi\n",
      "1 qualqu condica desvi condic\n",
      "3 qualqu condica desvi ocorr\n",
      "1 qualqu fat\n",
      "1 qualqu fat ness\n",
      "1 qualqu fat ness cas\n",
      "3 quan\n",
      "1 quan progr\n",
      "1 quan progr sai\n",
      "1 quan progr sai sequenc\n",
      "2 quan program\n",
      "2 quan program sai\n",
      "2 quan program sai sequenc\n",
      "2 registr\n",
      "1 registr log\n",
      "1 registr log event\n",
      "1 registr log event extern\n",
      "1 registr progr\n",
      "1 registr progr count\n",
      "1 registr progr count control\n",
      "1 reinicializ\n",
      "1 reinicializ microcontrol\n",
      "1 reinicializ microcontrol sistem\n",
      "1 reinicializ microcontrol sistem operac\n",
      "16 sai\n",
      "1 sai frequenc\n",
      "1 sai frequenc nom\n",
      "1 sai frequenc nom execuca\n",
      "15 sai sequenc\n",
      "1 sai sequenc condica\n",
      "1 sai sequenc condica so\n",
      "1 sai sequenc funcion\n",
      "1 sai sequenc nom\n",
      "1 sai sequenc nom execuca\n",
      "12 sai sequenc norm\n",
      "11 sai sequenc norm execuca\n",
      "1 sai sequenc norm exist\n",
      "4 satisfeit\n",
      "4 satisfeit desvi\n",
      "4 satisfeit desvi ocorr\n",
      "2 satisfeit desvi ocorr norm\n",
      "1 seg\n",
      "1 seg oprocess\n",
      "1 seg oprocess norm\n",
      "6 sempr\n",
      "6 sempr program\n",
      "6 sempr program sai\n",
      "6 sempr program sai sequenc\n",
      "15 sequenc\n",
      "1 sequenc condica\n",
      "1 sequenc condica so\n",
      "1 sequenc condica so desvi\n",
      "1 sequenc funcion\n",
      "1 sequenc nom\n",
      "1 sequenc nom execuca\n",
      "1 sequenc nom execuca desvi\n",
      "12 sequenc norm\n",
      "11 sequenc norm execuca\n",
      "6 sequenc norm execuca desvi\n",
      "5 sequenc norm execuca exist\n",
      "1 sequenc norm exist\n",
      "1 sequenc norm exist doi\n",
      "7 ser\n",
      "1 ser atend\n",
      "1 ser atend part\n",
      "1 ser atend part test\n",
      "1 ser programa\n",
      "1 ser programa form\n",
      "1 ser programa form imediat\n",
      "3 ser satisfeit\n",
      "3 ser satisfeit desvi\n",
      "3 ser satisfeit desvi ocorr\n",
      "1 ser solicit\n",
      "1 ser trat\n",
      "1 ser trat assim\n",
      "1 ser trat assim apo\n",
      "4 sinal\n",
      "1 sinal desvi\n",
      "1 sinal desvi acontec\n",
      "1 sinal desvi acontec qua\n",
      "2 sinal dsp\n",
      "2 sinal dsp process\n",
      "2 sinal dsp process digit\n",
      "3 sistem\n",
      "1 sistem operac\n",
      "1 sistem operac ocorr\n",
      "1 sistem operac ocorr falh\n",
      "1 sistem pipelin\n",
      "1 sistem pipelin nao\n",
      "1 sistem pipelin nao val\n",
      "1 sistem volt\n",
      "1 sistem volt oper\n",
      "1 sistem volt oper part\n",
      "1 so\n",
      "1 so desvi\n",
      "1 so desvi incondic\n",
      "1 so desvi incondic ocorr\n",
      "1 solicit\n",
      "1 temporiz\n",
      "1 temporiz reinicializ\n",
      "1 temporiz reinicializ microcontrol\n",
      "1 temporiz reinicializ microcontrol sistem\n",
      "1 ter\n",
      "1 ter val\n",
      "1 ter val alter\n",
      "1 ter val alter destin\n",
      "5 test\n",
      "1 test desvi\n",
      "1 test desvi ocorr\n",
      "1 test desvi ocorr program\n",
      "2 test test\n",
      "2 test test valid\n",
      "2 test test valid ocorr\n",
      "2 test valid\n",
      "2 test valid ocorr\n",
      "2 test valid ocorr desvi\n",
      "1 tim\n",
      "1 tim temporiz\n",
      "1 tim temporiz reinicializ\n",
      "1 tim temporiz reinicializ microcontrol\n",
      "6 tip\n",
      "5 tip desvi\n",
      "5 tip desvi desvi\n",
      "5 tip desvi desvi incondic\n",
      "1 tip memor\n",
      "1 tip memor eeprom\n",
      "1 tip memor eeprom flash\n",
      "1 tod\n",
      "1 tod instruca\n",
      "1 tod instruca pic\n",
      "1 tod instruca pic demand\n",
      "2 trat\n",
      "1 trat assim\n",
      "1 trat assim apo\n",
      "1 trat assim apo trat\n",
      "1 trat event\n",
      "1 trat event sistem\n",
      "1 trat event sistem volt\n",
      "2 val\n",
      "1 val alter\n",
      "1 val alter destin\n",
      "1 val alter destin especific\n",
      "1 val poi\n",
      "1 val poi posica\n",
      "1 val poi posica memor\n",
      "2 valid\n",
      "2 valid ocorr\n",
      "2 valid ocorr desvi\n",
      "1 volt\n",
      "1 volt oper\n",
      "1 volt oper part\n",
      "1 volt oper part ond\n",
      "1 watchdog\n",
      "1 watchdog tim\n",
      "1 watchdog tim temporiz\n",
      "1 watchdog tim temporiz reinicializ\n"
     ]
    }
   ],
   "source": [
    "from nltk import ngrams \n",
    "def word_grams(words, min=1, max=3):\n",
    "    s = []\n",
    "    if isinstance(words,str): \n",
    "        words=words.split()\n",
    "    \n",
    "    for n in range(min, max+1):\n",
    "        for ngram in ngrams(words, n):\n",
    "            s.append(' '.join(str(i) for i in ngram))\n",
    "    return s\n",
    "\n",
    "# Bag of words pacote sklearn\n",
    "from sklearn.feature_extraction.text import CountVectorizer\n",
    "import numpy as np\n",
    "\n",
    "# PRÉ-PROCESSAMENTO\n",
    "#dfMerged['Respostas']=pre_processamento(dfMerged['Respostas'])\n",
    "#print(respostas)\n",
    "\n",
    "vectorizer = CountVectorizer(analyzer = \"word\", tokenizer = None, preprocessor = None,  ngram_range=(1, 4), stop_words = stopwords, max_features = 5000) \n",
    "train_data_features = vectorizer.fit_transform(dfMerged['Respostas'])\n",
    "train_data_features = train_data_features.toarray()\n",
    "\n",
    "\n",
    "\n",
    "vocab = vectorizer.get_feature_names()\n",
    "# Sum up the counts of each vocabulary word\n",
    "dist = np.sum(train_data_features, axis=0)\n",
    "\n",
    "print(len(vocab))\n",
    "# For each, print the vocabulary word and the number of times it \n",
    "# appears in the training set\n",
    "for tag, count in zip(vocab, dist):\n",
    "    print(count, tag)"
   ]
  },
  {
   "cell_type": "markdown",
   "metadata": {},
   "source": [
    "### Avaliar a similaridade do 1o registro (resposta) com os demais\n",
    "> Método Cosseno"
   ]
  },
  {
   "cell_type": "code",
   "execution_count": 13,
   "metadata": {
    "collapsed": false
   },
   "outputs": [
    {
     "name": "stdout",
     "output_type": "stream",
     "text": [
      "   Notas                                          Respostas    Cosine\n",
      "0      2  desvi program ocorr sempr program sai sequenc ...  1.000000\n",
      "1    0.5  dsc control digit sinal dsp process digit sina...  0.088302\n",
      "2      0  watchdog tim temporiz reinicializ microcontrol...  0.097809\n",
      "3    1.0  desvi program ocorr algum condica esvi prev oc...  0.309359\n",
      "4    0.5  incondic ocorr independ qualqu fat ness cas oc...  0.295949\n",
      "5    1.7  ocorr program sai sequenc condica so desvi inc...  0.466494\n",
      "6    1.0  desvi condic incondic desvi incondic ocorr qua...  0.572822\n",
      "7    2.0  desvi program ocorr sempr program sai sequenc ...  0.871648\n",
      "8    0.5  desvi acontec ha necess oper interv program po...  0.106752\n",
      "9    1.8  desvi program ocorr sempr program sai sequenc ...  0.830672\n",
      "10   1.8  desvi program ocorr sempr program sai sequenc ...  0.810575\n",
      "11   1.8  desvi ocorr sempr program sai sequenc norm exe...  0.720711\n",
      "12   1.5  ocorr desvi instruca ja prev busc sistem pipel...  0.098871\n",
      "13   0.9  problem registr progr count control program mi...  0.041030\n",
      "14   2.0  desvi program ocorr sempr program sai sequenc ...  0.731564\n",
      "15   0.2  ocorr program sai frequenc nom execuca exist 3...  0.155902\n"
     ]
    }
   ],
   "source": [
    "from gensim import corpora, models, similarities\n",
    "\n",
    "from sklearn.metrics.pairwise import cosine_similarity\n",
    "\n",
    "#Similaridade entre o 1 documento (que é o gabarito) e os demais\n",
    "c=cosine_similarity(train_data_features[0:1],train_data_features)\n",
    "dfMerged['Cosine']=pd.Series(c[0])\n",
    "print(dfMerged)\n"
   ]
  },
  {
   "cell_type": "markdown",
   "metadata": {},
   "source": [
    "### Avaliar a similaridade do 1o registro (resposta) com os demais\n",
    "> Distância Euclideana"
   ]
  },
  {
   "cell_type": "code",
   "execution_count": 14,
   "metadata": {
    "collapsed": false
   },
   "outputs": [
    {
     "name": "stdout",
     "output_type": "stream",
     "text": [
      "   Notas                                          Respostas    Cosine  \\\n",
      "0      2  desvi program ocorr sempr program sai sequenc ...  1.000000   \n",
      "1    0.5  dsc control digit sinal dsp process digit sina...  0.088302   \n",
      "2      0  watchdog tim temporiz reinicializ microcontrol...  0.097809   \n",
      "3    1.0  desvi program ocorr algum condica esvi prev oc...  0.309359   \n",
      "4    0.5  incondic ocorr independ qualqu fat ness cas oc...  0.295949   \n",
      "5    1.7  ocorr program sai sequenc condica so desvi inc...  0.466494   \n",
      "6    1.0  desvi condic incondic desvi incondic ocorr qua...  0.572822   \n",
      "7    2.0  desvi program ocorr sempr program sai sequenc ...  0.871648   \n",
      "8    0.5  desvi acontec ha necess oper interv program po...  0.106752   \n",
      "9    1.8  desvi program ocorr sempr program sai sequenc ...  0.830672   \n",
      "10   1.8  desvi program ocorr sempr program sai sequenc ...  0.810575   \n",
      "11   1.8  desvi ocorr sempr program sai sequenc norm exe...  0.720711   \n",
      "12   1.5  ocorr desvi instruca ja prev busc sistem pipel...  0.098871   \n",
      "13   0.9  problem registr progr count control program mi...  0.041030   \n",
      "14   2.0  desvi program ocorr sempr program sai sequenc ...  0.731564   \n",
      "15   0.2  ocorr program sai frequenc nom execuca exist 3...  0.155902   \n",
      "\n",
      "    Euclidean  \n",
      "0    0.000000  \n",
      "1   21.817424  \n",
      "2   22.671568  \n",
      "3   20.049938  \n",
      "4   20.149442  \n",
      "5   18.384776  \n",
      "6   17.088007  \n",
      "7   10.392305  \n",
      "8   21.260292  \n",
      "9   11.575837  \n",
      "10  12.247449  \n",
      "11  14.560220  \n",
      "12  23.021729  \n",
      "13  21.118712  \n",
      "14  15.491933  \n",
      "15  20.784610  \n"
     ]
    }
   ],
   "source": [
    "from sklearn.metrics.pairwise import euclidean_distances\n",
    "\n",
    "e=euclidean_distances(train_data_features[0:1],train_data_features)\n",
    "dfMerged['Euclidean']=pd.Series(e[0])\n",
    "#print(e)\n",
    "#print(dfMerged.head())\n",
    "print(dfMerged)"
   ]
  },
  {
   "cell_type": "code",
   "execution_count": null,
   "metadata": {
    "collapsed": true
   },
   "outputs": [],
   "source": []
  },
  {
   "cell_type": "markdown",
   "metadata": {},
   "source": [
    "* Distância Manhattan"
   ]
  },
  {
   "cell_type": "code",
   "execution_count": 15,
   "metadata": {
    "collapsed": false
   },
   "outputs": [
    {
     "name": "stdout",
     "output_type": "stream",
     "text": [
      "   Notas                                          Respostas    Cosine  \\\n",
      "0      2  desvi program ocorr sempr program sai sequenc ...  1.000000   \n",
      "1    0.5  dsc control digit sinal dsp process digit sina...  0.088302   \n",
      "2      0  watchdog tim temporiz reinicializ microcontrol...  0.097809   \n",
      "3    1.0  desvi program ocorr algum condica esvi prev oc...  0.309359   \n",
      "4    0.5  incondic ocorr independ qualqu fat ness cas oc...  0.295949   \n",
      "5    1.7  ocorr program sai sequenc condica so desvi inc...  0.466494   \n",
      "6    1.0  desvi condic incondic desvi incondic ocorr qua...  0.572822   \n",
      "7    2.0  desvi program ocorr sempr program sai sequenc ...  0.871648   \n",
      "8    0.5  desvi acontec ha necess oper interv program po...  0.106752   \n",
      "9    1.8  desvi program ocorr sempr program sai sequenc ...  0.830672   \n",
      "10   1.8  desvi program ocorr sempr program sai sequenc ...  0.810575   \n",
      "11   1.8  desvi ocorr sempr program sai sequenc norm exe...  0.720711   \n",
      "12   1.5  ocorr desvi instruca ja prev busc sistem pipel...  0.098871   \n",
      "13   0.9  problem registr progr count control program mi...  0.041030   \n",
      "14   2.0  desvi program ocorr sempr program sai sequenc ...  0.731564   \n",
      "15   0.2  ocorr program sai frequenc nom execuca exist 3...  0.155902   \n",
      "\n",
      "    Euclidean  Manhattan  \n",
      "0    0.000000        0.0  \n",
      "1   21.817424      298.0  \n",
      "2   22.671568      342.0  \n",
      "3   20.049938      282.0  \n",
      "4   20.149442      272.0  \n",
      "5   18.384776      226.0  \n",
      "6   17.088007      230.0  \n",
      "7   10.392305       96.0  \n",
      "8   21.260292      278.0  \n",
      "9   11.575837      124.0  \n",
      "10  12.247449      134.0  \n",
      "11  14.560220      156.0  \n",
      "12  23.021729      358.0  \n",
      "13  21.118712      254.0  \n",
      "14  15.491933      168.0  \n",
      "15  20.784610      254.0  \n"
     ]
    }
   ],
   "source": [
    "from sklearn.metrics.pairwise import manhattan_distances\n",
    "\n",
    "#Similaridade entre o 1 documento (que é o gabarito) e os demais\n",
    "c=manhattan_distances(train_data_features[0:1],train_data_features)\n",
    "dfMerged['Manhattan']=pd.Series(c[0])\n",
    "print(dfMerged)"
   ]
  },
  {
   "cell_type": "markdown",
   "metadata": {},
   "source": [
    "### Diversas Métricas em:\n",
    "http://scikit-learn.org/stable/modules/generated/sklearn.neighbors.DistanceMetric.html"
   ]
  },
  {
   "cell_type": "code",
   "execution_count": 16,
   "metadata": {
    "collapsed": false
   },
   "outputs": [
    {
     "name": "stdout",
     "output_type": "stream",
     "text": [
      "[[ 0.         21.81742423 22.6715681  20.04993766 20.14944168 18.38477631\n",
      "  17.08800749 10.39230485 21.26029163 11.5758369  12.24744871 14.56021978\n",
      "  23.02172887 21.11871208 15.49193338 20.78460969]]\n"
     ]
    }
   ],
   "source": [
    "from sklearn.neighbors import DistanceMetric\n",
    "dist = DistanceMetric.get_metric('minkowski')\n",
    "dp=dist.pairwise(train_data_features)\n",
    "print(dp[0:1])"
   ]
  },
  {
   "cell_type": "markdown",
   "metadata": {},
   "source": [
    "### Normalização das diferentes métricas\n",
    "Os valores obtidos pelas métricas serão normalizados segundo a expressão"
   ]
  },
  {
   "cell_type": "code",
   "execution_count": 17,
   "metadata": {
    "collapsed": false
   },
   "outputs": [
    {
     "name": "stdout",
     "output_type": "stream",
     "text": [
      "   Notas                                          Respostas    Cosine  \\\n",
      "0      2  desvi program ocorr sempr program sai sequenc ...  1.000000   \n",
      "1    0.5  dsc control digit sinal dsp process digit sina...  0.088302   \n",
      "2      0  watchdog tim temporiz reinicializ microcontrol...  0.097809   \n",
      "3    1.0  desvi program ocorr algum condica esvi prev oc...  0.309359   \n",
      "4    0.5  incondic ocorr independ qualqu fat ness cas oc...  0.295949   \n",
      "5    1.7  ocorr program sai sequenc condica so desvi inc...  0.466494   \n",
      "6    1.0  desvi condic incondic desvi incondic ocorr qua...  0.572822   \n",
      "7    2.0  desvi program ocorr sempr program sai sequenc ...  0.871648   \n",
      "8    0.5  desvi acontec ha necess oper interv program po...  0.106752   \n",
      "9    1.8  desvi program ocorr sempr program sai sequenc ...  0.830672   \n",
      "10   1.8  desvi program ocorr sempr program sai sequenc ...  0.810575   \n",
      "11   1.8  desvi ocorr sempr program sai sequenc norm exe...  0.720711   \n",
      "12   1.5  ocorr desvi instruca ja prev busc sistem pipel...  0.098871   \n",
      "13   0.9  problem registr progr count control program mi...  0.041030   \n",
      "14   2.0  desvi program ocorr sempr program sai sequenc ...  0.731564   \n",
      "15   0.2  ocorr program sai frequenc nom execuca exist 3...  0.155902   \n",
      "\n",
      "    Euclidean  Manhattan  NotasNorm  Levenshtein  Demerau  DemerauNorm  \\\n",
      "0    0.000000        0.0       1.00          0.0      0.0     1.000000   \n",
      "1   21.817424      298.0       0.25        390.0    390.0     0.090909   \n",
      "2   22.671568      342.0       0.00        348.0    348.0     0.188811   \n",
      "3   20.049938      282.0       0.50        357.0    357.0     0.167832   \n",
      "4   20.149442      272.0       0.25        373.0    373.0     0.130536   \n",
      "5   18.384776      226.0       0.85        346.0    346.0     0.193473   \n",
      "6   17.088007      230.0       0.50        322.0    322.0     0.249417   \n",
      "7   10.392305       96.0       1.00        186.0    186.0     0.566434   \n",
      "8   21.260292      278.0       0.25        401.0    401.0     0.065268   \n",
      "9   11.575837      124.0       0.90        132.0    132.0     0.692308   \n",
      "10  12.247449      134.0       0.90        177.0    177.0     0.587413   \n",
      "11  14.560220      156.0       0.90        265.0    265.0     0.382284   \n",
      "12  23.021729      358.0       0.75        344.0    343.0     0.200466   \n",
      "13  21.118712      254.0       0.45        429.0    429.0     0.000000   \n",
      "14  15.491933      168.0       1.00        351.0    351.0     0.181818   \n",
      "15  20.784610      254.0       0.10        415.0    415.0     0.032634   \n",
      "\n",
      "        Jaro  CosineNorm  EuclideanNorm  ManhattanNorm  \n",
      "0   1.000000    1.000000       1.000000       1.000000  \n",
      "1   0.612976    0.088302       0.052312       0.167598  \n",
      "2   0.656550    0.097809       0.015210       0.044693  \n",
      "3   0.655157    0.309359       0.129086       0.212291  \n",
      "4   0.646121    0.295949       0.124764       0.240223  \n",
      "5   0.624124    0.466494       0.201416       0.368715  \n",
      "6   0.650995    0.572822       0.257744       0.357542  \n",
      "7   0.776712    0.871648       0.548587       0.731844  \n",
      "8   0.595245    0.106752       0.076512       0.223464  \n",
      "9   0.787764    0.830672       0.497178       0.653631  \n",
      "10  0.769252    0.810575       0.468005       0.625698  \n",
      "11  0.681340    0.720711       0.367544       0.564246  \n",
      "12  0.683775    0.098871       0.000000       0.000000  \n",
      "13  0.568619    0.041030       0.082662       0.290503  \n",
      "14  0.658881    0.731564       0.327073       0.530726  \n",
      "15  0.554838    0.155902       0.097174       0.290503  \n"
     ]
    }
   ],
   "source": [
    "def format_double(lst):\n",
    "    #return [ \"%.2f\" % elem for elem in lst ]\n",
    "    return [float(x) for x in notas ]\n",
    "\n",
    "def complement(lst):\n",
    "    return [(1-i) for i in lst]\n",
    "\n",
    "def normalize(arr):\n",
    "    arr /= np.max(np.abs(arr),axis=0)\n",
    "    return arr\n",
    "\n",
    "#NOTAS\n",
    "notas=dfMerged['Notas'].tolist()\n",
    "notas=normalize(format_double(notas))\n",
    "dfMerged['NotasNorm']=pd.Series(notas)\n",
    "\n",
    "#LEVENSHTEIN\n",
    "dfMerged['Levenshtein']=pd.Series(lev[0])\n",
    "\n",
    "#DEMERAU\n",
    "dfMerged['Demerau']=pd.Series(dem[0])\n",
    "dfMerged['DemerauNorm']=pd.Series(complement(normalize(dem[0])))\n",
    "\n",
    "#JARO\n",
    "dfMerged['Jaro']=pd.Series(jar[0])\n",
    "\n",
    "\n",
    "##COSINE\n",
    "# Valores 1 => similar; 0 => dissimilar\n",
    "#print(\"\\n\\n\",format_double(dfMerged['Cosine'].tolist()))\n",
    "xCos=dfMerged['Cosine'].tolist()\n",
    "dfMerged['CosineNorm']=pd.Series(xCos)\n",
    "\n",
    "#EUCLIDEAN\n",
    "# Valores 0 => similar; +inf => dissimilar\n",
    "xEuc=dfMerged['Euclidean'].tolist()\n",
    "#print(\"\\n\\n\",format_double(xEuc))\n",
    "\n",
    "xEuc=complement(normalize(xEuc)) #\n",
    "#print(\"\\nNorm\\n\",format_double(xEuc))\n",
    "dfMerged['EuclideanNorm']=pd.Series(xEuc)\n",
    "\n",
    "#MANHATTAN\n",
    "#Valores 0 => similar; +inf => dissimilar\n",
    "xMan=dfMerged['Manhattan'].tolist()\n",
    "#print(\"\\n\\n\",format_double(xMan))\n",
    "xMan=complement(normalize(xMan)) #\n",
    "#print(\"\\nNorm\\n\",format_double(xMan))\n",
    "dfMerged['ManhattanNorm']=pd.Series(xMan)\n",
    "\n",
    "\n",
    "print(dfMerged)"
   ]
  },
  {
   "cell_type": "markdown",
   "metadata": {},
   "source": [
    "### Salvar DataFrame para Excel"
   ]
  },
  {
   "cell_type": "code",
   "execution_count": 18,
   "metadata": {
    "collapsed": false
   },
   "outputs": [],
   "source": [
    "from pandas import ExcelWriter\n",
    "\n",
    "writer = ExcelWriter('/home/leonard/ic_4gram.xlsx')\n",
    "dfMerged.to_excel(writer,'Sheet5')\n",
    "writer.save()"
   ]
  },
  {
   "cell_type": "code",
   "execution_count": 19,
   "metadata": {
    "collapsed": false
   },
   "outputs": [
    {
     "data": {
      "text/plain": [
       "\"\\nimport scipy.stats as stats\\nimport matplotlib.pyplot as plt\\n\\nh = dfMerged['Cosine'].tolist()  #sorted\\ne = dfMerged['Notas'].tolist()\\nprint(e)\\ne = normalize(e)\\ne=e.tolist()\\ne.sort()\\n\\nprint(e)\\nh.sort()\\ne.sort()\\n\\nhmean = np.mean(h)\\nemean = np.mean(e)\\n\\nhstd = np.std(h)\\nestd = np.std(e)\\n\\npdf = stats.norm.pdf(h, hmean, hstd)\\nepdf = stats.norm.pdf(e, emean, estd)\\n\\nplt.plot(e, pdf) \\nplt.plot(h, pdf) \\n\\nplt.show()\\n\""
      ]
     },
     "execution_count": 19,
     "metadata": {},
     "output_type": "execute_result"
    }
   ],
   "source": [
    "'''\n",
    "import scipy.stats as stats\n",
    "import matplotlib.pyplot as plt\n",
    "\n",
    "h = dfMerged['Cosine'].tolist()  #sorted\n",
    "e = dfMerged['Notas'].tolist()\n",
    "print(e)\n",
    "e = normalize(e)\n",
    "e=e.tolist()\n",
    "e.sort()\n",
    "\n",
    "print(e)\n",
    "h.sort()\n",
    "e.sort()\n",
    "\n",
    "hmean = np.mean(h)\n",
    "emean = np.mean(e)\n",
    "\n",
    "hstd = np.std(h)\n",
    "estd = np.std(e)\n",
    "\n",
    "pdf = stats.norm.pdf(h, hmean, hstd)\n",
    "epdf = stats.norm.pdf(e, emean, estd)\n",
    "\n",
    "plt.plot(e, pdf) \n",
    "plt.plot(h, pdf) \n",
    "\n",
    "plt.show()\n",
    "'''"
   ]
  },
  {
   "cell_type": "markdown",
   "metadata": {},
   "source": [
    "Metodologia para validação dos resultados\n",
    "====\n",
    "* Na análise estatística, para um teste de normalidade, estamos testando a **hipótese nula** de que nossos dados  são amostrados de uma população que possui uma **distribuição normal**. Assumimos um nível de significância de 0,05 ou 95% para nossos testes, salvo indicação em contrário.\n",
    "* Passos:\n",
    "    1. As duas amostrs devem ter distribuição normal\n",
    "        - Shapiro-Wilk: The Shapiro-Wilk normality test is reputadely more well suited to smaller datasets.\n",
    "    2. As duas amostras devem ter mesma variância\n",
    "        - teste F de igualdade de variâncias\n",
    "    3. As duas amostras devem ser independentes.\n"
   ]
  },
  {
   "cell_type": "markdown",
   "metadata": {},
   "source": [
    "### Verificar graficamente se as amostras possuem distribuição normal"
   ]
  },
  {
   "cell_type": "code",
   "execution_count": 20,
   "metadata": {
    "collapsed": false
   },
   "outputs": [
    {
     "data": {
      "image/png": "[encoded data removed]",
      "text/plain": [
       "<Figure size 432x288 with 1 Axes>"
      ]
     },
     "metadata": {},
     "output_type": "display_data"
    }
   ],
   "source": [
    "import numpy as np \n",
    "import pylab \n",
    "import scipy.stats as stats\n",
    "\n",
    "notas=[]\n",
    "n=0\n",
    "for index,row in dfMerged.iterrows(): #Respostas\n",
    "    if (type(row['Notas']) is str):\n",
    "        n=float(row['Notas'].replace(',','.'))#=\"0\"#(row['Notas']).replace(',','.')\n",
    "    else:\n",
    "        n=row['Notas']\n",
    "    notas.append(n)    \n",
    "dfMerged['Notas']=notas        \n",
    "\n",
    "\n",
    "stats.probplot(notas, dist=\"norm\", plot=pylab)\n",
    "pylab.show()"
   ]
  },
  {
   "cell_type": "code",
   "execution_count": 21,
   "metadata": {
    "collapsed": false
   },
   "outputs": [
    {
     "data": {
      "image/png": "[encoded data removed]",
      "text/plain": [
       "<Figure size 432x288 with 1 Axes>"
      ]
     },
     "metadata": {},
     "output_type": "display_data"
    }
   ],
   "source": [
    "#DIST EUCLIDEANA\n",
    "\n",
    "stats.probplot(dfMerged['Euclidean'], dist=\"norm\", plot=pylab)\n",
    "pylab.show()"
   ]
  },
  {
   "cell_type": "code",
   "execution_count": 22,
   "metadata": {
    "collapsed": false
   },
   "outputs": [
    {
     "data": {
      "image/png": "[encoded data removed]",
      "text/plain": [
       "<Figure size 432x288 with 1 Axes>"
      ]
     },
     "metadata": {},
     "output_type": "display_data"
    }
   ],
   "source": [
    "#DIST COSINE\n",
    "\n",
    "stats.probplot(dfMerged['Cosine'], dist=\"norm\", plot=pylab)\n",
    "pylab.show()"
   ]
  },
  {
   "cell_type": "code",
   "execution_count": 23,
   "metadata": {
    "collapsed": false
   },
   "outputs": [
    {
     "data": {
      "image/png": "[encoded data removed]",
      "text/plain": [
       "<Figure size 432x288 with 1 Axes>"
      ]
     },
     "metadata": {},
     "output_type": "display_data"
    }
   ],
   "source": [
    "stats.probplot(dfMerged['Manhattan'], dist=\"norm\", plot=pylab)\n",
    "pylab.show()\n"
   ]
  },
  {
   "cell_type": "markdown",
   "metadata": {},
   "source": [
    "### Shapiro-Wilk\n",
    "#### Verifica se os dados possuem distribuição normal\n",
    "\n",
    "\n",
    "Em geral, para um teste de normalidade, estamos testando a **hipótese nula** de que nossos dados 1D são amostrados de uma população que **possui uma distribuição normal**. Assumimos um nível de significância de 0.05 ou 95% para nossos testes, a menos que seja indicado de outra forma.\n",
    "O teste de normalidade Shapiro-Wilk é mais adequado para conjuntos de dados menores.\n",
    "Como nosso valor p é muito menor do que nossa estatística de teste, temos boas evidências para não rejeitar a hipótese nula no nível de significância de 0,05."
   ]
  },
  {
   "cell_type": "code",
   "execution_count": 24,
   "metadata": {
    "collapsed": false
   },
   "outputs": [
    {
     "ename": "NameError",
     "evalue": "name 'init_notebook_mode' is not defined",
     "output_type": "error",
     "traceback": [
      "\u001b[0;31m---------------------------------------------------------------------------\u001b[0m",
      "\u001b[0;31mNameError\u001b[0m                                 Traceback (most recent call last)",
      "\u001b[0;32m<ipython-input-24-2e54eea03a02>\u001b[0m in \u001b[0;36m<module>\u001b[0;34m()\u001b[0m\n\u001b[0;32m----> 1\u001b[0;31m \u001b[0minit_notebook_mode\u001b[0m\u001b[0;34m(\u001b[0m\u001b[0mconnected\u001b[0m\u001b[0;34m=\u001b[0m\u001b[0;32mTrue\u001b[0m\u001b[0;34m)\u001b[0m\u001b[0;34m\u001b[0m\u001b[0m\n\u001b[0m\u001b[1;32m      2\u001b[0m \u001b[0;32mfrom\u001b[0m \u001b[0mplotly\u001b[0m \u001b[0;32mimport\u001b[0m \u001b[0m__version__\u001b[0m\u001b[0;34m\u001b[0m\u001b[0m\n\u001b[1;32m      3\u001b[0m \u001b[0;32mfrom\u001b[0m \u001b[0mplotly\u001b[0m\u001b[0;34m.\u001b[0m\u001b[0moffline\u001b[0m \u001b[0;32mimport\u001b[0m \u001b[0mdownload_plotlyjs\u001b[0m\u001b[0;34m,\u001b[0m \u001b[0minit_notebook_mode\u001b[0m\u001b[0;34m,\u001b[0m \u001b[0mplot\u001b[0m\u001b[0;34m,\u001b[0m \u001b[0miplot\u001b[0m\u001b[0;34m\u001b[0m\u001b[0m\n\u001b[1;32m      4\u001b[0m \u001b[0;32mfrom\u001b[0m \u001b[0mplotly\u001b[0m\u001b[0;34m.\u001b[0m\u001b[0mgraph_objs\u001b[0m \u001b[0;32mimport\u001b[0m \u001b[0mScatter\u001b[0m\u001b[0;34m,\u001b[0m \u001b[0mFigure\u001b[0m\u001b[0;34m,\u001b[0m \u001b[0mLayout\u001b[0m\u001b[0;34m\u001b[0m\u001b[0m\n\u001b[1;32m      5\u001b[0m \u001b[0;32mimport\u001b[0m \u001b[0mplotly\u001b[0m\u001b[0;34m.\u001b[0m\u001b[0mfigure_factory\u001b[0m \u001b[0;32mas\u001b[0m \u001b[0mff\u001b[0m\u001b[0;34m\u001b[0m\u001b[0m\n",
      "\u001b[0;31mNameError\u001b[0m: name 'init_notebook_mode' is not defined"
     ]
    }
   ],
   "source": [
    "init_notebook_mode(connected=True)\n",
    "from plotly import __version__\n",
    "from plotly.offline import download_plotlyjs, init_notebook_mode, plot, iplot \n",
    "from plotly.graph_objs import Scatter, Figure, Layout\n",
    "import plotly.figure_factory as ff\n",
    "\n",
    "import numpy as np\n",
    "import pandas as pd\n",
    "import scipy\n",
    "from plotly.graph_objs import Scatter, Figure, Layout\n",
    "\n",
    "def sw_table(amostra):\n",
    "    shapiro_results = scipy.stats.shapiro(amostra)\n",
    "    \n",
    "    matrix_sw = [\n",
    "        ['', 'DF', 'Test Statistic', 'p-value'],\n",
    "        ['Sample Data', len(amostra) - 1, shapiro_results[0], shapiro_results[1]]\n",
    "    ]\n",
    "\n",
    "    shapiro_table = ff.create_table(matrix_sw, index=True)\n",
    "    iplot(shapiro_table, filename='shapiro-table')"
   ]
  },
  {
   "cell_type": "code",
   "execution_count": null,
   "metadata": {
    "collapsed": false
   },
   "outputs": [],
   "source": [
    "# Notas\n",
    "sw_table(dfMerged['Notas'])"
   ]
  },
  {
   "cell_type": "code",
   "execution_count": null,
   "metadata": {
    "collapsed": false
   },
   "outputs": [],
   "source": [
    "# Euclidean\n",
    "sw_table(dfMerged['Euclidean'])"
   ]
  },
  {
   "cell_type": "code",
   "execution_count": null,
   "metadata": {
    "collapsed": false
   },
   "outputs": [],
   "source": [
    "# Cosine\n",
    "sw_table(dfMerged['Cosine'])"
   ]
  },
  {
   "cell_type": "code",
   "execution_count": null,
   "metadata": {
    "collapsed": false
   },
   "outputs": [],
   "source": [
    "# Manhatthan\n",
    "sw_table(dfMerged['Manhattan'])"
   ]
  },
  {
   "cell_type": "markdown",
   "metadata": {},
   "source": [
    "### Kolmogorov-Smirnov\n",
    "Como nosso p-valor é lido como 0.0 (significando que é \"praticamente\" 0 dada a precisão decimal do teste), então temos fortes evidências para não rejeitar a hipótese nula"
   ]
  },
  {
   "cell_type": "code",
   "execution_count": null,
   "metadata": {
    "collapsed": true
   },
   "outputs": [],
   "source": [
    "def ks_table(amostra):\n",
    "    ks_results = scipy.stats.kstest(amostra, cdf='norm')\n",
    "\n",
    "    matrix_ks = [\n",
    "        ['', 'DF', 'Test Statistic', 'p-value'],\n",
    "        ['Sample Data', len(amostra) - 1, ks_results[0], ks_results[1]]\n",
    "    ]\n",
    "\n",
    "    ks_table = ff.create_table(matrix_ks, index=True)\n",
    "    iplot(ks_table, filename='ks-table')"
   ]
  },
  {
   "cell_type": "code",
   "execution_count": null,
   "metadata": {
    "collapsed": false
   },
   "outputs": [],
   "source": [
    "# Notas\n",
    "ks_table(dfMerged['Notas'])"
   ]
  },
  {
   "cell_type": "code",
   "execution_count": null,
   "metadata": {
    "collapsed": false
   },
   "outputs": [],
   "source": [
    "# Euclidean\n",
    "ks_table(dfMerged['Euclidean'])"
   ]
  },
  {
   "cell_type": "code",
   "execution_count": null,
   "metadata": {
    "collapsed": false
   },
   "outputs": [],
   "source": [
    "# Cosine\n",
    "ks_table(dfMerged['Cosine'])"
   ]
  },
  {
   "cell_type": "code",
   "execution_count": null,
   "metadata": {
    "collapsed": false
   },
   "outputs": [],
   "source": [
    "# Manhatthan\n",
    "ks_table(dfMerged['Manhattan'])"
   ]
  },
  {
   "cell_type": "markdown",
   "metadata": {},
   "source": [
    "### Calculando a variância das amostras"
   ]
  },
  {
   "cell_type": "code",
   "execution_count": null,
   "metadata": {
    "collapsed": false
   },
   "outputs": [],
   "source": [
    "\n",
    "columns=['Notas','Euclidean','Cosine','Manhattan']\n",
    "metrics=[]\n",
    "for c in columns:\n",
    "    metrics.append([c,np.var([dfMerged[c]],dtype=np.float64)])\n",
    "print(metrics)"
   ]
  },
  {
   "cell_type": "markdown",
   "metadata": {},
   "source": [
    "T-student\n",
    "=====\n",
    "o teste t de Student pode ser utilizado para avaliar se há diferença significativa entre as médias de duas amostras\n",
    "> Entrada: duas amostras\n",
    "> Saída: dois valores onde\n",
    "* O primeiro valor corresponde ao valor T \n",
    "* e o segundo corresponde ao valor p (two-tailed)."
   ]
  },
  {
   "cell_type": "code",
   "execution_count": null,
   "metadata": {
    "collapsed": false
   },
   "outputs": [],
   "source": [
    "from scipy import stats\n",
    "for c in columns: \n",
    "    print(c,\": \\t\",stats.ttest_ind(dfMerged['Notas'],dfMerged[c]))"
   ]
  }
 ],
 "metadata": {
  "anaconda-cloud": {},
  "kernelspec": {
   "display_name": "Python [default]",
   "language": "python",
   "name": "python3"
  },
  "language_info": {
   "codemirror_mode": {
    "name": "ipython",
    "version": 3
   },
   "file_extension": ".py",
   "mimetype": "text/x-python",
   "name": "python",
   "nbconvert_exporter": "python",
   "pygments_lexer": "ipython3",
   "version": "3.5.4"
  }
 },
 "nbformat": 4,
 "nbformat_minor": 2
}
