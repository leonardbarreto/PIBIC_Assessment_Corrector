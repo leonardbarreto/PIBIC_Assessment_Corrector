{
 "cells": [
  {
   "cell_type": "markdown",
   "metadata": {},
   "source": [
    "# Carregar conjunto de documentos"
   ]
  },
  {
   "cell_type": "code",
   "execution_count": 238,
   "metadata": {
    "collapsed": false
   },
   "outputs": [
    {
     "name": "stdout",
     "output_type": "stream",
     "text": [
      "['watchdog timer: esse temporizador reinicializa o microcontrolador (sistema operacional), quando ocorre a falha em atualizar o registrador. Logo, esse evento externo é enviado para um endereço pré-definido, onde o mesmo será tratado. Assim, após o tratamento do evento, o sistema volta a operar à partir de onde ocorreu o desvio.', 'Um desvio em um programa ocorre quando alguma condição esvio prevista ocorre anteriormente à instrução de desvio. A instrução de desvio básica é a GOTO, que leva o programa para a linha determinada nesta instrução.', 'Incondicional -> ocorre independente de qualquer fator. Nesse caso ocorrera o GOTO. Condicional -> depende de algumas condições a serem atendidas a partir de testes. Esses desvios ocorrem quando o programa sai da sua sequencia de funcionamento.', 'Desvio acontece quando há necessidade do operador intervir no programa. Pode ser programável ou de forma imediata de acordo com a necessidade.', 'O desvio ocorre sempre que o programa sai de sequência normal de execução. Existe o desvio incondicional que ocorre quano o programa sai da sequencia normal de execução e é desviado para outro ponto da memória do programa independente de qualquer condição, o desvio ocorre sem depender de nada. ', 'Quando da problema no registrador (program counter) ou no controlador do programa para microcontroladores.']\n"
     ]
    }
   ],
   "source": [
    "import os\n",
    "from itertools import islice\n",
    "\n",
    "path=\"/home/leonard/Faculdades/ESTACIO/Projetos/IC/2017-2018/Luiz/Dados/SistMicroprocessadores\"\n",
    "def encontraArquivosEmPastaRecursivamente(pasta, extensao):\n",
    "    arquivosTxt = []\n",
    "    caminhoAbsoluto = os.path.abspath(pasta)\n",
    "    for pastaAtual, subPastas, arquivos  in os.walk(caminhoAbsoluto):\n",
    "        arquivosTxt.extend([os.path.join(pastaAtual,arquivo) for arquivo in arquivos if arquivo.endswith('.txt')])\n",
    "    return arquivosTxt\n",
    "\n",
    "\n",
    "arquivos = encontraArquivosEmPastaRecursivamente(path, '.txt')\n",
    "\n",
    "'''\n",
    "Padrão do arquivo\n",
    "1a linha: <nota atribuída> de <valor da questão>\n",
    "2a linha: em branco\n",
    "3a linha em diante: resposta\n",
    "'''\n",
    "corpus_respostas=[]\n",
    "for a in arquivos:\n",
    "    arq = open(a,'r')\n",
    "    with open(a) as lines:\n",
    "        #lines = arq.readlines()\n",
    "        lines = [lines.rstrip(\"\\n\") for lines in arq] #retirar o caracter de fim de linha\n",
    "        # then skip the next 2\n",
    "        for line in islice(lines, 3):\n",
    "            pass\n",
    "        corpus_respostas.append(line)\n",
    "    arq.close()\n",
    "print(corpus_respostas)    \n",
    "    "
   ]
  },
  {
   "cell_type": "markdown",
   "metadata": {},
   "source": [
    "**ETAPA** 1\n",
    "===\n",
    "Avaliar a qualidade das respostas, independente do gabarito, pautadas na ocorrência de:\n",
    "1. erros de grafia;\n",
    "2. erros gramaticais;  "
   ]
  },
  {
   "cell_type": "code",
   "execution_count": 240,
   "metadata": {
    "collapsed": false
   },
   "outputs": [
    {
     "name": "stdout",
     "output_type": "stream",
     "text": [
      "['watchdog timer: esse temporizador reinicializa o microcontrolador (sistema operacional), quando ocorre a falha em atualizar o registrador. Logo, esse evento externo é enviado para um endereço pré-definido, onde o mesmo será tratado. Assim, após o tratamento do evento, o sistema volta a operar à partir de onde ocorreu o desvio.', 'Um desvio em um programa ocorre quando alguma condição esvio prevista ocorre anteriormente à instrução de desvio. A instrução de desvio básica é a GOTO, que leva o programa para a linha determinada nesta instrução.', 'Incondicional -> ocorre independente de qualquer fator. Nesse caso ocorrera o GOTO. Condicional -> depende de algumas condições a serem atendidas a partir de testes. Esses desvios ocorrem quando o programa sai da sua sequencia de funcionamento.', 'Desvio acontece quando há necessidade do operador intervir no programa. Pode ser programável ou de forma imediata de acordo com a necessidade.', 'O desvio ocorre sempre que o programa sai de sequência normal de execução. Existe o desvio incondicional que ocorre quano o programa sai da sequencia normal de execução e é desviado para outro ponto da memória do programa independente de qualquer condição, o desvio ocorre sem depender de nada. ', 'Quando da problema no registrador (program counter) ou no controlador do programa para microcontroladores.']\n",
      "registrador  ~>  registrado\n",
      "controlador  ~>  consolador\n",
      "2  erro(s)\n",
      "(%): 14.29\n"
     ]
    }
   ],
   "source": [
    "respostas = ['Tais comandos devem ser colocados dentro de um bloco try. Porque no caso de ocorrer um exceção no bloco try, ela será lançado, os demais comandos da bloco serão suspensos, e o controle passará para o primeiro bloco catch que tenha um parâmetro de modelo compatível com a exceção lançada.','Tais comandos devem ser colocados dentro de um bloco try. Porque no caso de ocorrer um exceção no bloco try, ela será lançado, os demais comandos da bloco serão suspensos, e o controle passará para o primeiro bloco catch que tenha um parâmetro de tipo compatível com a exceção lançada.','Tais comandos devem ser colocados dentro de um bloco try. Porque no caso de ocorrer um exceção no bloco try, ela será lançado, os demais comandos da bloco serão suspensos, e o controle passará para o primeiro bloco catch que tenha um parâmetro de tipo compatível com a exceção lançada.','Tais comandos devem ser colocados dentro de um bloco try. Porque no caso de ocorrer um exceção no bloco try, ela será lançado, os demais comandos da bloco serão suspensos, e o controle passará para o primeiro bloco catch que tenha um parâmetro de tipo compatível com a exceção lançada.']\n",
    "\n",
    "import re\n",
    "import SpellChecker as sc\n",
    "from nltk.corpus import wordnet\n",
    "\n",
    "respostasSemPontuacao=[]\n",
    "for r in corpus_respostas:\n",
    "    respostasSemPontuacao.append(re.sub('[->(),.]', '', r))\n",
    "    \n",
    "for r in respostasSemPontuacao:\n",
    "\twords = r.lower().split()\n",
    "\n",
    "# Verifica o número de erros entre os termos e a correção\n",
    "errors = 0\n",
    "doc_size = len(words)\n",
    "for w in words:\n",
    "    if not wordnet.synsets(w): #se o termo não estiver em inglês\n",
    "        if w != sc.correction(w):\n",
    "            print(w,\" ~> \",sc.correction(w))\n",
    "            errors+=1\n",
    "err_per=(errors/doc_size)*100\n",
    "print(errors,\" erro(s)\\n(%%): %.2f\" %err_per)"
   ]
  },
  {
   "cell_type": "markdown",
   "metadata": {},
   "source": [
    "ANÁLISE GRAMATICAL\n",
    "===\n",
    "> A Análise gramatical é realizada sobre o conjunto de respostas original, ou seja, considera-se o texto na íntegra, com pontuações, etc.\n",
    "\n",
    "> Uso do Cogroo (https://github.com/gpassero/cogroo4py) para análise gramatical\n",
    "\n",
    "* Deve-se executar o arquivo cogroo4py.jar no console\n",
    "\n",
    "> ``` $ java -jar cogroo4py.jar & ```\n"
   ]
  },
  {
   "cell_type": "code",
   "execution_count": 234,
   "metadata": {
    "collapsed": false
   },
   "outputs": [
    {
     "name": "stdout",
     "output_type": "stream",
     "text": [
      "\n",
      "\n",
      " Quando da problema no registrador (program counter) ou no controlador do programa para microcontroladores.  ~  [[xml:114] Os determinantes concordam com o substantivo a que se referem.] \n",
      "\n",
      "\n",
      "\n",
      "\n",
      "Erros:  1\n",
      "\n",
      "\n",
      " Quando da problema no registrador (program counter) ou no controlador do programa para microcontroladores.  ~  [[xml:114] Os determinantes concordam com o substantivo a que se referem.] \n",
      "\n",
      "\n",
      "\n",
      "\n",
      "Erros:  1\n",
      "\n",
      "\n",
      " Quando da problema no registrador (program counter) ou no controlador do programa para microcontroladores.  ~  [[xml:114] Os determinantes concordam com o substantivo a que se referem.] \n",
      "\n",
      "\n",
      "\n",
      "\n",
      "Erros:  1\n",
      "\n",
      "\n",
      " Quando da problema no registrador (program counter) ou no controlador do programa para microcontroladores.  ~  [[xml:114] Os determinantes concordam com o substantivo a que se referem.] \n",
      "\n",
      "\n",
      "\n",
      "\n",
      "Erros:  1\n",
      "\n",
      "\n",
      " Quando da problema no registrador (program counter) ou no controlador do programa para microcontroladores.  ~  [[xml:114] Os determinantes concordam com o substantivo a que se referem.] \n",
      "\n",
      "\n",
      "\n",
      "\n",
      "Erros:  1\n",
      "\n",
      "\n",
      " Quando da problema no registrador (program counter) ou no controlador do programa para microcontroladores.  ~  [[xml:114] Os determinantes concordam com o substantivo a que se referem.] \n",
      "\n",
      "\n",
      "\n",
      "\n",
      "Erros:  1\n"
     ]
    }
   ],
   "source": [
    "from cogroo_interface import Cogroo\n",
    "\n",
    "cogroo = Cogroo.Instance()\n",
    "# Avalia cada sentença de cada resposta, apresentando o(s) erro(s) da determinada \n",
    "#sentença\n",
    "for r in corpus_respostas:\n",
    "    sdoc = cogroo.grammar_check(r)\n",
    "    for s in sdoc.sentences:\n",
    "        str_sentences = str(s)\n",
    "        d = cogroo.grammar_check(str_sentences)\n",
    "        err = d.mistakes\n",
    "        print(\"\\n\\n\",str_sentences,\" ~ \",err, \"\\n\\n\")\n",
    "    print(\"\\n\\nErros: \", len(sdoc.mistakes))"
   ]
  },
  {
   "cell_type": "markdown",
   "metadata": {},
   "source": [
    "\n",
    "ETAPA 1.ii) \n",
    "===\n",
    "Verificar Similaridade entre documentos (especificar que tipos de métricas foram utilizadas - string-based; term-based)\n"
   ]
  },
  {
   "cell_type": "code",
   "execution_count": 228,
   "metadata": {
    "collapsed": false
   },
   "outputs": [
    {
     "name": "stdout",
     "output_type": "stream",
     "text": [
      "levenshtein_distance\n",
      " [[nan  0.  0.  0.  0.  0.]\n",
      " [nan nan  0.  0.  0.  0.]\n",
      " [nan nan nan  0.  0.  0.]\n",
      " [nan nan nan nan  0.  0.]\n",
      " [nan nan nan nan nan  0.]\n",
      " [nan nan nan nan nan nan]]\n",
      "\n",
      "\n",
      "jaro distance\n",
      " [[nan  1.  1.  1.  1.  1.]\n",
      " [nan nan  1.  1.  1.  1.]\n",
      " [nan nan nan  1.  1.  1.]\n",
      " [nan nan nan nan  1.  1.]\n",
      " [nan nan nan nan nan  1.]\n",
      " [nan nan nan nan nan nan]]\n",
      "\n",
      "\n",
      "demerau levenshtein distance\n",
      " [[nan  0.  0.  0.  0.  0.]\n",
      " [nan nan  0.  0.  0.  0.]\n",
      " [nan nan nan  0.  0.  0.]\n",
      " [nan nan nan nan  0.  0.]\n",
      " [nan nan nan nan nan  0.]\n",
      " [nan nan nan nan nan nan]]\n",
      "\n",
      "\n",
      "jaro winkler\n",
      " [[nan  1.  1.  1.  1.  1.]\n",
      " [nan nan  1.  1.  1.  1.]\n",
      " [nan nan nan  1.  1.  1.]\n",
      " [nan nan nan nan  1.  1.]\n",
      " [nan nan nan nan nan  1.]\n",
      " [nan nan nan nan nan nan]]\n",
      "\n",
      "\n",
      "hamming distance\n",
      " [[nan  0.  0.  0.  0.  0.]\n",
      " [nan nan  0.  0.  0.  0.]\n",
      " [nan nan nan  0.  0.  0.]\n",
      " [nan nan nan nan  0.  0.]\n",
      " [nan nan nan nan nan  0.]\n",
      " [nan nan nan nan nan nan]]\n",
      "\n",
      "\n",
      "match_rating\n",
      " [[nan  1.  1.  1.  1.  1.]\n",
      " [nan nan  1.  1.  1.  1.]\n",
      " [nan nan nan  1.  1.  1.]\n",
      " [nan nan nan nan  1.  1.]\n",
      " [nan nan nan nan nan  1.]\n",
      " [nan nan nan nan nan nan]]\n",
      "\n",
      "\n",
      "fuzz.ratio\n",
      " [[ nan 100. 100. 100. 100. 100.]\n",
      " [ nan  nan 100. 100. 100. 100.]\n",
      " [ nan  nan  nan 100. 100. 100.]\n",
      " [ nan  nan  nan  nan 100. 100.]\n",
      " [ nan  nan  nan  nan  nan 100.]\n",
      " [ nan  nan  nan  nan  nan  nan]]\n"
     ]
    }
   ],
   "source": [
    "\n",
    "from similarity import calcula_similaridade\n",
    "calcula_similaridade(corpus_respostas)"
   ]
  },
  {
   "cell_type": "markdown",
   "metadata": {},
   "source": [
    "ETAPA 2\n",
    "====\n",
    "Avaliar a similaridade das respostas com base no gabarito. Esta fase é composta pelas seguintes subetapas:\n",
    "1. Construir um dicionário de sinônimos com base no gabarito, onde o termo do gabarito é a chave.\n",
    "2. Avaliar termos de cada uma das respostas. Na existência de sinônimos, o termo será substituído pela respectiva  chave do dicionário."
   ]
  },
  {
   "cell_type": "markdown",
   "metadata": {},
   "source": [
    "### Etapa 2.1"
   ]
  },
  {
   "cell_type": "code",
   "execution_count": 134,
   "metadata": {
    "collapsed": false
   },
   "outputs": [],
   "source": [
    "from pysinonimos.sinonimos import Search, historic\n",
    "gabarito = ['Tais comandos devem ser colocados dentro de um bloco try. Porque no caso de ocorrer um exceção no bloco try, ela será lançado, os demais comandos da bloco serão suspensos, e o controle passará para o primeiro bloco catch que tenha um parâmetro de tipo compatível com a exceção lançada.']\n",
    "stopwords = nltk.corpus.stopwords.words('portuguese')\n",
    "\n",
    "\n",
    "gabaritoSemPontuacao=[]\n",
    "for g in gabarito: \n",
    "    gabaritoSemPontuacao.append(re.sub('[,.]', '', g)) #retirar pontuação\n",
    "\n",
    "words=[]    \n",
    "for g in gabaritoSemPontuacao:\n",
    "\twords = g.lower().split() #colocar em caixa baixa e dividir sentença em termos\n",
    "\n",
    "\n",
    "dicionario = dict()\n",
    "#Cria dicionário com palavras do gabarito que não estão nas stopwords\n",
    "for w in words: \n",
    "    if w not in stopwords:\n",
    "        dicionario[w]=[]\n",
    "\n",
    "\n",
    "#Cada chave do dicionário é atribuída a respectiva lista de sinônimos\n",
    "for k in iter(dicionario.keys()):\n",
    "    key = Search(k)\n",
    "    syn = key.synonyms()\n",
    "    if (isinstance(syn,list)):\n",
    "        dicionario[k]=syn\n",
    "        \n"
   ]
  },
  {
   "cell_type": "markdown",
   "metadata": {},
   "source": [
    "### Etapa 2.2"
   ]
  },
  {
   "cell_type": "code",
   "execution_count": 160,
   "metadata": {
    "collapsed": false
   },
   "outputs": [
    {
     "name": "stdout",
     "output_type": "stream",
     "text": [
      "['Tais comandos devem ser colocados dentro de um bloco try. Porque no caso de ocorrer um exceção no bloco try, ela será lançado, os demais comandos da bloco serão suspensos, e o controle passará para o primeiro bloco catch que tenha um parâmetro de modelo compatível com a exceção lançada.', 'Tais comandos devem ser colocados dentro de um bloco try. Porque no caso de ocorrer um exceção no bloco try, ela será lançado, os demais comandos da bloco serão suspensos, e o controle passará para o primeiro bloco catch que tenha um parâmetro de tipo compatível com a exceção lançada.', 'Tais comandos devem ser colocados dentro de um bloco try. Porque no caso de ocorrer um exceção no bloco try, ela será lançado, os demais comandos da bloco serão suspensos, e o controle passará para o primeiro bloco catch que tenha um parâmetro de tipo compatível com a exceção lançada.', 'Tais comandos devem ser colocados dentro de um bloco try. Porque no caso de ocorrer um exceção no bloco try, ela será lançado, os demais comandos da bloco serão suspensos, e o controle passará para o primeiro bloco catch que tenha um parâmetro de tipo compatível com a exceção lançada.']\n",
      "['tais comandos devem tipo** colocados dentro bloco try porque caso ocorrer exceção bloco try lançado demais comandos bloco suspensos comandos** passará primeiro bloco catch parâmetro tipo** compatível exceção lançada', 'tais comandos devem tipo** colocados dentro bloco try porque caso ocorrer exceção bloco try lançado demais comandos bloco suspensos comandos** passará primeiro bloco catch parâmetro tipo compatível exceção lançada', 'tais comandos devem tipo** colocados dentro bloco try porque caso ocorrer exceção bloco try lançado demais comandos bloco suspensos comandos** passará primeiro bloco catch parâmetro tipo compatível exceção lançada', 'tais comandos devem tipo** colocados dentro bloco try porque caso ocorrer exceção bloco try lançado demais comandos bloco suspensos comandos** passará primeiro bloco catch parâmetro tipo compatível exceção lançada']\n"
     ]
    }
   ],
   "source": [
    "'''\n",
    "Parâmetros:\n",
    "values -> dicionário\n",
    "searchFor - > termo de pesquisa \n",
    "\n",
    "Retorno:\n",
    "a chave correspondente ao parâmetro especificado em searchFor\n",
    "'''\n",
    "def search(values, searchFor):\n",
    "    for k in values:\n",
    "        for v in values[k]:\n",
    "            if searchFor in v:\n",
    "                return k\n",
    "    return None \n",
    "\n",
    "\n",
    "#Procura em cada resposta a existência do termo como valor no dicionário. \n",
    "#Caso exista, troca o termo sinônimo pela chave\n",
    "normalizedString = []\n",
    "for index,r in enumerate(respostasSemPontuacao):\n",
    "    sentence = []\n",
    "    words = r.lower().split()\n",
    "    for w in words:\n",
    "        if w not in stopwords:\n",
    "            syn =search(dicionario,w)\n",
    "            if w != syn and syn!= None:\n",
    "                #print(\"doc[\",index,\"]\",w,\" ~ \",search(dicionario,w))\n",
    "                sentence.append(syn)\n",
    "            else:\n",
    "                sentence.append(w)\n",
    "    #print(' '.join([str(x) for x in sentence]))\n",
    "    normalizedString.append(' '.join([str(x) for x in sentence]))\n",
    "print(respostas)\n",
    "print(normalizedString)\n",
    "    \n",
    "       "
   ]
  }
 ],
 "metadata": {
  "anaconda-cloud": {},
  "kernelspec": {
   "display_name": "Python [default]",
   "language": "python",
   "name": "python3"
  },
  "language_info": {
   "codemirror_mode": {
    "name": "ipython",
    "version": 3
   },
   "file_extension": ".py",
   "mimetype": "text/x-python",
   "name": "python",
   "nbconvert_exporter": "python",
   "pygments_lexer": "ipython3",
   "version": "3.5.2"
  },
  "nbpresent": {
   "slides": {},
   "themes": {
    "default": "e7a3ecc7-4d1b-4dcb-9674-200348dcbd3d",
    "theme": {
     "e7a3ecc7-4d1b-4dcb-9674-200348dcbd3d": {
      "id": "e7a3ecc7-4d1b-4dcb-9674-200348dcbd3d",
      "palette": {
       "19cc588f-0593-49c9-9f4b-e4d7cc113b1c": {
        "id": "19cc588f-0593-49c9-9f4b-e4d7cc113b1c",
        "rgb": [
         252,
         252,
         252
        ]
       },
       "31af15d2-7e15-44c5-ab5e-e04b16a89eff": {
        "id": "31af15d2-7e15-44c5-ab5e-e04b16a89eff",
        "rgb": [
         68,
         68,
         68
        ]
       },
       "50f92c45-a630-455b-aec3-788680ec7410": {
        "id": "50f92c45-a630-455b-aec3-788680ec7410",
        "rgb": [
         155,
         177,
         192
        ]
       },
       "c5cc3653-2ee1-402a-aba2-7caae1da4f6c": {
        "id": "c5cc3653-2ee1-402a-aba2-7caae1da4f6c",
        "rgb": [
         43,
         126,
         184
        ]
       },
       "efa7f048-9acb-414c-8b04-a26811511a21": {
        "id": "efa7f048-9acb-414c-8b04-a26811511a21",
        "rgb": [
         25.118061674008803,
         73.60176211453744,
         107.4819383259912
        ]
       }
      },
      "rules": {
       "blockquote": {
        "color": "50f92c45-a630-455b-aec3-788680ec7410"
       },
       "code": {
        "font-family": "Anonymous Pro"
       },
       "h1": {
        "color": "c5cc3653-2ee1-402a-aba2-7caae1da4f6c",
        "font-family": "Lato",
        "font-size": 8
       },
       "h2": {
        "color": "c5cc3653-2ee1-402a-aba2-7caae1da4f6c",
        "font-family": "Lato",
        "font-size": 6
       },
       "h3": {
        "color": "50f92c45-a630-455b-aec3-788680ec7410",
        "font-family": "Lato",
        "font-size": 5.5
       },
       "h4": {
        "color": "c5cc3653-2ee1-402a-aba2-7caae1da4f6c",
        "font-family": "Lato",
        "font-size": 5
       },
       "h5": {
        "font-family": "Lato"
       },
       "h6": {
        "font-family": "Lato"
       },
       "h7": {
        "font-family": "Lato"
       },
       "pre": {
        "font-family": "Anonymous Pro",
        "font-size": 4
       }
      },
      "text-base": {
       "font-family": "Merriweather",
       "font-size": 4
      }
     }
    }
   }
  }
 },
 "nbformat": 4,
 "nbformat_minor": 1
}
