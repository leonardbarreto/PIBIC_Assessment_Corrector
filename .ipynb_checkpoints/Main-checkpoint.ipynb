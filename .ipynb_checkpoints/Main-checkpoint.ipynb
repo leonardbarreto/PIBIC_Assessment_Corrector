{
 "cells": [
  {
   "cell_type": "markdown",
   "metadata": {},
   "source": [
    "**ETAPA** 1\n",
    "===\n",
    "Avaliar a qualidade das respostas, independente do gabarito, pautadas na ocorrência de:\n",
    "1. erros de grafia;\n",
    "2. erros gramaticais;  "
   ]
  },
  {
   "cell_type": "code",
   "execution_count": 9,
   "metadata": {
    "collapsed": false
   },
   "outputs": [
    {
     "name": "stdout",
     "output_type": "stream",
     "text": [
      "comandos  ~>  comando\n",
      "bloco  ~>  floco\n",
      "bloco  ~>  floco\n",
      "comandos  ~>  comando\n",
      "bloco  ~>  floco\n",
      "controle  ~>  console\n",
      "bloco  ~>  floco\n",
      "parâmetro  ~>  barômetro\n",
      "8  erro(s)\n",
      "(%): 16.00\n"
     ]
    }
   ],
   "source": [
    "respostas = ['Tais comandos devem ser colocados dentro de um bloco try. Porque no caso de ocorrer um exceção no bloco try, ela será lançado, os demais comandos da bloco serão suspensos, e o controle passará para o primeiro bloco catch que tenha um parâmetro de tipo compatível com a exceção lançada.','Tais comandos devem ser colocados dentro de um bloco try. Porque no caso de ocorrer um exceção no bloco try, ela será lançado, os demais comandos da bloco serão suspensos, e o controle passará para o primeiro bloco catch que tenha um parâmetro de tipo compatível com a exceção lançada.','Tais comandos devem ser colocados dentro de um bloco try. Porque no caso de ocorrer um exceção no bloco try, ela será lançado, os demais comandos da bloco serão suspensos, e o controle passará para o primeiro bloco catch que tenha um parâmetro de tipo compatível com a exceção lançada.','Tais comandos devem ser colocados dentro de um bloco try. Porque no caso de ocorrer um exceção no bloco try, ela será lançado, os demais comandos da bloco serão suspensos, e o controle passará para o primeiro bloco catch que tenha um parâmetro de tipo compatível com a exceção lançada.']\n",
    "\n",
    "import re\n",
    "import SpellChecker as sc\n",
    "from nltk.corpus import wordnet\n",
    "\n",
    "respostasSemPontuacao=[]\n",
    "for r in respostas:\n",
    "    respostasSemPontuacao.append(re.sub('[,.]', '', r))\n",
    "    \n",
    "for r in respostasSemPontuacao:\n",
    "\twords = r.lower().split()\n",
    "\n",
    "# Verifica o número de erros entre os termos e a correção\n",
    "errors = 0\n",
    "doc_size = len(words)\n",
    "for w in words:\n",
    "    if not wordnet.synsets(w): #se o termo não estiver em inglês\n",
    "        if w != sc.correction(w):\n",
    "            print(w,\" ~> \",sc.correction(w))\n",
    "            errors+=1\n",
    "err_per=(errors/doc_size)*100\n",
    "print(errors,\" erro(s)\\n(%%): %.2f\" %err_per)"
   ]
  },
  {
   "cell_type": "code",
   "execution_count": null,
   "metadata": {
    "collapsed": true
   },
   "outputs": [],
   "source": []
  },
  {
   "cell_type": "markdown",
   "metadata": {},
   "source": [
    "ANÁLISE GRAMATICAL\n",
    "===\n",
    "> A Análise gramatical é realizada sobre o conjunto de respostas original, ou seja, considera-se o texto na íntegra, com pontuações, etc.\n",
    "\n",
    "> Uso do Cogroo (https://github.com/gpassero/cogroo4py) para análise gramatical\n",
    "\n",
    "* Deve-se executar o arquivo cogroo4py.jar no console\n",
    "\n",
    "> ``` $ java -jar cogroo4py.jar & ```\n"
   ]
  },
  {
   "cell_type": "code",
   "execution_count": 15,
   "metadata": {
    "collapsed": false
   },
   "outputs": [
    {
     "name": "stdout",
     "output_type": "stream",
     "text": [
      "\n",
      "\n",
      " Tais comandos devem ser colocados dentro de um bloco try.  ~  [] \n",
      "\n",
      "\n",
      "\n",
      "\n",
      " Porque no caso de ocorrer um exceção no bloco try, ela será lançado, os demais comandos da bloco serão suspensos, e o controle passará para o primeiro bloco catch que tenha um parâmetro de tipo compatível com a exceção lançada.  ~  [[xml:105] Os artigos concordam com o substantivo a que se referem., [xml:114] Os determinantes concordam com o substantivo a que se referem.] \n",
      "\n",
      "\n",
      "\n",
      "\n",
      "Erros:  2\n",
      "\n",
      "\n",
      " Tais comandos devem ser colocados dentro de um bloco try.  ~  [] \n",
      "\n",
      "\n",
      "\n",
      "\n",
      " Porque no caso de ocorrer um exceção no bloco try, ela será lançado, os demais comandos da bloco serão suspensos, e o controle passará para o primeiro bloco catch que tenha um parâmetro de tipo compatível com a exceção lançada.  ~  [[xml:105] Os artigos concordam com o substantivo a que se referem., [xml:114] Os determinantes concordam com o substantivo a que se referem.] \n",
      "\n",
      "\n",
      "\n",
      "\n",
      "Erros:  2\n",
      "\n",
      "\n",
      " Tais comandos devem ser colocados dentro de um bloco try.  ~  [] \n",
      "\n",
      "\n",
      "\n",
      "\n",
      " Porque no caso de ocorrer um exceção no bloco try, ela será lançado, os demais comandos da bloco serão suspensos, e o controle passará para o primeiro bloco catch que tenha um parâmetro de tipo compatível com a exceção lançada.  ~  [[xml:105] Os artigos concordam com o substantivo a que se referem., [xml:114] Os determinantes concordam com o substantivo a que se referem.] \n",
      "\n",
      "\n",
      "\n",
      "\n",
      "Erros:  2\n",
      "\n",
      "\n",
      " Tais comandos devem ser colocados dentro de um bloco try.  ~  [] \n",
      "\n",
      "\n",
      "\n",
      "\n",
      " Porque no caso de ocorrer um exceção no bloco try, ela será lançado, os demais comandos da bloco serão suspensos, e o controle passará para o primeiro bloco catch que tenha um parâmetro de tipo compatível com a exceção lançada.  ~  [[xml:105] Os artigos concordam com o substantivo a que se referem., [xml:114] Os determinantes concordam com o substantivo a que se referem.] \n",
      "\n",
      "\n",
      "\n",
      "\n",
      "Erros:  2\n"
     ]
    }
   ],
   "source": [
    "from cogroo_interface import Cogroo\n",
    "\n",
    "cogroo = Cogroo.Instance()\n",
    "# Avalia cada sentença de cada resposta, apresentando o(s) erro(s) da determinada \n",
    "#sentença\n",
    "for r in respostas:\n",
    "    sdoc = cogroo.grammar_check(r)\n",
    "    for s in sdoc.sentences:\n",
    "        str_sentences = str(s)\n",
    "        d = cogroo.grammar_check(str_sentences)\n",
    "        err = d.mistakes\n",
    "        print(\"\\n\\n\",str_sentences,\" ~ \",err, \"\\n\\n\")\n",
    "    print(\"\\n\\nErros: \", len(sdoc.mistakes))\n",
    "\n"
   ]
  },
  {
   "cell_type": "markdown",
   "metadata": {},
   "source": [
    "\n",
    "ETAPA 1.ii) \n",
    "===\n",
    "Verificar Similaridade entre documentos\n"
   ]
  },
  {
   "cell_type": "code",
   "execution_count": 7,
   "metadata": {
    "collapsed": false
   },
   "outputs": [
    {
     "name": "stdout",
     "output_type": "stream",
     "text": [
      "levenshtein_distance\n",
      " [[nan  0.  0.  0.]\n",
      " [nan nan  0.  0.]\n",
      " [nan nan nan  0.]\n",
      " [nan nan nan nan]]\n",
      "\n",
      "\n",
      "jaro distance\n",
      " [[nan  1.  1.  1.]\n",
      " [nan nan  1.  1.]\n",
      " [nan nan nan  1.]\n",
      " [nan nan nan nan]]\n",
      "\n",
      "\n",
      "demerau levenshtein distance\n",
      " [[nan  0.  0.  0.]\n",
      " [nan nan  0.  0.]\n",
      " [nan nan nan  0.]\n",
      " [nan nan nan nan]]\n",
      "\n",
      "\n",
      "jaro winkler\n",
      " [[nan  1.  1.  1.]\n",
      " [nan nan  1.  1.]\n",
      " [nan nan nan  1.]\n",
      " [nan nan nan nan]]\n",
      "\n",
      "\n",
      "hamming distance\n",
      " [[nan  0.  0.  0.]\n",
      " [nan nan  0.  0.]\n",
      " [nan nan nan  0.]\n",
      " [nan nan nan nan]]\n",
      "\n",
      "\n",
      "match_rating\n",
      " [[nan  1.  1.  1.]\n",
      " [nan nan  1.  1.]\n",
      " [nan nan nan  1.]\n",
      " [nan nan nan nan]]\n",
      "\n",
      "\n",
      "fuzz.ratio\n",
      " [[ nan 100. 100. 100.]\n",
      " [ nan  nan 100. 100.]\n",
      " [ nan  nan  nan 100.]\n",
      " [ nan  nan  nan  nan]]\n"
     ]
    }
   ],
   "source": [
    "\n",
    "from similarity import calcula_similaridade\n",
    "calcula_similaridade(respostas)"
   ]
  },
  {
   "cell_type": "markdown",
   "metadata": {},
   "source": [
    "ETAPA 2\n",
    "====\n",
    "Avaliar a similaridade das respostas com base no gabarito. Esta fase é composta pelas seguintes subetapas:\n",
    "1. Construir um dicionário de sinônimos com base no gabarito, onde o termo do gabarito é a chave.\n",
    "2. Avaliar termos de cada uma das respostas. Na existência de sinônimos, o termo será substituído pela respectiva  chave do dicionário."
   ]
  },
  {
   "cell_type": "code",
   "execution_count": 107,
   "metadata": {
    "collapsed": false
   },
   "outputs": [
    {
     "name": "stdout",
     "output_type": "stream",
     "text": [
      "False\n",
      "{'compatível': ['adaptável', 'comportável', 'conciliável', 'harmonizável', 'patível', 'coadunável', 'compossível'], 'passará': [], 'suspensos': ['pêndulos', 'cortados', 'parados', 'detidos', 'estagnados', 'impedidos', 'represados', 'retidos', 'indecisos', 'pendentes', 'pendurados', 'pênseis', 'aéreos', 'atrasados', 'dependurados', 'estacados', 'inseguros', 'interditos', 'interruptos', 'levantados'], 'demais': ['excessivo', 'demasiado', 'exorbitante', 'além da conta', 'além da medida', 'excessivamente', 'demasiadamente', 'intensamente', 'descomedidamente', 'ademais', 'além disso', 'além desse fato', 'outros', 'restantes'], 'lançada': ['apresentada'], 'bloco': ['aglomerado', 'massa', 'caderneta', 'talonário', 'talão', 'caderno', 'união', 'agrupamento', 'ajuntamento', 'batelada', 'bando', 'grupo', 'conjunto', 'quantidade', 'cordão', 'cortejo', 'grêmio', 'sociedade', 'associação', 'coalizão', 'trato', 'aliança', 'acordo', 'quadra', 'quarteirão', 'prédio', 'entrada', 'bloqueio'], 'comandos': ['gestãos', 'gestões', 'gerenciamentos', 'supervisões', 'gerências', 'coordenações', 'controles', 'chefias', 'administrações', 'governos', 'autoridades', 'dianteiras', 'frentes', 'lideranças', 'órgãos', 'mandados', 'mandos', 'prescrições'], 'dentro': ['anexo', 'incluso', 'incluído', 'incorporado', 'entre', 'interiormente', 'no interior', 'no íntimo', 'no meio', 'adentro'], 'ocorrer': ['acontecer', 'suceder', 'dar-se', 'verificar-se', 'decorrer', 'passar-se', 'desenrolar-se', 'realizar-se', 'processar-se', 'haver', 'transcorrer', 'calhar', 'intercorrer', 'sobrevir', 'advir', 'sobrechegar', 'lembrar', 'sugerir', 'surgir', 'assomar', 'despontar', 'acorrer', 'irromper', 'dirigir-se', 'encaminhar-se', 'aparecer', 'chegar', 'ir', 'vir', 'correr', 'afluir', 'acudir', 'ajudar', 'socorrer', 'assistir', 'auxiliar', 'intervir', 'remediar', 'prevenir'], 'tipo': ['espécie', 'gênero', 'classe', 'categoria', 'qualidade', 'variedade', 'casta', 'laia', 'espécime', 'espécimen', 'modelo', 'exemplo', 'exemplar', 'molde', 'protótipo', 'padrão', 'paradigma', 'arquétipo', 'matriz', 'amostra', 'standard', 'característica', 'traço', 'forma', 'perfil', 'particularidade', 'propriedade', 'constituição', 'maneira', 'modo', 'jeito', 'natureza', 'condição', 'especificidade', 'conformação', 'conformidade', 'jaez', 'sujeito', 'indivíduo', 'cara', 'fulano', 'beltrano', 'ser', 'pessoa', 'cidadão', 'homem', 'personagem', 'criatura', 'extravagante', 'excêntrico', 'exótico', 'incomum', 'singular', 'original', 'esquisito', 'bizarro', 'estrambólico', 'estranho', 'esdrúxulo', 'símbolo', 'imagem', 'representação', 'expressão', 'personificação', 'encarnação', 'cânone', 'espelho', 'ideal', 'caráter', 'letra', 'fonte', 'sinal', 'marca', 'cunho'], 'exceção': ['isenção', 'exclusão', 'restrição', 'reserva', 'ressalva', 'desvio', 'privilégio', 'vantagem', 'prerrogativa', 'regalia'], 'parâmetro': ['padrão', 'medida', 'critério', 'fator', 'princípio', 'preceito', 'orientação', 'modelo', 'norma', 'regra', 'referência', 'indicador', 'fundamento', 'razão', 'paradigma', 'método', 'procedimento', 'processo', 'característica', 'propriedade', 'especificação', 'informação', 'dado', 'base', 'constante', 'variável', 'valor', 'opção'], 'tais': [], 'catch': [], 'lançado': ['emitido', 'instalado', 'assente', 'impelido', 'enviado', 'expedido', 'transmitido', 'divulgado', 'publicado', 'difundido', 'disseminado', 'apresentado', 'arrojado', 'distribuído', 'introduzido', 'registrado', 'direcionado', 'instituído', 'promovido', 'exarado'], 'ser': ['existir', 'viver', 'estar', 'achar-se', 'encontrar-se', 'tornar-se', 'ficar', 'virar', 'fazer-se', 'referir-se', 'relacionar-se', 'significar', 'concernir', 'tratar-se', 'respeitar', 'interessar', 'tocar', 'competir', 'incumbir', 'tanger', 'acontecer', 'ocorrer', 'decorrer', 'suceder', 'desenrolar-se', 'passar-se', 'dar-se', 'processar-se', 'transcorrer', 'valer', 'custar', 'corresponder', 'equivaler', 'servir', 'constituir', 'consistir', 'resumir-se', 'compor-se', 'descender', 'originar-se', 'provir', 'resultar', 'criatura', 'organismo', 'ente', 'entidade', 'pessoa', 'homem', 'indivíduo', 'individualidade', 'figura', 'animal', 'planta', 'consciência', 'eu', 'íntimo', 'existência', 'vida', 'realidade', 'natureza', 'criação', 'mundo', 'essência', 'ser humano'], 'caso': ['acontecimento', 'ocorrência', 'fato', 'evento', 'sucedido', 'acontecido', 'feito', 'ato', 'situação', 'circunstância', 'conjunção', 'conjuntura', 'cenário', 'contexto', 'quadro', 'condição', 'eventualidade', 'hipótese', 'acaso', 'contingência', 'possibilidade', 'oportunidade', 'casualidade', 'aventura', 'romance', 'flerte', 'relação', 'amante', 'cacho', 'se', 'senão', 'no caso de', 'na hipótese de', 'na condição de', 'desde que', 'causa', 'ação', 'processo', 'pleito', 'demanda', 'desentendimento', 'confusão', 'divergência', 'desavença', 'desacordo', 'discórdia', 'briga', 'dissensão', 'desordem', 'escândalo', 'dificuldade', 'problema', 'inconveniente', 'impedimento', 'obstáculo', 'empecilho', 'embaraço', 'narrativa', 'narração', 'história', 'conto', 'anedota', 'flexão', 'declinação', 'no caso de', 'nesse caso', 'neste caso', 'pouco-caso', 'fazer pouco caso'], 'porque': ['ocasião', 'princípio', 'causa', 'justificação', 'motivo', 'razão', 'esclarecimento', 'explicação', 'móvel', 'justificativa', 'móbil'], 'try': [], 'controle': ['gestão', 'poderio', 'administração', 'comando', 'direção', 'gerência', 'manejo', 'liderança', 'poder', 'mando', 'domínio', 'autoridade', 'controlo', 'governo', 'autocontrole', 'contenção', 'limitação', 'restrição', 'equilíbrio', 'moderação', 'comedimento', 'vistoria', 'fiscalização', 'exame', 'inspeção', 'verificação', 'supervisão', 'vigilância', 'avaliação', 'monitoramento', 'monitorização'], 'primeiro': ['primo', 'anterior', 'antecedente', 'precedente', 'preexistente', 'antecipado', 'preliminar', 'pregresso', 'elementar', 'primário', 'rudimentar', 'essencial', 'fundamental', 'principal', 'primordial', 'básico', 'indispensável', 'primitivo', 'inicial', 'original', 'originário', 'inaugural', 'exordial', 'preambular', 'primevo', 'melhor', 'superior', 'maioral', 'excelente', 'antes', 'anteriormente', 'previamente', 'no início', 'no começo', 'à frente', 'inicialmente', 'preliminarmente', 'primeiramente', 'antes de tudo', 'primogênito', 'mencionado', 'citado', 'referido', 'dito', 'apontado', 'vencedor', 'campeão', 'vitorioso'], 'devem': ['precisam'], 'colocados': ['instalados', 'dispostos', 'situados', 'posicionados', 'contados', 'comercializados', 'vendidos', 'distribuídos', 'ordenados', 'dirigidos', 'aplicados', 'drogados', 'chapados']}\n"
     ]
    }
   ],
   "source": [
    "from pysinonimos.sinonimos import Search, historic\n",
    "gabarito = ['Tais comandos devem ser colocados dentro de um bloco try. Porque no caso de ocorrer um exceção no bloco try, ela será lançado, os demais comandos da bloco serão suspensos, e o controle passará para o primeiro bloco catch que tenha um parâmetro de tipo compatível com a exceção lançada.']\n",
    "stopwords = nltk.corpus.stopwords.words('portuguese')\n",
    "\n",
    "\n",
    "gabaritoSemPontuacao=[]\n",
    "for g in gabarito: \n",
    "    gabaritoSemPontuacao.append(re.sub('[,.]', '', g)) #retirar pontuação\n",
    "\n",
    "words=[]    \n",
    "for g in gabaritoSemPontuacao:\n",
    "\twords = g.lower().split() #colocar em caixa baixa e dividir sentença em termos\n",
    "\n",
    "\n",
    "dicionario = dict()\n",
    "#Cria dicionário com palavras do gabarito qua não estão nas stopwords\n",
    "for w in words: \n",
    "    if w not in stopwords:\n",
    "        dicionario[w]=[]\n",
    "\n",
    "\n",
    "#Cada chave do dicionário é atribuída a respectiva lista de sinônimos\n",
    "for k in iter(dicionario.keys()):\n",
    "    key = Search(k)\n",
    "    syn = key.synonyms()\n",
    "    if (isinstance(syn,list)):\n",
    "        dicionario[k]=syn\n",
    "    \n",
    "\n",
    "\n"
   ]
  }
 ],
 "metadata": {
  "anaconda-cloud": {},
  "kernelspec": {
   "display_name": "Python [default]",
   "language": "python",
   "name": "python3"
  },
  "language_info": {
   "codemirror_mode": {
    "name": "ipython",
    "version": 3
   },
   "file_extension": ".py",
   "mimetype": "text/x-python",
   "name": "python",
   "nbconvert_exporter": "python",
   "pygments_lexer": "ipython3",
   "version": "3.5.2"
  },
  "nbpresent": {
   "slides": {},
   "themes": {
    "default": "e7a3ecc7-4d1b-4dcb-9674-200348dcbd3d",
    "theme": {
     "e7a3ecc7-4d1b-4dcb-9674-200348dcbd3d": {
      "id": "e7a3ecc7-4d1b-4dcb-9674-200348dcbd3d",
      "palette": {
       "19cc588f-0593-49c9-9f4b-e4d7cc113b1c": {
        "id": "19cc588f-0593-49c9-9f4b-e4d7cc113b1c",
        "rgb": [
         252,
         252,
         252
        ]
       },
       "31af15d2-7e15-44c5-ab5e-e04b16a89eff": {
        "id": "31af15d2-7e15-44c5-ab5e-e04b16a89eff",
        "rgb": [
         68,
         68,
         68
        ]
       },
       "50f92c45-a630-455b-aec3-788680ec7410": {
        "id": "50f92c45-a630-455b-aec3-788680ec7410",
        "rgb": [
         155,
         177,
         192
        ]
       },
       "c5cc3653-2ee1-402a-aba2-7caae1da4f6c": {
        "id": "c5cc3653-2ee1-402a-aba2-7caae1da4f6c",
        "rgb": [
         43,
         126,
         184
        ]
       },
       "efa7f048-9acb-414c-8b04-a26811511a21": {
        "id": "efa7f048-9acb-414c-8b04-a26811511a21",
        "rgb": [
         25.118061674008803,
         73.60176211453744,
         107.4819383259912
        ]
       }
      },
      "rules": {
       "blockquote": {
        "color": "50f92c45-a630-455b-aec3-788680ec7410"
       },
       "code": {
        "font-family": "Anonymous Pro"
       },
       "h1": {
        "color": "c5cc3653-2ee1-402a-aba2-7caae1da4f6c",
        "font-family": "Lato",
        "font-size": 8
       },
       "h2": {
        "color": "c5cc3653-2ee1-402a-aba2-7caae1da4f6c",
        "font-family": "Lato",
        "font-size": 6
       },
       "h3": {
        "color": "50f92c45-a630-455b-aec3-788680ec7410",
        "font-family": "Lato",
        "font-size": 5.5
       },
       "h4": {
        "color": "c5cc3653-2ee1-402a-aba2-7caae1da4f6c",
        "font-family": "Lato",
        "font-size": 5
       },
       "h5": {
        "font-family": "Lato"
       },
       "h6": {
        "font-family": "Lato"
       },
       "h7": {
        "font-family": "Lato"
       },
       "pre": {
        "font-family": "Anonymous Pro",
        "font-size": 4
       }
      },
      "text-base": {
       "font-family": "Merriweather",
       "font-size": 4
      }
     }
    }
   }
  }
 },
 "nbformat": 4,
 "nbformat_minor": 1
}
