{
 "cells": [
  {
   "cell_type": "markdown",
   "metadata": {},
   "source": [
    "# Carregar conjunto de documentos"
   ]
  },
  {
   "cell_type": "code",
   "execution_count": 1,
   "metadata": {
    "collapsed": false
   },
   "outputs": [
    {
     "name": "stdout",
     "output_type": "stream",
     "text": [
      "['watchdog timer: esse temporizador reinicializa o microcontrolador (sistema operacional), quando ocorre a falha em atualizar o registrador. Logo, esse evento externo é enviado para um endereço pré-definido, onde o mesmo será tratado. Assim, após o tratamento do evento, o sistema volta a operar à partir de onde ocorreu o desvio.', 'Um desvio em um programa ocorre quando alguma condição esvio prevista ocorre anteriormente à instrução de desvio. A instrução de desvio básica é a GOTO, que leva o programa para a linha determinada nesta instrução.', 'Incondicional -> ocorre independente de qualquer fator. Nesse caso ocorrera o GOTO. Condicional -> depende de algumas condições a serem atendidas a partir de testes. Esses desvios ocorrem quando o programa sai da sua sequencia de funcionamento.', 'Desvio acontece quando há necessidade do operador intervir no programa. Pode ser programável ou de forma imediata de acordo com a necessidade.', 'O desvio ocorre sempre que o programa sai de sequência normal de execução. Existe o desvio incondicional que ocorre quano o programa sai da sequencia normal de execução e é desviado para outro ponto da memória do programa independente de qualquer condição, o desvio ocorre sem depender de nada. ', 'Quando da problema no registrador (program counter) ou no controlador do programa para microcontroladores.']\n"
     ]
    }
   ],
   "source": [
    "import os\n",
    "from itertools import islice\n",
    "\n",
    "path=\"/home/leonard/Faculdades/ESTACIO/Projetos/IC/2017-2018/Luiz/Dados/SistMicroprocessadores\"\n",
    "def encontraArquivosEmPastaRecursivamente(pasta, extensao):\n",
    "    arquivosTxt = []\n",
    "    caminhoAbsoluto = os.path.abspath(pasta)\n",
    "    for pastaAtual, subPastas, arquivos  in os.walk(caminhoAbsoluto):\n",
    "        arquivosTxt.extend([os.path.join(pastaAtual,arquivo) for arquivo in arquivos if arquivo.endswith('.txt')])\n",
    "    return arquivosTxt\n",
    "\n",
    "\n",
    "arquivos = encontraArquivosEmPastaRecursivamente(path, '.txt')\n",
    "\n",
    "'''\n",
    "Padrão do arquivo\n",
    "1a linha: <nota atribuída> de <valor da questão>\n",
    "2a linha: em branco\n",
    "3a linha em diante: resposta\n",
    "'''\n",
    "corpus_respostas=[]\n",
    "for a in arquivos:\n",
    "    arq = open(a,'r')\n",
    "    with open(a) as lines:\n",
    "        #lines = arq.readlines()\n",
    "        lines = [lines.rstrip(\"\\n\") for lines in arq] #retirar o caracter de fim de linha\n",
    "        # then skip the next 2\n",
    "        for line in islice(lines, 3):\n",
    "            pass\n",
    "        corpus_respostas.append(line)\n",
    "    arq.close()\n",
    "print(corpus_respostas)       "
   ]
  },
  {
   "cell_type": "markdown",
   "metadata": {},
   "source": [
    "**ETAPA** 1\n",
    "===\n",
    "Avaliar a qualidade das respostas, independente do gabarito, pautadas na ocorrência de:\n",
    "1. erros de grafia;\n",
    "2. erros gramaticais;  "
   ]
  },
  {
   "cell_type": "code",
   "execution_count": 2,
   "metadata": {
    "collapsed": false
   },
   "outputs": [
    {
     "name": "stdout",
     "output_type": "stream",
     "text": [
      "registrador  ~>  registrado\n",
      "controlador  ~>  consolador\n",
      "2  erro(s)\n",
      "(%): 14.29\n"
     ]
    }
   ],
   "source": [
    "respostas = ['Tais comandos devem ser colocados dentro de um bloco try. Porque no caso de ocorrer um exceção no bloco try, ela será lançado, os demais comandos da bloco serão suspensos, e o controle passará para o primeiro bloco catch que tenha um parâmetro de modelo compatível com a exceção lançada.','Tais comandos devem ser colocados dentro de um bloco try. Porque no caso de ocorrer um exceção no bloco try, ela será lançado, os demais comandos da bloco serão suspensos, e o controle passará para o primeiro bloco catch que tenha um parâmetro de tipo compatível com a exceção lançada.','Tais comandos devem ser colocados dentro de um bloco try. Porque no caso de ocorrer um exceção no bloco try, ela será lançado, os demais comandos da bloco serão suspensos, e o controle passará para o primeiro bloco catch que tenha um parâmetro de tipo compatível com a exceção lançada.','Tais comandos devem ser colocados dentro de um bloco try. Porque no caso de ocorrer um exceção no bloco try, ela será lançado, os demais comandos da bloco serão suspensos, e o controle passará para o primeiro bloco catch que tenha um parâmetro de tipo compatível com a exceção lançada.']\n",
    "\n",
    "import re\n",
    "import SpellChecker as sc\n",
    "from nltk.corpus import wordnet\n",
    "\n",
    "respostasSemPontuacao=[]\n",
    "for r in corpus_respostas:\n",
    "    respostasSemPontuacao.append(re.sub('[->(),.]', '', r))\n",
    "    \n",
    "for r in respostasSemPontuacao:\n",
    "\twords = r.lower().split()\n",
    "\n",
    "# Verifica o número de erros entre os termos e a correção\n",
    "errors = 0\n",
    "doc_size = len(words)\n",
    "for w in words:\n",
    "    if not wordnet.synsets(w): #se o termo não estiver em inglês\n",
    "        if w != sc.correction(w):\n",
    "            print(w,\" ~> \",sc.correction(w))\n",
    "            errors+=1\n",
    "err_per=(errors/doc_size)*100\n",
    "print(errors,\" erro(s)\\n(%%): %.2f\" %err_per)"
   ]
  },
  {
   "cell_type": "markdown",
   "metadata": {},
   "source": [
    "ANÁLISE GRAMATICAL\n",
    "===\n",
    "> A Análise gramatical é realizada sobre o conjunto de respostas original, ou seja, considera-se o texto na íntegra, com pontuações, etc.\n",
    "\n",
    "> Uso do Cogroo (https://github.com/gpassero/cogroo4py) para análise gramatical\n",
    "\n",
    "* Deve-se executar o arquivo cogroo4py.jar no console\n",
    "\n",
    "> ``` $ java -jar cogroo4py.jar & ```\n"
   ]
  },
  {
   "cell_type": "code",
   "execution_count": 3,
   "metadata": {
    "collapsed": false
   },
   "outputs": [
    {
     "name": "stdout",
     "output_type": "stream",
     "text": [
      "\n",
      "\n",
      " watchdog timer:  ~  [] \n",
      "\n",
      "\n",
      "\n",
      "\n",
      " esse temporizador reinicializa o microcontrolador (sistema operacional), quando ocorre a falha em atualizar o registrador.  ~  [] \n",
      "\n",
      "\n",
      "\n",
      "\n",
      " Logo, esse evento externo é enviado para um endereço pré-definido, onde o mesmo será tratado.  ~  [] \n",
      "\n",
      "\n",
      "\n",
      "\n",
      " Assim, após o tratamento do evento, o sistema volta a operar à partir de onde ocorreu o desvio.  ~  [[xml:4] Não acontece crase antes de verbo.] \n",
      "\n",
      "\n",
      "\n",
      "\n",
      "Erros:  1\n",
      "\n",
      "\n",
      " Um desvio em um programa ocorre quando alguma condição esvio prevista ocorre anteriormente à instrução de desvio.  ~  [] \n",
      "\n",
      "\n",
      "\n",
      "\n",
      " A instrução de desvio básica é a GOTO, que leva o programa para a linha determinada nesta instrução.  ~  [] \n",
      "\n",
      "\n",
      "\n",
      "\n",
      "Erros:  0\n",
      "\n",
      "\n",
      " Incondicional -> ocorre independente de qualquer fator.  ~  [] \n",
      "\n",
      "\n",
      "\n",
      "\n",
      " Nesse caso ocorrera o GOTO.  ~  [] \n",
      "\n",
      "\n",
      "\n",
      "\n",
      " Condicional -> depende de algumas condições a serem atendidas a partir de testes.  ~  [] \n",
      "\n",
      "\n",
      "\n",
      "\n",
      " Esses desvios ocorrem quando o programa sai da sua sequencia de funcionamento.  ~  [] \n",
      "\n",
      "\n",
      "\n",
      "\n",
      "Erros:  0\n",
      "\n",
      "\n",
      " Desvio acontece quando há necessidade do operador intervir no programa.  ~  [] \n",
      "\n",
      "\n",
      "\n",
      "\n",
      " Pode ser programável ou de forma imediata de acordo com a necessidade.  ~  [] \n",
      "\n",
      "\n",
      "\n",
      "\n",
      "Erros:  0\n",
      "\n",
      "\n",
      " O desvio ocorre sempre que o programa sai de sequência normal de execução.  ~  [] \n",
      "\n",
      "\n",
      "\n",
      "\n",
      " Existe o desvio incondicional que ocorre quano o programa sai da sequencia normal de execução e é desviado para outro ponto da memória do programa independente de qualquer condição, o desvio ocorre sem depender de nada.  ~  [] \n",
      "\n",
      "\n",
      "\n",
      "\n",
      "Erros:  0\n",
      "\n",
      "\n",
      " Quando da problema no registrador (program counter) ou no controlador do programa para microcontroladores.  ~  [[xml:114] Os determinantes concordam com o substantivo a que se referem.] \n",
      "\n",
      "\n",
      "\n",
      "\n",
      "Erros:  1\n"
     ]
    }
   ],
   "source": [
    "from cogroo_interface import Cogroo\n",
    "\n",
    "cogroo = Cogroo.Instance()\n",
    "# Avalia cada sentença de cada resposta, apresentando o(s) erro(s) da determinada \n",
    "#sentença\n",
    "for r in corpus_respostas:\n",
    "    sdoc = cogroo.grammar_check(r)\n",
    "    for s in sdoc.sentences:\n",
    "        str_sentences = str(s)\n",
    "        d = cogroo.grammar_check(str_sentences)\n",
    "        err = d.mistakes\n",
    "        print(\"\\n\\n\",str_sentences,\" ~ \",err, \"\\n\\n\")\n",
    "    print(\"\\n\\nErros: \", len(sdoc.mistakes))"
   ]
  },
  {
   "cell_type": "markdown",
   "metadata": {},
   "source": [
    "\n",
    "ETAPA 1.ii) \n",
    "===\n",
    "Verificar Similaridade entre documentos (especificar que tipos de métricas foram utilizadas - string-based; term-based)\n"
   ]
  },
  {
   "cell_type": "code",
   "execution_count": 6,
   "metadata": {
    "collapsed": false
   },
   "outputs": [
    {
     "ename": "TypeError",
     "evalue": "unsupported operand type(s) for -: 'builtin_function_or_method' and 'int'",
     "output_type": "error",
     "traceback": [
      "\u001b[0;31m---------------------------------------------------------------------------\u001b[0m",
      "\u001b[0;31mTypeError\u001b[0m                                 Traceback (most recent call last)",
      "\u001b[0;32m<ipython-input-6-08f9be1729c8>\u001b[0m in \u001b[0;36m<module>\u001b[0;34m()\u001b[0m\n\u001b[1;32m      1\u001b[0m \u001b[0;32mfrom\u001b[0m \u001b[0msimilarity2\u001b[0m \u001b[0;32mimport\u001b[0m \u001b[0;34m*\u001b[0m\u001b[0;34m\u001b[0m\u001b[0m\n\u001b[1;32m      2\u001b[0m \u001b[0;34m\u001b[0m\u001b[0m\n\u001b[0;32m----> 3\u001b[0;31m \u001b[0mgrafico_similaridade\u001b[0m\u001b[0;34m(\u001b[0m\u001b[0msim\u001b[0m\u001b[0;34m(\u001b[0m\u001b[0mlevenshtein\u001b[0m\u001b[0;34m,\u001b[0m\u001b[0mcorpus_respostas\u001b[0m\u001b[0;34m)\u001b[0m\u001b[0;34m,\u001b[0m\u001b[0;34m\"Levenshtein\"\u001b[0m\u001b[0;34m)\u001b[0m\u001b[0;34m\u001b[0m\u001b[0m\n\u001b[0m\u001b[1;32m      4\u001b[0m \u001b[0mgrafico_similaridade\u001b[0m\u001b[0;34m(\u001b[0m\u001b[0msim\u001b[0m\u001b[0;34m(\u001b[0m\u001b[0mjaro\u001b[0m\u001b[0;34m,\u001b[0m\u001b[0mcorpus_respostas\u001b[0m\u001b[0;34m)\u001b[0m\u001b[0;34m,\u001b[0m\u001b[0;34m\"Jaro\"\u001b[0m\u001b[0;34m)\u001b[0m\u001b[0;34m\u001b[0m\u001b[0m\n\u001b[1;32m      5\u001b[0m \u001b[0mgrafico_similaridade\u001b[0m\u001b[0;34m(\u001b[0m\u001b[0msim\u001b[0m\u001b[0;34m(\u001b[0m\u001b[0mdamerau\u001b[0m\u001b[0;34m,\u001b[0m\u001b[0mcorpus_respostas\u001b[0m\u001b[0;34m)\u001b[0m\u001b[0;34m,\u001b[0m\u001b[0;34m\"Damerau\"\u001b[0m\u001b[0;34m)\u001b[0m\u001b[0;34m\u001b[0m\u001b[0m\n",
      "\u001b[0;32m/home/leonard/Faculdades/ESTACIO/Projetos/IC/2017-2018/Luiz/Codigos/src/similarity2.py\u001b[0m in \u001b[0;36mgrafico_similaridade\u001b[0;34m(mtx, title)\u001b[0m\n\u001b[1;32m     61\u001b[0m     \u001b[0mcmap\u001b[0m \u001b[0;34m=\u001b[0m \u001b[0msns\u001b[0m\u001b[0;34m.\u001b[0m\u001b[0mdiverging_palette\u001b[0m\u001b[0;34m(\u001b[0m\u001b[0;36m220\u001b[0m\u001b[0;34m,\u001b[0m \u001b[0;36m10\u001b[0m\u001b[0;34m,\u001b[0m \u001b[0mas_cmap\u001b[0m\u001b[0;34m=\u001b[0m\u001b[0;32mTrue\u001b[0m\u001b[0;34m)\u001b[0m\u001b[0;34m\u001b[0m\u001b[0m\n\u001b[1;32m     62\u001b[0m \u001b[0;34m\u001b[0m\u001b[0m\n\u001b[0;32m---> 63\u001b[0;31m     \u001b[0msns\u001b[0m\u001b[0;34m.\u001b[0m\u001b[0mheatmap\u001b[0m\u001b[0;34m(\u001b[0m\u001b[0mmtx\u001b[0m\u001b[0;34m,\u001b[0m \u001b[0mmask\u001b[0m\u001b[0;34m=\u001b[0m\u001b[0mmask\u001b[0m\u001b[0;34m,\u001b[0m \u001b[0mcmap\u001b[0m\u001b[0;34m=\u001b[0m\u001b[0mcmap\u001b[0m\u001b[0;34m,\u001b[0m \u001b[0mvmax\u001b[0m\u001b[0;34m=\u001b[0m\u001b[0mmtx\u001b[0m\u001b[0;34m.\u001b[0m\u001b[0mmax\u001b[0m\u001b[0;34m(\u001b[0m\u001b[0;34m)\u001b[0m\u001b[0;34m,\u001b[0m \u001b[0mcenter\u001b[0m\u001b[0;34m=\u001b[0m\u001b[0;36m0\u001b[0m\u001b[0;34m,\u001b[0m\u001b[0msquare\u001b[0m\u001b[0;34m=\u001b[0m\u001b[0;32mTrue\u001b[0m\u001b[0;34m,\u001b[0m \u001b[0mlinewidths\u001b[0m\u001b[0;34m=\u001b[0m\u001b[0;36m.5\u001b[0m\u001b[0;34m,\u001b[0m \u001b[0mcbar_kws\u001b[0m\u001b[0;34m=\u001b[0m\u001b[0;34m{\u001b[0m\u001b[0;34m\"shrink\"\u001b[0m\u001b[0;34m:\u001b[0m \u001b[0;36m.5\u001b[0m\u001b[0;34m}\u001b[0m\u001b[0;34m)\u001b[0m\u001b[0;34m\u001b[0m\u001b[0m\n\u001b[0m\u001b[1;32m     64\u001b[0m \u001b[0;34m\u001b[0m\u001b[0m\n\u001b[1;32m     65\u001b[0m     \u001b[0mplt\u001b[0m\u001b[0;34m.\u001b[0m\u001b[0mshow\u001b[0m\u001b[0;34m(\u001b[0m\u001b[0;34m)\u001b[0m\u001b[0;34m\u001b[0m\u001b[0m\n",
      "\u001b[0;32m/home/leonard/anaconda3/lib/python3.5/site-packages/seaborn/matrix.py\u001b[0m in \u001b[0;36mheatmap\u001b[0;34m(data, vmin, vmax, cmap, center, robust, annot, fmt, annot_kws, linewidths, linecolor, cbar, cbar_kws, cbar_ax, square, xticklabels, yticklabels, mask, ax, **kwargs)\u001b[0m\n\u001b[1;32m    515\u001b[0m     plotter = _HeatMapper(data, vmin, vmax, cmap, center, robust, annot, fmt,\n\u001b[1;32m    516\u001b[0m                           \u001b[0mannot_kws\u001b[0m\u001b[0;34m,\u001b[0m \u001b[0mcbar\u001b[0m\u001b[0;34m,\u001b[0m \u001b[0mcbar_kws\u001b[0m\u001b[0;34m,\u001b[0m \u001b[0mxticklabels\u001b[0m\u001b[0;34m,\u001b[0m\u001b[0;34m\u001b[0m\u001b[0m\n\u001b[0;32m--> 517\u001b[0;31m                           yticklabels, mask)\n\u001b[0m\u001b[1;32m    518\u001b[0m \u001b[0;34m\u001b[0m\u001b[0m\n\u001b[1;32m    519\u001b[0m     \u001b[0;31m# Add the pcolormesh kwargs here\u001b[0m\u001b[0;34m\u001b[0m\u001b[0;34m\u001b[0m\u001b[0m\n",
      "\u001b[0;32m/home/leonard/anaconda3/lib/python3.5/site-packages/seaborn/matrix.py\u001b[0m in \u001b[0;36m__init__\u001b[0;34m(self, data, vmin, vmax, cmap, center, robust, annot, fmt, annot_kws, cbar, cbar_kws, xticklabels, yticklabels, mask)\u001b[0m\n\u001b[1;32m    166\u001b[0m         \u001b[0;31m# Determine good default values for the colormapping\u001b[0m\u001b[0;34m\u001b[0m\u001b[0;34m\u001b[0m\u001b[0m\n\u001b[1;32m    167\u001b[0m         self._determine_cmap_params(plot_data, vmin, vmax,\n\u001b[0;32m--> 168\u001b[0;31m                                     cmap, center, robust)\n\u001b[0m\u001b[1;32m    169\u001b[0m \u001b[0;34m\u001b[0m\u001b[0m\n\u001b[1;32m    170\u001b[0m         \u001b[0;31m# Sort out the annotations\u001b[0m\u001b[0;34m\u001b[0m\u001b[0;34m\u001b[0m\u001b[0m\n",
      "\u001b[0;32m/home/leonard/anaconda3/lib/python3.5/site-packages/seaborn/matrix.py\u001b[0m in \u001b[0;36m_determine_cmap_params\u001b[0;34m(self, plot_data, vmin, vmax, cmap, center, robust)\u001b[0m\n\u001b[1;32m    225\u001b[0m         \u001b[0;31m# Recenter a divergent colormap\u001b[0m\u001b[0;34m\u001b[0m\u001b[0;34m\u001b[0m\u001b[0m\n\u001b[1;32m    226\u001b[0m         \u001b[0;32mif\u001b[0m \u001b[0mcenter\u001b[0m \u001b[0;32mis\u001b[0m \u001b[0;32mnot\u001b[0m \u001b[0;32mNone\u001b[0m\u001b[0;34m:\u001b[0m\u001b[0;34m\u001b[0m\u001b[0m\n\u001b[0;32m--> 227\u001b[0;31m             \u001b[0mvrange\u001b[0m \u001b[0;34m=\u001b[0m \u001b[0mmax\u001b[0m\u001b[0;34m(\u001b[0m\u001b[0mvmax\u001b[0m \u001b[0;34m-\u001b[0m \u001b[0mcenter\u001b[0m\u001b[0;34m,\u001b[0m \u001b[0mcenter\u001b[0m \u001b[0;34m-\u001b[0m \u001b[0mvmin\u001b[0m\u001b[0;34m)\u001b[0m\u001b[0;34m\u001b[0m\u001b[0m\n\u001b[0m\u001b[1;32m    228\u001b[0m             \u001b[0mnormlize\u001b[0m \u001b[0;34m=\u001b[0m \u001b[0mmpl\u001b[0m\u001b[0;34m.\u001b[0m\u001b[0mcolors\u001b[0m\u001b[0;34m.\u001b[0m\u001b[0mNormalize\u001b[0m\u001b[0;34m(\u001b[0m\u001b[0mcenter\u001b[0m \u001b[0;34m-\u001b[0m \u001b[0mvrange\u001b[0m\u001b[0;34m,\u001b[0m \u001b[0mcenter\u001b[0m \u001b[0;34m+\u001b[0m \u001b[0mvrange\u001b[0m\u001b[0;34m)\u001b[0m\u001b[0;34m\u001b[0m\u001b[0m\n\u001b[1;32m    229\u001b[0m             \u001b[0mcmin\u001b[0m\u001b[0;34m,\u001b[0m \u001b[0mcmax\u001b[0m \u001b[0;34m=\u001b[0m \u001b[0mnormlize\u001b[0m\u001b[0;34m(\u001b[0m\u001b[0;34m[\u001b[0m\u001b[0mvmin\u001b[0m\u001b[0;34m,\u001b[0m \u001b[0mvmax\u001b[0m\u001b[0;34m]\u001b[0m\u001b[0;34m)\u001b[0m\u001b[0;34m\u001b[0m\u001b[0m\n",
      "\u001b[0;31mTypeError\u001b[0m: unsupported operand type(s) for -: 'builtin_function_or_method' and 'int'"
     ]
    }
   ],
   "source": [
    "from similarity2 import *\n",
    "\n",
    "grafico_similaridade(sim(levenshtein,corpus_respostas),\"Levenshtein\")\n",
    "grafico_similaridade(sim(jaro,corpus_respostas),\"Jaro\")\n",
    "grafico_similaridade(sim(damerau,corpus_respostas),\"Damerau\")\n",
    "grafico_similaridade(sim(jaro_winkler,corpus_respostas),\"Jaro Winkler\")\n",
    "grafico_similaridade(sim(hamming,corpus_respostas),\"Hamming\")\n",
    "grafico_similaridade(sim(match_rating_comparison,corpus_respostas),\"match_rating_comparison\")\n",
    "\n"
   ]
  },
  {
   "cell_type": "markdown",
   "metadata": {},
   "source": [
    "ETAPA 2\n",
    "====\n",
    "Avaliar a similaridade das respostas com base no gabarito. Esta fase é composta pelas seguintes subetapas:\n",
    "1. Construir um dicionário de sinônimos com base no gabarito, onde o termo do gabarito é a chave.\n",
    "2. Avaliar termos de cada uma das respostas. Na existência de sinônimos, o termo será substituído pela respectiva  chave do dicionário."
   ]
  },
  {
   "cell_type": "markdown",
   "metadata": {},
   "source": [
    "### Etapa 2.1"
   ]
  },
  {
   "cell_type": "code",
   "execution_count": null,
   "metadata": {
    "collapsed": false
   },
   "outputs": [],
   "source": [
    "import nltk\n",
    "from pysinonimos.sinonimos import Search, historic\n",
    "gabarito = ['Tais comandos devem ser colocados dentro de um bloco try. Porque no caso de ocorrer um exceção no bloco try, ela será lançado, os demais comandos da bloco serão suspensos, e o controle passará para o primeiro bloco catch que tenha um parâmetro de tipo compatível com a exceção lançada.']\n",
    "stopwords = nltk.corpus.stopwords.words('portuguese')\n",
    "\n",
    "\n",
    "gabaritoSemPontuacao=[]\n",
    "for g in gabarito: \n",
    "    gabaritoSemPontuacao.append(re.sub('[,.]', '', g)) #retirar pontuação\n",
    "\n",
    "words=[]    \n",
    "for g in gabaritoSemPontuacao:\n",
    "\twords = g.lower().split() #colocar em caixa baixa e dividir sentença em termos\n",
    "\n",
    "\n",
    "dicionario = dict()\n",
    "#Cria dicionário com palavras do gabarito que não estão nas stopwords\n",
    "for w in words: \n",
    "    if w not in stopwords:\n",
    "        dicionario[w]=[]\n",
    "\n",
    "\n",
    "#Cada chave do dicionário é atribuída a respectiva lista de sinônimos\n",
    "for k in iter(dicionario.keys()):\n",
    "    key = Search(k)\n",
    "    syn = key.synonyms()\n",
    "    if (isinstance(syn,list)):\n",
    "        dicionario[k]=syn\n",
    "        \n"
   ]
  },
  {
   "cell_type": "markdown",
   "metadata": {},
   "source": [
    "### Etapa 2.2"
   ]
  },
  {
   "cell_type": "code",
   "execution_count": null,
   "metadata": {
    "collapsed": false
   },
   "outputs": [],
   "source": [
    "'''\n",
    "Parâmetros:\n",
    "values -> dicionário\n",
    "searchFor - > termo de pesquisa \n",
    "\n",
    "Retorno:\n",
    "a chave correspondente ao parâmetro especificado em searchFor\n",
    "'''\n",
    "def search(values, searchFor):\n",
    "    for k in values:\n",
    "        for v in values[k]:\n",
    "            if searchFor in v:\n",
    "                return k\n",
    "    return None \n",
    "\n",
    "\n",
    "#Procura em cada resposta a existência do termo como valor no dicionário. \n",
    "#Caso exista, troca o termo sinônimo pela chave\n",
    "normalizedString = []\n",
    "for index,r in enumerate(respostasSemPontuacao):\n",
    "    sentence = []\n",
    "    words = r.lower().split()\n",
    "    for w in words:\n",
    "        if w not in stopwords:\n",
    "            syn =search(dicionario,w)\n",
    "            if w != syn and syn!= None:\n",
    "                #print(\"doc[\",index,\"]\",w,\" ~ \",search(dicionario,w))\n",
    "                sentence.append(syn)\n",
    "            else:\n",
    "                sentence.append(w)\n",
    "    #print(' '.join([str(x) for x in sentence]))\n",
    "    normalizedString.append(' '.join([str(x) for x in sentence]))\n",
    "print(corpus_respostas)\n",
    "print(normalizedString)\n",
    "    \n",
    "       "
   ]
  },
  {
   "cell_type": "code",
   "execution_count": null,
   "metadata": {
    "collapsed": false
   },
   "outputs": [],
   "source": []
  }
 ],
 "metadata": {
  "anaconda-cloud": {},
  "kernelspec": {
   "display_name": "Python [default]",
   "language": "python",
   "name": "python3"
  },
  "language_info": {
   "codemirror_mode": {
    "name": "ipython",
    "version": 3
   },
   "file_extension": ".py",
   "mimetype": "text/x-python",
   "name": "python",
   "nbconvert_exporter": "python",
   "pygments_lexer": "ipython3",
   "version": "3.5.2"
  },
  "nbpresent": {
   "slides": {},
   "themes": {
    "default": "e7a3ecc7-4d1b-4dcb-9674-200348dcbd3d",
    "theme": {
     "e7a3ecc7-4d1b-4dcb-9674-200348dcbd3d": {
      "id": "e7a3ecc7-4d1b-4dcb-9674-200348dcbd3d",
      "palette": {
       "19cc588f-0593-49c9-9f4b-e4d7cc113b1c": {
        "id": "19cc588f-0593-49c9-9f4b-e4d7cc113b1c",
        "rgb": [
         252,
         252,
         252
        ]
       },
       "31af15d2-7e15-44c5-ab5e-e04b16a89eff": {
        "id": "31af15d2-7e15-44c5-ab5e-e04b16a89eff",
        "rgb": [
         68,
         68,
         68
        ]
       },
       "50f92c45-a630-455b-aec3-788680ec7410": {
        "id": "50f92c45-a630-455b-aec3-788680ec7410",
        "rgb": [
         155,
         177,
         192
        ]
       },
       "c5cc3653-2ee1-402a-aba2-7caae1da4f6c": {
        "id": "c5cc3653-2ee1-402a-aba2-7caae1da4f6c",
        "rgb": [
         43,
         126,
         184
        ]
       },
       "efa7f048-9acb-414c-8b04-a26811511a21": {
        "id": "efa7f048-9acb-414c-8b04-a26811511a21",
        "rgb": [
         25.118061674008803,
         73.60176211453744,
         107.4819383259912
        ]
       }
      },
      "rules": {
       "blockquote": {
        "color": "50f92c45-a630-455b-aec3-788680ec7410"
       },
       "code": {
        "font-family": "Anonymous Pro"
       },
       "h1": {
        "color": "c5cc3653-2ee1-402a-aba2-7caae1da4f6c",
        "font-family": "Lato",
        "font-size": 8
       },
       "h2": {
        "color": "c5cc3653-2ee1-402a-aba2-7caae1da4f6c",
        "font-family": "Lato",
        "font-size": 6
       },
       "h3": {
        "color": "50f92c45-a630-455b-aec3-788680ec7410",
        "font-family": "Lato",
        "font-size": 5.5
       },
       "h4": {
        "color": "c5cc3653-2ee1-402a-aba2-7caae1da4f6c",
        "font-family": "Lato",
        "font-size": 5
       },
       "h5": {
        "font-family": "Lato"
       },
       "h6": {
        "font-family": "Lato"
       },
       "h7": {
        "font-family": "Lato"
       },
       "pre": {
        "font-family": "Anonymous Pro",
        "font-size": 4
       }
      },
      "text-base": {
       "font-family": "Merriweather",
       "font-size": 4
      }
     }
    }
   }
  }
 },
 "nbformat": 4,
 "nbformat_minor": 1
}
